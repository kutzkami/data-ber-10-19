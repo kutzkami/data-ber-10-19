{
 "cells": [
  {
   "cell_type": "markdown",
   "metadata": {},
   "source": [
    "In the cell below, create a Python function that wraps your previous solution for the Bag of Words lab.\n",
    "\n",
    "Requirements:\n",
    "\n",
    "1. Your function should accept the following parameters:\n",
    "    * `docs` [REQUIRED] - array of document paths.\n",
    "    * `stop_words` [OPTIONAL] - array of stop words. The default value is an empty array.\n",
    "\n",
    "1. Your function should return a Python object that contains the following:\n",
    "    * `bag_of_words` - array of strings of normalized unique words in the corpus.\n",
    "    * `term_freq` - array of the term-frequency vectors."
   ]
  },
  {
   "cell_type": "code",
   "execution_count": 50,
   "metadata": {},
   "outputs": [],
   "source": [
    "# Import required libraries\n",
    "import os\n",
    "# Define function\n",
    "def get_bow_from_docs(docs, stop_words=[]):\n",
    "    \n",
    "# In the function, first define the variables you will use such as `corpus`, `bag_of_words`, and `term_freq`.   \n",
    "    \"\"\"\n",
    "    Loop `docs` and read the content of each doc into a string in `corpus`.\n",
    "    Remember to convert the doc content to lowercases and remove punctuation.\n",
    "    \"\"\"\n",
    "    corpus = []\n",
    "    final_text = ''\n",
    "    for i in docs:        \n",
    "        m = open(i)\n",
    "        text = m.read()\n",
    "        text += ';'\n",
    "        final_text += text\n",
    "        m.close()\n",
    "    final_text = final_text.strip('')\n",
    "    corpus = final_text.split(\";\")\n",
    "    new_corpus = []\n",
    "    for i in corpus:\n",
    "        if i:\n",
    "            new_corpus.append(i.lower().replace('.', ''))\n",
    "    corpus = new_corpus\n",
    "    \n",
    "    \"\"\"\n",
    "    Loop `corpus`. Append the terms in each doc into the `bag_of_words` array. The terms in `bag_of_words` \n",
    "    should be unique which means before adding each term you need to check if it's already added to the array.\n",
    "    In addition, check if each term is in the `stop_words` array. Only append the term to `bag_of_words`\n",
    "    if it is not a stop word.\n",
    "    \"\"\"\n",
    "    bag_of_words = []\n",
    "    for i in corpus:\n",
    "        i.split(' ')\n",
    "        for j in i.split(' '):\n",
    "            if j not in bag_of_words and j not in stop_words:\n",
    "                bag_of_words.append(j)  \n",
    "    \n",
    "    \"\"\"\n",
    "    Loop `corpus` again. For each doc string, count the number of occurrences of each term in `bag_of_words`. \n",
    "    Create an array for each doc's term frequency and append it to `term_freq`.\n",
    "    \"\"\"\n",
    "    term_freq = []\n",
    "    play = []\n",
    "    for i in corpus:\n",
    "        play.append(i.split(\" \"))\n",
    "    for i in play:\n",
    "        counting = []\n",
    "        for word in bag_of_words:\n",
    "            counting.append(i.count(word))\n",
    "        term_freq.append(counting)\n",
    "    \n",
    "    # Now return your output as an object\n",
    "    return {\n",
    "        \"bag_of_words\": bag_of_words,\n",
    "        \"term_freq\": term_freq\n",
    "    }\n"
   ]
  },
  {
   "cell_type": "markdown",
   "metadata": {},
   "source": [
    "Test your function without stop words. You should see the output like below:\n",
    "\n",
    "```{'bag_of_words': ['ironhack', 'is', 'cool', 'i', 'love', 'am', 'a', 'student', 'at'], 'term_freq': [[1, 1, 1, 0, 0, 0, 0, 0, 0], [1, 0, 0, 1, 1, 0, 0, 0, 0], [1, 0, 0, 1, 0, 1, 1, 1, 1]]}```"
   ]
  },
  {
   "cell_type": "code",
   "execution_count": 55,
   "metadata": {},
   "outputs": [
    {
     "name": "stdout",
     "output_type": "stream",
     "text": [
      "{'bag_of_words': ['ironhack', 'is', 'cool', 'i', 'love', 'am', 'a', 'student', 'at'], 'term_freq': [[1, 1, 1, 0, 0, 0, 0, 0, 0], [1, 0, 0, 1, 1, 0, 0, 0, 0], [1, 0, 0, 1, 0, 1, 1, 1, 1]]}\n"
     ]
    }
   ],
   "source": [
    "# Define doc paths array\n",
    "docs = (['/Users/kamilakutz/Ironhack/data-ber-10-19/module-1_labs/lab-string-operations/your-code/doc1.txt'\n",
    "          ,'/Users/kamilakutz/Ironhack/data-ber-10-19/module-1_labs/lab-string-operations/your-code/doc2.txt'\n",
    "          ,'/Users/kamilakutz/Ironhack/data-ber-10-19/module-1_labs/lab-string-operations/your-code/doc3.txt'])\n",
    "\n",
    "# Obtain BoW from your function\n",
    "bow = get_bow_from_docs(docs)\n",
    "\n",
    "# Print BoW\n",
    "print(bow)\n"
   ]
  },
  {
   "cell_type": "markdown",
   "metadata": {},
   "source": [
    "If your attempt above is successful, nice work done!\n",
    "\n",
    "Now test your function again with the stop words. In the previous lab we defined the stop words in a large array. In this lab, we'll import the stop words from Scikit-Learn."
   ]
  },
  {
   "cell_type": "code",
   "execution_count": 52,
   "metadata": {},
   "outputs": [
    {
     "name": "stdout",
     "output_type": "stream",
     "text": [
      "frozenset({'up', 'noone', 'nine', 'then', 'rather', 'though', 'under', 'meanwhile', 'without', 'is', 'un', 'ours', 'before', 'co', 'are', 'name', 'ourselves', 'amongst', 'have', 'here', 'beyond', 'due', 'therefore', 'but', 'whoever', 'go', 'every', 'which', 'once', 'him', 'whatever', 'done', 'describe', 'now', 'something', 'neither', 'more', 'into', 'wherever', 'at', 'being', 'seem', 'mill', 'nothing', 'anyway', 'his', 'again', 'yet', 'and', 'much', 'myself', 'on', 'somehow', 'after', 'amoungst', 'none', 'give', 'behind', 'ten', 'couldnt', 'had', 'am', 'until', 'serious', 'eight', 'anything', 'not', 'still', 'be', 'been', 'one', 'only', 'hereby', 'around', 'own', 'fifty', 'them', 'the', 'wherein', 'thin', 'himself', 'across', 'each', 'always', 'three', 'yourselves', 'take', 'whence', 'system', 'same', 'whenever', 'becoming', 'cant', 'would', 'con', 'off', 'should', 'herself', 'least', 'thence', 'both', 'might', 'was', 'hundred', 'any', 'has', 'however', 'what', 'becomes', 'fill', 'sometime', 'move', 'whole', 'several', 'all', 'show', 'eleven', 'towards', 'seemed', 'hereafter', 'between', 'thick', 'please', 'together', 'less', 'eg', 'it', 'as', 'your', 'whose', 'those', 'first', 'beforehand', 'toward', 'these', 'thru', 'become', 'afterwards', 'twelve', 'a', 'beside', 'could', 'hence', 'keep', 'there', 'us', 'even', 'inc', 'by', 'whom', 'may', 'few', 'either', 'he', 'bill', 'throughout', 'you', 'we', 'do', 'nowhere', 'of', 'onto', 'also', 'sometimes', 'she', 'third', 'mostly', 'see', 'never', 'otherwise', 'than', 'often', 'forty', 'de', 'who', 'moreover', 'against', 'perhaps', 'another', 'can', 'among', 'call', 'whereupon', 'sixty', 'yourself', 'former', 'somewhere', 'they', 'further', 'etc', 'everything', 'fifteen', 'other', 'seems', 'with', 'although', 'alone', 'many', 'above', 'next', 'mine', 'or', 'twenty', 'thereupon', 'if', 'during', 'four', 'thus', 'whereby', 'where', 'anywhere', 'its', 'anyhow', 'bottom', 'when', 'their', 'seeming', 'because', 'top', 'while', 'upon', 'cannot', 'full', 'hers', 'side', 'thereafter', 'hereupon', 'amount', 'itself', 'nevertheless', 'namely', 'very', 'latterly', 're', 'whither', 'front', 'yours', 'found', 'cry', 'else', 'since', 'whether', 'anyone', 'to', 'within', 'elsewhere', 'well', 'my', 'five', 'ltd', 'whereafter', 'others', 'why', 'two', 'our', 'in', 'an', 'empty', 'this', 'made', 'most', 'interest', 'per', 'became', 'enough', 'must', 'down', 'from', 'via', 'thereby', 'ever', 'too', 'already', 'except', 'detail', 'latter', 'almost', 'sincere', 'below', 'herein', 'everywhere', 'over', 'last', 'such', 'so', 'themselves', 'ie', 'will', 'get', 'back', 'out', 'about', 'nobody', 'i', 'everyone', 'some', 'put', 'along', 'besides', 'that', 'for', 'whereas', 'me', 'part', 'were', 'find', 'someone', 'therein', 'six', 'nor', 'hasnt', 'how', 'her', 'indeed', 'no', 'fire', 'formerly', 'through'})\n"
     ]
    }
   ],
   "source": [
    "from sklearn.feature_extraction import stop_words\n",
    "print(stop_words.ENGLISH_STOP_WORDS)"
   ]
  },
  {
   "cell_type": "markdown",
   "metadata": {},
   "source": [
    "You should have seen a large list of words that looks like:\n",
    "\n",
    "```frozenset({'across', 'mine', 'cannot', ...})```\n",
    "\n",
    "`frozenset` is a type of Python object that is immutable. In this lab you can use it just like an array without conversion."
   ]
  },
  {
   "cell_type": "markdown",
   "metadata": {},
   "source": [
    "Next, test your function with supplying `stop_words.ENGLISH_STOP_WORDS` as the second parameter."
   ]
  },
  {
   "cell_type": "code",
   "execution_count": 54,
   "metadata": {},
   "outputs": [
    {
     "name": "stdout",
     "output_type": "stream",
     "text": [
      "{'bag_of_words': ['ironhack', 'cool', 'love', 'student'], 'term_freq': [[1, 1, 0, 0], [1, 0, 1, 0], [1, 0, 0, 1]]}\n"
     ]
    }
   ],
   "source": [
    "bow = get_bow_from_docs([\n",
    "    '/Users/kamilakutz/Ironhack/data-ber-10-19/module-1_labs/lab-string-operations/your-code/doc1.txt'\n",
    "    ,'/Users/kamilakutz/Ironhack/data-ber-10-19/module-1_labs/lab-string-operations/your-code/doc2.txt'\n",
    "    ,'/Users/kamilakutz/Ironhack/data-ber-10-19/module-1_labs/lab-string-operations/your-code/doc3.txt']\n",
    "    , stop_words.ENGLISH_STOP_WORDS\n",
    ")\n",
    "\n",
    "print(bow)\n"
   ]
  },
  {
   "cell_type": "markdown",
   "metadata": {},
   "source": [
    "You should have seen:\n",
    "\n",
    "```{'bag_of_words': ['ironhack', 'cool', 'love', 'student'], 'term_freq': [[1, 1, 0, 0], [1, 0, 1, 0], [1, 0, 0, 1]]}```"
   ]
  },
  {
   "cell_type": "code",
   "execution_count": null,
   "metadata": {},
   "outputs": [],
   "source": []
  }
 ],
 "metadata": {
  "kernelspec": {
   "display_name": "Python 3",
   "language": "python",
   "name": "python3"
  },
  "language_info": {
   "codemirror_mode": {
    "name": "ipython",
    "version": 3
   },
   "file_extension": ".py",
   "mimetype": "text/x-python",
   "name": "python",
   "nbconvert_exporter": "python",
   "pygments_lexer": "ipython3",
   "version": "3.7.4"
  }
 },
 "nbformat": 4,
 "nbformat_minor": 2
}
