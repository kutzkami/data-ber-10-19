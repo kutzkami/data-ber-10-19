{
 "cells": [
  {
   "cell_type": "code",
   "execution_count": 1,
   "metadata": {},
   "outputs": [],
   "source": [
    "import random\n",
    "shoppers = random.sample(range(40), 20)"
   ]
  },
  {
   "cell_type": "code",
   "execution_count": 8,
   "metadata": {},
   "outputs": [
    {
     "name": "stdout",
     "output_type": "stream",
     "text": [
      "bikes\n",
      "bikes\n",
      "Buy more!\n",
      "Buy more!\n",
      "candybar\n",
      "candybar\n",
      "bikes\n",
      "Buy more!\n",
      "bikes\n",
      "bikes\n",
      "cake\n",
      "cake\n",
      "bikes\n",
      "cake\n",
      "bikes\n",
      "candybar\n",
      "candybar\n",
      "cake\n",
      "Buy more!\n",
      "cake\n"
     ]
    }
   ],
   "source": [
    "for purchase_price in shoppers:\n",
    "\tif int(purchase_price / 10 ) == 3:\n",
    "\t\tprint('candybar')\n",
    "\telif int(purchase_price / 10) == 2:\n",
    "\t\tprint('cake')\n",
    "\telif int(purchase_price / 10) == 1:\n",
    "\t\tprint('bikes')\n",
    "\telse:\n",
    "\t\tprint('Buy more!')"
   ]
  },
  {
   "cell_type": "code",
   "execution_count": 9,
   "metadata": {},
   "outputs": [],
   "source": [
    "rewards = {0: 'Buy more!',\n",
    "           1: 'bike',\n",
    "           2: 'cake',\n",
    "           3: 'candybar'}"
   ]
  },
  {
   "cell_type": "code",
   "execution_count": 10,
   "metadata": {},
   "outputs": [
    {
     "name": "stdout",
     "output_type": "stream",
     "text": [
      "bike\n",
      "bike\n",
      "Buy more!\n",
      "Buy more!\n",
      "candybar\n",
      "candybar\n",
      "bike\n",
      "Buy more!\n",
      "bike\n",
      "bike\n",
      "cake\n",
      "cake\n",
      "bike\n",
      "cake\n",
      "bike\n",
      "candybar\n",
      "candybar\n",
      "cake\n",
      "Buy more!\n",
      "cake\n"
     ]
    }
   ],
   "source": [
    "for purchase_price in shoppers:\n",
    "\t\ttruncated_price = int(purchase_price / 10)\n",
    "\t\tprint(rewards[truncated_price])"
   ]
  },
  {
   "cell_type": "code",
   "execution_count": 17,
   "metadata": {},
   "outputs": [],
   "source": [
    "def candybar():\n",
    "    print('you got a candybar')\n",
    "def bike():\n",
    "    print('you got a bike')\n",
    "def cake():\n",
    "    print('you got a cake')\n",
    "def buy_more():\n",
    "    print('BUY MORE!')\n"
   ]
  },
  {
   "cell_type": "code",
   "execution_count": 20,
   "metadata": {},
   "outputs": [
    {
     "name": "stdout",
     "output_type": "stream",
     "text": [
      "you got a bike\n",
      "you got a bike\n",
      "BUY MORE!\n",
      "BUY MORE!\n",
      "you got a candybar\n",
      "you got a candybar\n",
      "you got a bike\n",
      "BUY MORE!\n",
      "you got a bike\n",
      "you got a bike\n",
      "you got a cake\n",
      "you got a cake\n",
      "you got a bike\n",
      "you got a cake\n",
      "you got a bike\n",
      "you got a candybar\n",
      "you got a candybar\n",
      "you got a cake\n",
      "BUY MORE!\n",
      "you got a cake\n"
     ]
    }
   ],
   "source": [
    "rewards_from_funcs = {0: buy_more,\n",
    "           1: bike,\n",
    "           2: cake,\n",
    "           3: candybar}\n",
    "\n",
    "for purchase_price in shoppers:\n",
    "\t\ttruncated_price = int(purchase_price / 10)\n",
    "\t\trewards_from_funcs[truncated_price]()"
   ]
  },
  {
   "cell_type": "code",
   "execution_count": 29,
   "metadata": {},
   "outputs": [],
   "source": [
    "text = 'Fischers Fritz fischt frische Fische'\n",
    "letter_occurances = {}"
   ]
  },
  {
   "cell_type": "code",
   "execution_count": 30,
   "metadata": {},
   "outputs": [
    {
     "data": {
      "text/plain": [
       "'fischers fritz fischt frische fische'"
      ]
     },
     "execution_count": 30,
     "metadata": {},
     "output_type": "execute_result"
    }
   ],
   "source": [
    "text.lower()"
   ]
  },
  {
   "cell_type": "code",
   "execution_count": 31,
   "metadata": {},
   "outputs": [
    {
     "data": {
      "text/plain": [
       "{'f': 5,\n",
       " 'i': 5,\n",
       " 's': 5,\n",
       " 'c': 4,\n",
       " 'h': 4,\n",
       " 'e': 3,\n",
       " 'r': 3,\n",
       " ' ': 4,\n",
       " 't': 2,\n",
       " 'z': 1}"
      ]
     },
     "execution_count": 31,
     "metadata": {},
     "output_type": "execute_result"
    }
   ],
   "source": [
    "for letter in text.lower():\n",
    "    if letter in letter_occurances:\n",
    "        letter_occurances[letter] += 1\n",
    "    else:\n",
    "        letter_occurances[letter] = 1\n",
    "letter_occurances"
   ]
  },
  {
   "cell_type": "code",
   "execution_count": 33,
   "metadata": {},
   "outputs": [],
   "source": [
    "# namedtuple is a cooler tuple, just google it, also dataclasses"
   ]
  },
  {
   "cell_type": "code",
   "execution_count": null,
   "metadata": {},
   "outputs": [],
   "source": []
  }
 ],
 "metadata": {
  "kernelspec": {
   "display_name": "Python 3",
   "language": "python",
   "name": "python3"
  },
  "language_info": {
   "codemirror_mode": {
    "name": "ipython",
    "version": 3
   },
   "file_extension": ".py",
   "mimetype": "text/x-python",
   "name": "python",
   "nbconvert_exporter": "python",
   "pygments_lexer": "ipython3",
   "version": "3.7.4"
  }
 },
 "nbformat": 4,
 "nbformat_minor": 2
}
