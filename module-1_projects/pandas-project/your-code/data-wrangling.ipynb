{
 "cells": [
  {
   "cell_type": "code",
   "execution_count": 1,
   "metadata": {},
   "outputs": [],
   "source": [
    "# 1. Importing pandas, numpy, re\n",
    "import pandas as pd\n",
    "import numpy as np\n",
    "import re"
   ]
  },
  {
   "cell_type": "code",
   "execution_count": 2,
   "metadata": {},
   "outputs": [],
   "source": [
    "# 2. Reading the downloaded GSAF5.csv file containing very messy data about shark attacks\n",
    "df = pd.read_csv('GSAF5.csv', encoding = \"ISO-8859-1\")"
   ]
  },
  {
   "cell_type": "code",
   "execution_count": 3,
   "metadata": {},
   "outputs": [],
   "source": [
    "# 3. Creating a working copy\n",
    "df_copy = df.copy()"
   ]
  },
  {
   "cell_type": "code",
   "execution_count": 4,
   "metadata": {},
   "outputs": [
    {
     "data": {
      "text/plain": [
       "True"
      ]
     },
     "execution_count": 4,
     "metadata": {},
     "output_type": "execute_result"
    }
   ],
   "source": [
    "# Sanity check :)\n",
    "len(df_copy) == len(df)"
   ]
  },
  {
   "cell_type": "code",
   "execution_count": 5,
   "metadata": {},
   "outputs": [
    {
     "data": {
      "text/plain": [
       "Index(['Case Number', 'Date', 'Year', 'Type', 'Country', 'Area', 'Location',\n",
       "       'Activity', 'Name', 'Sex ', 'Age', 'Injury', 'Fatal (Y/N)', 'Time',\n",
       "       'Species ', 'Investigator or Source', 'pdf', 'href formula', 'href',\n",
       "       'Case Number.1', 'Case Number.2', 'original order', 'Unnamed: 22',\n",
       "       'Unnamed: 23'],\n",
       "      dtype='object')"
      ]
     },
     "execution_count": 5,
     "metadata": {},
     "output_type": "execute_result"
    }
   ],
   "source": [
    "colnames = df_copy.columns\n",
    "colnames"
   ]
  },
  {
   "cell_type": "code",
   "execution_count": 6,
   "metadata": {},
   "outputs": [
    {
     "name": "stdout",
     "output_type": "stream",
     "text": [
      "['Case number', 'Date', 'Year', 'Type', 'Country', 'Area', 'Location', 'Activity', 'Name', 'Sex', 'Age', 'Injury', 'Fatal', 'Time', 'Species', 'Source', 'Pdf', 'Href formula', 'Href', 'Case number 1', 'Case number 2', 'Original order', 'Unnamed 22', 'Unnamed 23']\n"
     ]
    }
   ],
   "source": [
    "# 4. Cleaning the column names\n",
    "colnames = df_copy.columns\n",
    "newcolnames = [i\n",
    "               .capitalize()\n",
    "               .replace('.',' ')\n",
    "               .replace(':', '')\n",
    "               .replace('(y/n)', '')\n",
    "               .replace('Investigator or source', 'Source')\n",
    "               .strip() for i in colnames]\n",
    "print(newcolnames)"
   ]
  },
  {
   "cell_type": "code",
   "execution_count": 7,
   "metadata": {},
   "outputs": [
    {
     "data": {
      "text/html": [
       "<div>\n",
       "<style scoped>\n",
       "    .dataframe tbody tr th:only-of-type {\n",
       "        vertical-align: middle;\n",
       "    }\n",
       "\n",
       "    .dataframe tbody tr th {\n",
       "        vertical-align: top;\n",
       "    }\n",
       "\n",
       "    .dataframe thead th {\n",
       "        text-align: right;\n",
       "    }\n",
       "</style>\n",
       "<table border=\"1\" class=\"dataframe\">\n",
       "  <thead>\n",
       "    <tr style=\"text-align: right;\">\n",
       "      <th></th>\n",
       "      <th>Case number</th>\n",
       "      <th>Date</th>\n",
       "      <th>Year</th>\n",
       "      <th>Type</th>\n",
       "      <th>Country</th>\n",
       "      <th>Area</th>\n",
       "      <th>Location</th>\n",
       "      <th>Activity</th>\n",
       "      <th>Name</th>\n",
       "      <th>Sex</th>\n",
       "      <th>...</th>\n",
       "      <th>Species</th>\n",
       "      <th>Source</th>\n",
       "      <th>Pdf</th>\n",
       "      <th>Href formula</th>\n",
       "      <th>Href</th>\n",
       "      <th>Case number 1</th>\n",
       "      <th>Case number 2</th>\n",
       "      <th>Original order</th>\n",
       "      <th>Unnamed 22</th>\n",
       "      <th>Unnamed 23</th>\n",
       "    </tr>\n",
       "  </thead>\n",
       "  <tbody>\n",
       "    <tr>\n",
       "      <td>0</td>\n",
       "      <td>2016.09.18.c</td>\n",
       "      <td>18-Sep-16</td>\n",
       "      <td>2016</td>\n",
       "      <td>Unprovoked</td>\n",
       "      <td>USA</td>\n",
       "      <td>Florida</td>\n",
       "      <td>New Smyrna Beach, Volusia County</td>\n",
       "      <td>Surfing</td>\n",
       "      <td>male</td>\n",
       "      <td>M</td>\n",
       "      <td>...</td>\n",
       "      <td>NaN</td>\n",
       "      <td>Orlando Sentinel, 9/19/2016</td>\n",
       "      <td>2016.09.18.c-NSB.pdf</td>\n",
       "      <td>http://sharkattackfile.net/spreadsheets/pdf_di...</td>\n",
       "      <td>http://sharkattackfile.net/spreadsheets/pdf_di...</td>\n",
       "      <td>2016.09.18.c</td>\n",
       "      <td>2016.09.18.c</td>\n",
       "      <td>5993</td>\n",
       "      <td>NaN</td>\n",
       "      <td>NaN</td>\n",
       "    </tr>\n",
       "    <tr>\n",
       "      <td>1</td>\n",
       "      <td>2016.09.18.b</td>\n",
       "      <td>18-Sep-16</td>\n",
       "      <td>2016</td>\n",
       "      <td>Unprovoked</td>\n",
       "      <td>USA</td>\n",
       "      <td>Florida</td>\n",
       "      <td>New Smyrna Beach, Volusia County</td>\n",
       "      <td>Surfing</td>\n",
       "      <td>Chucky Luciano</td>\n",
       "      <td>M</td>\n",
       "      <td>...</td>\n",
       "      <td>NaN</td>\n",
       "      <td>Orlando Sentinel, 9/19/2016</td>\n",
       "      <td>2016.09.18.b-Luciano.pdf</td>\n",
       "      <td>http://sharkattackfile.net/spreadsheets/pdf_di...</td>\n",
       "      <td>http://sharkattackfile.net/spreadsheets/pdf_di...</td>\n",
       "      <td>2016.09.18.b</td>\n",
       "      <td>2016.09.18.b</td>\n",
       "      <td>5992</td>\n",
       "      <td>NaN</td>\n",
       "      <td>NaN</td>\n",
       "    </tr>\n",
       "  </tbody>\n",
       "</table>\n",
       "<p>2 rows × 24 columns</p>\n",
       "</div>"
      ],
      "text/plain": [
       "    Case number       Date  Year        Type Country     Area  \\\n",
       "0  2016.09.18.c  18-Sep-16  2016  Unprovoked     USA  Florida   \n",
       "1  2016.09.18.b  18-Sep-16  2016  Unprovoked     USA  Florida   \n",
       "\n",
       "                           Location Activity            Name Sex  ... Species  \\\n",
       "0  New Smyrna Beach, Volusia County  Surfing            male   M  ...     NaN   \n",
       "1  New Smyrna Beach, Volusia County  Surfing  Chucky Luciano   M  ...     NaN   \n",
       "\n",
       "                        Source                       Pdf  \\\n",
       "0  Orlando Sentinel, 9/19/2016      2016.09.18.c-NSB.pdf   \n",
       "1  Orlando Sentinel, 9/19/2016  2016.09.18.b-Luciano.pdf   \n",
       "\n",
       "                                        Href formula  \\\n",
       "0  http://sharkattackfile.net/spreadsheets/pdf_di...   \n",
       "1  http://sharkattackfile.net/spreadsheets/pdf_di...   \n",
       "\n",
       "                                                Href Case number 1  \\\n",
       "0  http://sharkattackfile.net/spreadsheets/pdf_di...  2016.09.18.c   \n",
       "1  http://sharkattackfile.net/spreadsheets/pdf_di...  2016.09.18.b   \n",
       "\n",
       "  Case number 2 Original order Unnamed 22 Unnamed 23  \n",
       "0  2016.09.18.c           5993        NaN        NaN  \n",
       "1  2016.09.18.b           5992        NaN        NaN  \n",
       "\n",
       "[2 rows x 24 columns]"
      ]
     },
     "execution_count": 7,
     "metadata": {},
     "output_type": "execute_result"
    }
   ],
   "source": [
    "# 5. Reasigning the cleaed column names \n",
    "df_copy.columns = newcolnames\n",
    "df_copy.head(2)"
   ]
  },
  {
   "cell_type": "code",
   "execution_count": 8,
   "metadata": {},
   "outputs": [
    {
     "name": "stdout",
     "output_type": "stream",
     "text": [
      "<class 'pandas.core.frame.DataFrame'>\n",
      "RangeIndex: 5992 entries, 0 to 5991\n",
      "Data columns (total 24 columns):\n",
      "Case number       5992 non-null object\n",
      "Date              5992 non-null object\n",
      "Year              5992 non-null int64\n",
      "Type              5992 non-null object\n",
      "Country           5949 non-null object\n",
      "Area              5590 non-null object\n",
      "Location          5496 non-null object\n",
      "Activity          5465 non-null object\n",
      "Name              5792 non-null object\n",
      "Sex               5425 non-null object\n",
      "Age               3311 non-null object\n",
      "Injury            5965 non-null object\n",
      "Fatal             5973 non-null object\n",
      "Time              2779 non-null object\n",
      "Species           3058 non-null object\n",
      "Source            5977 non-null object\n",
      "Pdf               5992 non-null object\n",
      "Href formula      5991 non-null object\n",
      "Href              5989 non-null object\n",
      "Case number 1     5992 non-null object\n",
      "Case number 2     5992 non-null object\n",
      "Original order    5992 non-null int64\n",
      "Unnamed 22        1 non-null object\n",
      "Unnamed 23        2 non-null object\n",
      "dtypes: int64(2), object(22)\n",
      "memory usage: 1.1+ MB\n"
     ]
    }
   ],
   "source": [
    "# 6. Checking general content of the dataframe\n",
    "df_copy.info()"
   ]
  },
  {
   "cell_type": "code",
   "execution_count": 9,
   "metadata": {},
   "outputs": [
    {
     "data": {
      "text/plain": [
       "array(['13h00', '11h00', '10h43', nan, '15h15', '14h30', '15h40',\n",
       "       'Late afternoon', '15h00', '14h00'], dtype=object)"
      ]
     },
     "execution_count": 9,
     "metadata": {},
     "output_type": "execute_result"
    }
   ],
   "source": [
    "# 7. Check how the 'Time' column is structured\n",
    "df_copy['Time'].unique()[:10]"
   ]
  },
  {
   "cell_type": "code",
   "execution_count": 10,
   "metadata": {},
   "outputs": [],
   "source": [
    "# 8. Defining function to categorize the time in categories:\n",
    "\n",
    "def daytime(hour):\n",
    "    if (hour > 4) and (hour <= 8):\n",
    "        return 'Early morning'\n",
    "    elif (hour > 8) and (hour <= 12):\n",
    "        return 'Morning'\n",
    "    elif (hour > 12) and (hour <= 16):\n",
    "        return 'Afternoon'\n",
    "    elif (hour > 16) and (hour <= 20):\n",
    "        return 'Evening'\n",
    "    elif (hour > 20) and (hour <= 24):\n",
    "        return 'Night'\n",
    "    elif (hour >= 0) and (hour <= 4):\n",
    "        return 'Late might'\n",
    "    else:\n",
    "        return i"
   ]
  },
  {
   "cell_type": "code",
   "execution_count": 11,
   "metadata": {},
   "outputs": [],
   "source": [
    "# 9 Starting to clean up the time column\n",
    "time_vals = df_copy['Time']\n",
    "\n",
    "time_cleaning = []\n",
    "\n",
    "for i in time_vals[:]:\n",
    "    if type(i) == float:\n",
    "        time_cleaning.append(i)\n",
    "        continue\n",
    "    if i.split(' ')[0].isalpha() | i.isalpha() :\n",
    "        time_cleaning.append(i)\n",
    "        continue\n",
    "    if type(i) != float and 'h' in i and len(i.strip()) == 5:\n",
    "        hour = int(i.split('h')[0])\n",
    "        time_cleaning.append(daytime(hour))\n",
    "        continue\n",
    "    else:\n",
    "        time_cleaning.append(i)"
   ]
  },
  {
   "cell_type": "code",
   "execution_count": 12,
   "metadata": {},
   "outputs": [
    {
     "data": {
      "text/plain": [
       "True"
      ]
     },
     "execution_count": 12,
     "metadata": {},
     "output_type": "execute_result"
    }
   ],
   "source": [
    "# Sanity check\n",
    "len(time_cleaning) == len(time_vals)"
   ]
  },
  {
   "cell_type": "code",
   "execution_count": 13,
   "metadata": {},
   "outputs": [
    {
     "data": {
      "text/plain": [
       "{' ',\n",
       " '  ',\n",
       " '   ',\n",
       " '\"After dark\"',\n",
       " '\"After lunch\"',\n",
       " '\"Early evening\"',\n",
       " '\"Evening\"',\n",
       " '\"Just before 11h00\"',\n",
       " '\"Night\"',\n",
       " '\"shortly before dusk\"',\n",
       " '--',\n",
       " '03h45 - 04h00',\n",
       " '06h00 -- 07h00',\n",
       " '06j00',\n",
       " '07h00 - 08h00',\n",
       " '08h00 / 09h30',\n",
       " '09h00 - 09h30',\n",
       " '09h00 -10h00',\n",
       " '09h30 / 10h00',\n",
       " '09h30 / 15h30',\n",
       " '10h00 -- 11h00',\n",
       " '10h00 / 11h00',\n",
       " '10h00 or 14h00',\n",
       " '10h30 or 13h30',\n",
       " '10h45-11h15',\n",
       " '11h00 / 11h30',\n",
       " '11h01 -time of ship sinking',\n",
       " '11h115',\n",
       " '12h00 to 14h00',\n",
       " '12h45 / 13h45',\n",
       " '1300',\n",
       " '13h345',\n",
       " '14h00 - 15h00',\n",
       " '14h30 / 15h30',\n",
       " '1500',\n",
       " '15h00 or 15h45',\n",
       " '15h00j',\n",
       " '15j45',\n",
       " '1600',\n",
       " '16h30 or 18h00',\n",
       " '17h00 Sunset',\n",
       " '17h00 or 17h40',\n",
       " '17h00-18h00',\n",
       " '18h15 to 21h30',\n",
       " '18h15-18h30',\n",
       " '18h30 (Sunset)',\n",
       " '18h30?',\n",
       " '19h00 / 20h00',\n",
       " '19h00-20h00',\n",
       " '2 hours after Opperman',\n",
       " '2 hrs before sunset',\n",
       " '20h45 (Sunset)',\n",
       " '30 minutes after 1992.07.08.a',\n",
       " '500',\n",
       " '830',\n",
       " '8:04 PM',\n",
       " '<07h30',\n",
       " '>06h45',\n",
       " '>08h00',\n",
       " '>12h00',\n",
       " '>14h30',\n",
       " '>17h00',\n",
       " '>17h30',\n",
       " 'A.M.',\n",
       " 'AM',\n",
       " 'After 04h00',\n",
       " 'After Dusk',\n",
       " 'After dusk',\n",
       " 'After midnight',\n",
       " 'After noon',\n",
       " 'Afternoon',\n",
       " 'Before 07h00',\n",
       " 'Before 10h30',\n",
       " 'Before daybreak',\n",
       " 'Between 05h00 and 08h00',\n",
       " 'Between 06h00 & 07h20',\n",
       " 'Between 11h00 & 12h00',\n",
       " 'Dark',\n",
       " 'Dawn',\n",
       " 'Daybreak',\n",
       " 'Daytime',\n",
       " 'Dusk',\n",
       " 'Early Morning',\n",
       " 'Early afternoon',\n",
       " 'Early morning',\n",
       " 'Evening',\n",
       " 'FATAL  (Wire netting installed at local beaches after this incident.)',\n",
       " 'Just after 12h00',\n",
       " 'Just before dawn',\n",
       " 'Just before noon',\n",
       " 'Just before sundown',\n",
       " 'Late Afternoon',\n",
       " 'Late afternon',\n",
       " 'Late afternoon',\n",
       " 'Late might',\n",
       " 'Late morning',\n",
       " 'Late night',\n",
       " 'Lunchtime',\n",
       " 'Mid afternoon',\n",
       " 'Mid morning',\n",
       " 'Mid-morning',\n",
       " 'Midday',\n",
       " 'Midday.',\n",
       " 'Midnight',\n",
       " 'Morning',\n",
       " 'Morning ',\n",
       " 'Night',\n",
       " 'Nightfall',\n",
       " 'Noon',\n",
       " 'P.M.',\n",
       " 'Possibly same incident as 2000.08.21',\n",
       " 'Prior to 10h37',\n",
       " 'Ship aban-doned at 03h10',\n",
       " 'Shortly after midnight',\n",
       " 'Shortly before 13h00',\n",
       " 'Sometime between 06h00 & 08hoo',\n",
       " 'Sunset',\n",
       " 'X',\n",
       " 'dusk',\n",
       " nan,\n",
       " 'night',\n",
       " '\\xa0 '}"
      ]
     },
     "execution_count": 13,
     "metadata": {},
     "output_type": "execute_result"
    }
   ],
   "source": [
    "set(time_cleaning)"
   ]
  },
  {
   "cell_type": "code",
   "execution_count": 14,
   "metadata": {},
   "outputs": [],
   "source": [
    "a = []\n",
    "for i in time_cleaning:\n",
    "    if type(i) == str:\n",
    "        if re.findall('^[0-9][0-9]h', i) :\n",
    "            a.append(i[:2])\n",
    "        else:\n",
    "            a.append(i)\n",
    "    else:\n",
    "        a.append(i)"
   ]
  },
  {
   "cell_type": "code",
   "execution_count": 15,
   "metadata": {},
   "outputs": [
    {
     "data": {
      "text/plain": [
       "True"
      ]
     },
     "execution_count": 15,
     "metadata": {},
     "output_type": "execute_result"
    }
   ],
   "source": [
    "# Sanity check\n",
    "len(a) == len(time_cleaning)"
   ]
  },
  {
   "cell_type": "code",
   "execution_count": 16,
   "metadata": {},
   "outputs": [],
   "source": [
    "time_cleaning = a"
   ]
  },
  {
   "cell_type": "code",
   "execution_count": 17,
   "metadata": {},
   "outputs": [],
   "source": [
    "a = []\n",
    "for i in time_cleaning:\n",
    "    if type(i) == str:\n",
    "        if (re.findall('[0-9][0-9]', i)):\n",
    "            a.append(daytime(int(re.findall('[0-9][0-9]', i)[0])))\n",
    "        else:\n",
    "            a.append(i)\n",
    "    else:\n",
    "        a.append(str(i))"
   ]
  },
  {
   "cell_type": "code",
   "execution_count": 18,
   "metadata": {},
   "outputs": [
    {
     "data": {
      "text/plain": [
       "True"
      ]
     },
     "execution_count": 18,
     "metadata": {},
     "output_type": "execute_result"
    }
   ],
   "source": [
    "# Sanity check\n",
    "len(a) == len(time_cleaning)"
   ]
  },
  {
   "cell_type": "code",
   "execution_count": 19,
   "metadata": {},
   "outputs": [
    {
     "data": {
      "text/plain": [
       "{' ',\n",
       " '  ',\n",
       " '   ',\n",
       " '\"After dark\"',\n",
       " '\"After lunch\"',\n",
       " '\"Early evening\"',\n",
       " '\"Evening\"',\n",
       " '\"Night\"',\n",
       " '\"shortly before dusk\"',\n",
       " '--',\n",
       " '2 hours after Opperman',\n",
       " '2 hrs before sunset',\n",
       " '30 minutes after 1992.07.08.a',\n",
       " '500',\n",
       " '830',\n",
       " 'A.M.',\n",
       " 'AM',\n",
       " 'After Dusk',\n",
       " 'After dusk',\n",
       " 'After midnight',\n",
       " 'After noon',\n",
       " 'Afternoon',\n",
       " 'Before daybreak',\n",
       " 'Dark',\n",
       " 'Dawn',\n",
       " 'Daybreak',\n",
       " 'Daytime',\n",
       " 'Dusk',\n",
       " 'Early Morning',\n",
       " 'Early afternoon',\n",
       " 'Early morning',\n",
       " 'Evening',\n",
       " 'FATAL  (Wire netting installed at local beaches after this incident.)',\n",
       " 'Just before dawn',\n",
       " 'Just before noon',\n",
       " 'Just before sundown',\n",
       " 'Late Afternoon',\n",
       " 'Late afternon',\n",
       " 'Late afternoon',\n",
       " 'Late might',\n",
       " 'Late morning',\n",
       " 'Late night',\n",
       " 'Lunchtime',\n",
       " 'Mid afternoon',\n",
       " 'Mid morning',\n",
       " 'Mid-morning',\n",
       " 'Midday',\n",
       " 'Midday.',\n",
       " 'Midnight',\n",
       " 'Morning',\n",
       " 'Morning ',\n",
       " 'Night',\n",
       " 'Nightfall',\n",
       " 'Noon',\n",
       " 'P.M.',\n",
       " 'Shortly after midnight',\n",
       " 'Sunset',\n",
       " 'X',\n",
       " 'dusk',\n",
       " 'nan',\n",
       " 'night',\n",
       " '\\xa0 '}"
      ]
     },
     "execution_count": 19,
     "metadata": {},
     "output_type": "execute_result"
    }
   ],
   "source": [
    "time_cleaning = a\n",
    "set(time_cleaning)"
   ]
  },
  {
   "cell_type": "code",
   "execution_count": 20,
   "metadata": {},
   "outputs": [],
   "source": [
    "time_cleaning = [i.lower().capitalize() for i in time_cleaning]\n",
    "b = []\n",
    "for i in time_cleaning:\n",
    "    i = i.lower()\n",
    "    if 'aftern' in i or 'noon' in i or 'lunch' in i or 'P.m' in i or 'midday' in i:\n",
    "        b.append(daytime(13)) # afternoon\n",
    "    elif 'might' in i or 'night' in i:\n",
    "        b.append(daytime(23)) # night\n",
    "    elif 'morning' in i or 'daybreak' in i or 'dawn' in i:\n",
    "        b.append(daytime(10)) # morning\n",
    "    elif 'dark' in i or 'dusk' in i or 'evening' in i or 'sunset' in i:\n",
    "        b.append(daytime(20)) # evening\n",
    "    else:\n",
    "        b.append('NaN')"
   ]
  },
  {
   "cell_type": "code",
   "execution_count": 21,
   "metadata": {},
   "outputs": [
    {
     "data": {
      "text/plain": [
       "True"
      ]
     },
     "execution_count": 21,
     "metadata": {},
     "output_type": "execute_result"
    }
   ],
   "source": [
    "# safety check\n",
    "len(b) == len(time_cleaning)"
   ]
  },
  {
   "cell_type": "code",
   "execution_count": 22,
   "metadata": {},
   "outputs": [
    {
     "data": {
      "text/plain": [
       "{'Afternoon', 'Evening', 'Morning', 'NaN', 'Night'}"
      ]
     },
     "execution_count": 22,
     "metadata": {},
     "output_type": "execute_result"
    }
   ],
   "source": [
    "time_cleaning = b\n",
    "set(time_cleaning)"
   ]
  },
  {
   "cell_type": "code",
   "execution_count": 23,
   "metadata": {},
   "outputs": [],
   "source": [
    "df_copy_copy = df_copy.copy()"
   ]
  },
  {
   "cell_type": "code",
   "execution_count": 24,
   "metadata": {},
   "outputs": [
    {
     "data": {
      "text/plain": [
       "array(['Afternoon', 'Morning', 'NaN', 'Evening', 'Night'], dtype=object)"
      ]
     },
     "execution_count": 24,
     "metadata": {},
     "output_type": "execute_result"
    }
   ],
   "source": [
    "df_copy_copy['Time'] = time_cleaning\n",
    "df_copy_copy['Time'].unique()"
   ]
  },
  {
   "cell_type": "code",
   "execution_count": 25,
   "metadata": {},
   "outputs": [
    {
     "data": {
      "text/plain": [
       "True"
      ]
     },
     "execution_count": 25,
     "metadata": {},
     "output_type": "execute_result"
    }
   ],
   "source": [
    "# Sanity check\n",
    "len(df_copy) == len(df_copy_copy)"
   ]
  },
  {
   "cell_type": "code",
   "execution_count": 26,
   "metadata": {},
   "outputs": [
    {
     "data": {
      "text/html": [
       "<div>\n",
       "<style scoped>\n",
       "    .dataframe tbody tr th:only-of-type {\n",
       "        vertical-align: middle;\n",
       "    }\n",
       "\n",
       "    .dataframe tbody tr th {\n",
       "        vertical-align: top;\n",
       "    }\n",
       "\n",
       "    .dataframe thead th {\n",
       "        text-align: right;\n",
       "    }\n",
       "</style>\n",
       "<table border=\"1\" class=\"dataframe\">\n",
       "  <thead>\n",
       "    <tr style=\"text-align: right;\">\n",
       "      <th></th>\n",
       "      <th>Case number</th>\n",
       "      <th>Date</th>\n",
       "      <th>Year</th>\n",
       "      <th>Type</th>\n",
       "      <th>Country</th>\n",
       "      <th>Area</th>\n",
       "      <th>Location</th>\n",
       "      <th>Activity</th>\n",
       "      <th>Name</th>\n",
       "      <th>Sex</th>\n",
       "      <th>...</th>\n",
       "      <th>Species</th>\n",
       "      <th>Source</th>\n",
       "      <th>Pdf</th>\n",
       "      <th>Href formula</th>\n",
       "      <th>Href</th>\n",
       "      <th>Case number 1</th>\n",
       "      <th>Case number 2</th>\n",
       "      <th>Original order</th>\n",
       "      <th>Unnamed 22</th>\n",
       "      <th>Unnamed 23</th>\n",
       "    </tr>\n",
       "  </thead>\n",
       "  <tbody>\n",
       "    <tr>\n",
       "      <td>0</td>\n",
       "      <td>2016.09.18.c</td>\n",
       "      <td>18-Sep-16</td>\n",
       "      <td>2016</td>\n",
       "      <td>Unprovoked</td>\n",
       "      <td>USA</td>\n",
       "      <td>Florida</td>\n",
       "      <td>New Smyrna Beach, Volusia County</td>\n",
       "      <td>Surfing</td>\n",
       "      <td>male</td>\n",
       "      <td>M</td>\n",
       "      <td>...</td>\n",
       "      <td>NaN</td>\n",
       "      <td>Orlando Sentinel, 9/19/2016</td>\n",
       "      <td>2016.09.18.c-NSB.pdf</td>\n",
       "      <td>http://sharkattackfile.net/spreadsheets/pdf_di...</td>\n",
       "      <td>http://sharkattackfile.net/spreadsheets/pdf_di...</td>\n",
       "      <td>2016.09.18.c</td>\n",
       "      <td>2016.09.18.c</td>\n",
       "      <td>5993</td>\n",
       "      <td>NaN</td>\n",
       "      <td>NaN</td>\n",
       "    </tr>\n",
       "    <tr>\n",
       "      <td>1</td>\n",
       "      <td>2016.09.18.b</td>\n",
       "      <td>18-Sep-16</td>\n",
       "      <td>2016</td>\n",
       "      <td>Unprovoked</td>\n",
       "      <td>USA</td>\n",
       "      <td>Florida</td>\n",
       "      <td>New Smyrna Beach, Volusia County</td>\n",
       "      <td>Surfing</td>\n",
       "      <td>Chucky Luciano</td>\n",
       "      <td>M</td>\n",
       "      <td>...</td>\n",
       "      <td>NaN</td>\n",
       "      <td>Orlando Sentinel, 9/19/2016</td>\n",
       "      <td>2016.09.18.b-Luciano.pdf</td>\n",
       "      <td>http://sharkattackfile.net/spreadsheets/pdf_di...</td>\n",
       "      <td>http://sharkattackfile.net/spreadsheets/pdf_di...</td>\n",
       "      <td>2016.09.18.b</td>\n",
       "      <td>2016.09.18.b</td>\n",
       "      <td>5992</td>\n",
       "      <td>NaN</td>\n",
       "      <td>NaN</td>\n",
       "    </tr>\n",
       "  </tbody>\n",
       "</table>\n",
       "<p>2 rows × 24 columns</p>\n",
       "</div>"
      ],
      "text/plain": [
       "    Case number       Date  Year        Type Country     Area  \\\n",
       "0  2016.09.18.c  18-Sep-16  2016  Unprovoked     USA  Florida   \n",
       "1  2016.09.18.b  18-Sep-16  2016  Unprovoked     USA  Florida   \n",
       "\n",
       "                           Location Activity            Name Sex  ... Species  \\\n",
       "0  New Smyrna Beach, Volusia County  Surfing            male   M  ...     NaN   \n",
       "1  New Smyrna Beach, Volusia County  Surfing  Chucky Luciano   M  ...     NaN   \n",
       "\n",
       "                        Source                       Pdf  \\\n",
       "0  Orlando Sentinel, 9/19/2016      2016.09.18.c-NSB.pdf   \n",
       "1  Orlando Sentinel, 9/19/2016  2016.09.18.b-Luciano.pdf   \n",
       "\n",
       "                                        Href formula  \\\n",
       "0  http://sharkattackfile.net/spreadsheets/pdf_di...   \n",
       "1  http://sharkattackfile.net/spreadsheets/pdf_di...   \n",
       "\n",
       "                                                Href Case number 1  \\\n",
       "0  http://sharkattackfile.net/spreadsheets/pdf_di...  2016.09.18.c   \n",
       "1  http://sharkattackfile.net/spreadsheets/pdf_di...  2016.09.18.b   \n",
       "\n",
       "  Case number 2 Original order Unnamed 22 Unnamed 23  \n",
       "0  2016.09.18.c           5993        NaN        NaN  \n",
       "1  2016.09.18.b           5992        NaN        NaN  \n",
       "\n",
       "[2 rows x 24 columns]"
      ]
     },
     "execution_count": 26,
     "metadata": {},
     "output_type": "execute_result"
    }
   ],
   "source": [
    "df_copy_copy.head(2)"
   ]
  },
  {
   "cell_type": "code",
   "execution_count": 27,
   "metadata": {},
   "outputs": [],
   "source": [
    "df_copy = df_copy_copy\n",
    "df_copy_copy = df_copy.copy()"
   ]
  },
  {
   "cell_type": "code",
   "execution_count": 28,
   "metadata": {},
   "outputs": [],
   "source": [
    "# 10. Removing potential duplicated columns\n",
    "df_copy_copy = df_copy_copy.drop_duplicates(subset=list(df_copy_copy.columns))"
   ]
  },
  {
   "cell_type": "code",
   "execution_count": 29,
   "metadata": {},
   "outputs": [
    {
     "data": {
      "text/plain": [
       "Case number          0\n",
       "Date                 0\n",
       "Year                 0\n",
       "Type                 0\n",
       "Country             43\n",
       "Area               402\n",
       "Location           496\n",
       "Activity           527\n",
       "Name               200\n",
       "Sex                567\n",
       "Age               2681\n",
       "Injury              27\n",
       "Fatal               19\n",
       "Time                 0\n",
       "Species           2934\n",
       "Source              15\n",
       "Pdf                  0\n",
       "Href formula         1\n",
       "Href                 3\n",
       "Case number 1        0\n",
       "Case number 2        0\n",
       "Original order       0\n",
       "Unnamed 22        5991\n",
       "Unnamed 23        5990\n",
       "dtype: int64"
      ]
     },
     "execution_count": 29,
     "metadata": {},
     "output_type": "execute_result"
    }
   ],
   "source": [
    "# 11. Checking how many NaN, empty values there are in the dataset\n",
    "empty_cols = df_copy_copy.isnull().sum()\n",
    "empty_cols"
   ]
  },
  {
   "cell_type": "code",
   "execution_count": 30,
   "metadata": {},
   "outputs": [],
   "source": [
    "# 12.Removing columns with empty values\n",
    "df_copy_copy = df_copy_copy.drop(axis = 1, columns =  ['Type','Age','Species', 'Unnamed 22', 'Unnamed 23', 'Original order'])"
   ]
  },
  {
   "cell_type": "code",
   "execution_count": 31,
   "metadata": {},
   "outputs": [
    {
     "data": {
      "text/html": [
       "<div>\n",
       "<style scoped>\n",
       "    .dataframe tbody tr th:only-of-type {\n",
       "        vertical-align: middle;\n",
       "    }\n",
       "\n",
       "    .dataframe tbody tr th {\n",
       "        vertical-align: top;\n",
       "    }\n",
       "\n",
       "    .dataframe thead th {\n",
       "        text-align: right;\n",
       "    }\n",
       "</style>\n",
       "<table border=\"1\" class=\"dataframe\">\n",
       "  <thead>\n",
       "    <tr style=\"text-align: right;\">\n",
       "      <th></th>\n",
       "      <th>Case number</th>\n",
       "      <th>Date</th>\n",
       "      <th>Year</th>\n",
       "      <th>Country</th>\n",
       "      <th>Area</th>\n",
       "      <th>Location</th>\n",
       "      <th>Activity</th>\n",
       "      <th>Name</th>\n",
       "      <th>Sex</th>\n",
       "      <th>Injury</th>\n",
       "      <th>Fatal</th>\n",
       "      <th>Time</th>\n",
       "      <th>Source</th>\n",
       "      <th>Pdf</th>\n",
       "      <th>Href formula</th>\n",
       "      <th>Href</th>\n",
       "      <th>Case number 1</th>\n",
       "      <th>Case number 2</th>\n",
       "    </tr>\n",
       "  </thead>\n",
       "  <tbody>\n",
       "    <tr>\n",
       "      <td>0</td>\n",
       "      <td>2016.09.18.c</td>\n",
       "      <td>18-Sep-16</td>\n",
       "      <td>2016</td>\n",
       "      <td>USA</td>\n",
       "      <td>Florida</td>\n",
       "      <td>New Smyrna Beach, Volusia County</td>\n",
       "      <td>Surfing</td>\n",
       "      <td>male</td>\n",
       "      <td>M</td>\n",
       "      <td>Minor injury to thigh</td>\n",
       "      <td>N</td>\n",
       "      <td>Afternoon</td>\n",
       "      <td>Orlando Sentinel, 9/19/2016</td>\n",
       "      <td>2016.09.18.c-NSB.pdf</td>\n",
       "      <td>http://sharkattackfile.net/spreadsheets/pdf_di...</td>\n",
       "      <td>http://sharkattackfile.net/spreadsheets/pdf_di...</td>\n",
       "      <td>2016.09.18.c</td>\n",
       "      <td>2016.09.18.c</td>\n",
       "    </tr>\n",
       "    <tr>\n",
       "      <td>1</td>\n",
       "      <td>2016.09.18.b</td>\n",
       "      <td>18-Sep-16</td>\n",
       "      <td>2016</td>\n",
       "      <td>USA</td>\n",
       "      <td>Florida</td>\n",
       "      <td>New Smyrna Beach, Volusia County</td>\n",
       "      <td>Surfing</td>\n",
       "      <td>Chucky Luciano</td>\n",
       "      <td>M</td>\n",
       "      <td>Lacerations to hands</td>\n",
       "      <td>N</td>\n",
       "      <td>Morning</td>\n",
       "      <td>Orlando Sentinel, 9/19/2016</td>\n",
       "      <td>2016.09.18.b-Luciano.pdf</td>\n",
       "      <td>http://sharkattackfile.net/spreadsheets/pdf_di...</td>\n",
       "      <td>http://sharkattackfile.net/spreadsheets/pdf_di...</td>\n",
       "      <td>2016.09.18.b</td>\n",
       "      <td>2016.09.18.b</td>\n",
       "    </tr>\n",
       "  </tbody>\n",
       "</table>\n",
       "</div>"
      ],
      "text/plain": [
       "    Case number       Date  Year Country     Area  \\\n",
       "0  2016.09.18.c  18-Sep-16  2016     USA  Florida   \n",
       "1  2016.09.18.b  18-Sep-16  2016     USA  Florida   \n",
       "\n",
       "                           Location Activity            Name Sex  \\\n",
       "0  New Smyrna Beach, Volusia County  Surfing            male   M   \n",
       "1  New Smyrna Beach, Volusia County  Surfing  Chucky Luciano   M   \n",
       "\n",
       "                  Injury Fatal       Time                       Source  \\\n",
       "0  Minor injury to thigh     N  Afternoon  Orlando Sentinel, 9/19/2016   \n",
       "1   Lacerations to hands     N    Morning  Orlando Sentinel, 9/19/2016   \n",
       "\n",
       "                        Pdf  \\\n",
       "0      2016.09.18.c-NSB.pdf   \n",
       "1  2016.09.18.b-Luciano.pdf   \n",
       "\n",
       "                                        Href formula  \\\n",
       "0  http://sharkattackfile.net/spreadsheets/pdf_di...   \n",
       "1  http://sharkattackfile.net/spreadsheets/pdf_di...   \n",
       "\n",
       "                                                Href Case number 1  \\\n",
       "0  http://sharkattackfile.net/spreadsheets/pdf_di...  2016.09.18.c   \n",
       "1  http://sharkattackfile.net/spreadsheets/pdf_di...  2016.09.18.b   \n",
       "\n",
       "  Case number 2  \n",
       "0  2016.09.18.c  \n",
       "1  2016.09.18.b  "
      ]
     },
     "execution_count": 31,
     "metadata": {},
     "output_type": "execute_result"
    }
   ],
   "source": [
    "df_copy_copy.head(2)"
   ]
  },
  {
   "cell_type": "code",
   "execution_count": 32,
   "metadata": {},
   "outputs": [],
   "source": [
    "# 13. Removing rows with NaNs and missing info\n",
    "df_copy_copy_copy = df_copy_copy.dropna( axis=0, how='any', thresh=None, subset=None, inplace=False)"
   ]
  },
  {
   "cell_type": "code",
   "execution_count": 33,
   "metadata": {},
   "outputs": [
    {
     "data": {
      "text/plain": [
       "4488"
      ]
     },
     "execution_count": 33,
     "metadata": {},
     "output_type": "execute_result"
    }
   ],
   "source": [
    "len(df_copy_copy_copy)"
   ]
  },
  {
   "cell_type": "code",
   "execution_count": 34,
   "metadata": {},
   "outputs": [],
   "source": [
    "df_copy = df_copy_copy_copy\n",
    "df_copy_copy = df_copy"
   ]
  },
  {
   "cell_type": "code",
   "execution_count": 35,
   "metadata": {},
   "outputs": [
    {
     "data": {
      "text/plain": [
       "array(['USA', 'AUSTRALIA', 'NEW CALEDONIA', 'BAHAMAS', 'SPAIN', 'JAPAN',\n",
       "       'SOUTH AFRICA', 'EGYPT', 'NEW ZEALAND', 'INDONESIA',\n",
       "       'FRENCH POLYNESIA', 'BRAZIL', 'DOMINICAN REPUBLIC',\n",
       "       'CAYMAN ISLANDS', 'UNITED ARAB EMIRATES', 'MOZAMBIQUE', 'THAILAND',\n",
       "       'REUNION', 'MEXICO', 'FRANCE', 'ECUADOR', 'ISRAEL', 'JAMAICA',\n",
       "       'PHILIPPINES', 'NIGERIA', 'TONGA', 'SCOTLAND', 'TRINIDAD & TOBAGO',\n",
       "       'CANADA', 'ITALY', 'SAUDI ARABIA', 'CHILE', 'TAIWAN', 'ANTIGUA',\n",
       "       'PAPUA NEW GUINEA', 'RUSSIA', 'SEYCHELLES', 'COLUMBIA',\n",
       "       'TURKS & CAICOS', 'COSTA RICA', 'MALAYSIA',\n",
       "       'UNITED ARAB EMIRATES (UAE)', 'FIJI', 'SOUTH KOREA', 'VIETNAM',\n",
       "       'MADAGASCAR', 'GUAM', 'PANAMA', 'UNITED KINGDOM',\n",
       "       'SOLOMON ISLANDS', 'KENYA', 'CUBA', 'CROATIA', 'ENGLAND', 'NORWAY',\n",
       "       'BELIZE', 'Sierra Leone', 'ST. MAARTIN', 'GRAND CAYMAN',\n",
       "       'Seychelles', 'CHINA', 'VANUATU', 'MEXICO ', 'HONDURAS',\n",
       "       'SRI LANKA', ' TONGA', 'URUGUAY', 'VENEZUELA', 'INDIA',\n",
       "       'MICRONESIA', 'OKINAWA', 'MARSHALL ISLANDS', 'SENEGAL',\n",
       "       'EGYPT / ISRAEL', 'HONG KONG', 'SOMALIA', 'EL SALVADOR',\n",
       "       'MONTENEGRO', 'NAMIBIA', 'PORTUGAL', 'PALAU', 'WESTERN SAMOA',\n",
       "       'BRITISH ISLES', 'GRENADA', 'IRAQ', 'BERMUDA', 'TURKEY',\n",
       "       'NEW BRITAIN', 'PACIFIC OCEAN ', 'NEW GUINEA',\n",
       "       'FEDERATED STATES OF MICRONESIA', 'GREECE', 'BRITISH WEST INDIES',\n",
       "       'SOUTH ATLANTIC OCEAN', 'PERSIAN GULF', 'NORTH PACIFIC OCEAN',\n",
       "       'NORTH SEA', 'NICARAGUA ', 'AMERICAN SAMOA', 'PACIFIC OCEAN',\n",
       "       'GABON', 'MALTA', 'YEMEN', 'THE BALKANS', 'SUDAN?', 'ARGENTINA',\n",
       "       'IRAN', 'SUDAN', 'MAURITIUS', 'LIBERIA', 'TANZANIA', 'CAPE VERDE',\n",
       "       'NICARAGUA', 'GUYANA', 'BARBADOS', 'HAITI', 'SAN DOMINGO', 'LIBYA',\n",
       "       'SAMOA', 'CYPRUS', 'EGYPT ', 'YEMEN ', 'BURMA',\n",
       "       'BRITISH NEW GUINEA', 'SIERRA LEONE', 'LEBANON', 'Fiji', 'GUINEA',\n",
       "       'TASMAN SEA', 'KOREA', 'KIRIBATI', 'CEYLON (SRI LANKA)'],\n",
       "      dtype=object)"
      ]
     },
     "execution_count": 35,
     "metadata": {},
     "output_type": "execute_result"
    }
   ],
   "source": [
    "# 14. Checking the Country column\n",
    "df_copy_copy['Country'].unique()"
   ]
  },
  {
   "cell_type": "code",
   "execution_count": 36,
   "metadata": {},
   "outputs": [],
   "source": [
    "# 15. Cleaning the Country column\n",
    "country_colnames =[\n",
    "    i\n",
    "    .upper()\n",
    "    .replace('?' , '')\n",
    "    .replace('(UAE)', '')\n",
    "    .replace('CEYLON (SRI LANKA)', 'SRI LANKA')\n",
    "    .strip()\n",
    "    for i in df_copy_copy['Country']]\n"
   ]
  },
  {
   "cell_type": "code",
   "execution_count": 37,
   "metadata": {},
   "outputs": [],
   "source": [
    "# 16. Reasigning the columns\n",
    "df_copy_copy['Country'] = country_colnames"
   ]
  },
  {
   "cell_type": "code",
   "execution_count": 38,
   "metadata": {},
   "outputs": [
    {
     "data": {
      "text/html": [
       "<div>\n",
       "<style scoped>\n",
       "    .dataframe tbody tr th:only-of-type {\n",
       "        vertical-align: middle;\n",
       "    }\n",
       "\n",
       "    .dataframe tbody tr th {\n",
       "        vertical-align: top;\n",
       "    }\n",
       "\n",
       "    .dataframe thead th {\n",
       "        text-align: right;\n",
       "    }\n",
       "</style>\n",
       "<table border=\"1\" class=\"dataframe\">\n",
       "  <thead>\n",
       "    <tr style=\"text-align: right;\">\n",
       "      <th></th>\n",
       "      <th>Case number</th>\n",
       "      <th>Date</th>\n",
       "      <th>Year</th>\n",
       "      <th>Country</th>\n",
       "      <th>Area</th>\n",
       "      <th>Location</th>\n",
       "      <th>Activity</th>\n",
       "      <th>Name</th>\n",
       "      <th>Sex</th>\n",
       "      <th>Injury</th>\n",
       "      <th>Fatal</th>\n",
       "      <th>Time</th>\n",
       "      <th>Source</th>\n",
       "      <th>Pdf</th>\n",
       "      <th>Href formula</th>\n",
       "      <th>Href</th>\n",
       "      <th>Case number 1</th>\n",
       "      <th>Case number 2</th>\n",
       "    </tr>\n",
       "  </thead>\n",
       "  <tbody>\n",
       "    <tr>\n",
       "      <td>0</td>\n",
       "      <td>2016.09.18.c</td>\n",
       "      <td>18-Sep-16</td>\n",
       "      <td>2016</td>\n",
       "      <td>USA</td>\n",
       "      <td>Florida</td>\n",
       "      <td>New Smyrna Beach, Volusia County</td>\n",
       "      <td>Surfing</td>\n",
       "      <td>male</td>\n",
       "      <td>M</td>\n",
       "      <td>Minor injury to thigh</td>\n",
       "      <td>N</td>\n",
       "      <td>Afternoon</td>\n",
       "      <td>Orlando Sentinel, 9/19/2016</td>\n",
       "      <td>2016.09.18.c-NSB.pdf</td>\n",
       "      <td>http://sharkattackfile.net/spreadsheets/pdf_di...</td>\n",
       "      <td>http://sharkattackfile.net/spreadsheets/pdf_di...</td>\n",
       "      <td>2016.09.18.c</td>\n",
       "      <td>2016.09.18.c</td>\n",
       "    </tr>\n",
       "    <tr>\n",
       "      <td>1</td>\n",
       "      <td>2016.09.18.b</td>\n",
       "      <td>18-Sep-16</td>\n",
       "      <td>2016</td>\n",
       "      <td>USA</td>\n",
       "      <td>Florida</td>\n",
       "      <td>New Smyrna Beach, Volusia County</td>\n",
       "      <td>Surfing</td>\n",
       "      <td>Chucky Luciano</td>\n",
       "      <td>M</td>\n",
       "      <td>Lacerations to hands</td>\n",
       "      <td>N</td>\n",
       "      <td>Morning</td>\n",
       "      <td>Orlando Sentinel, 9/19/2016</td>\n",
       "      <td>2016.09.18.b-Luciano.pdf</td>\n",
       "      <td>http://sharkattackfile.net/spreadsheets/pdf_di...</td>\n",
       "      <td>http://sharkattackfile.net/spreadsheets/pdf_di...</td>\n",
       "      <td>2016.09.18.b</td>\n",
       "      <td>2016.09.18.b</td>\n",
       "    </tr>\n",
       "  </tbody>\n",
       "</table>\n",
       "</div>"
      ],
      "text/plain": [
       "    Case number       Date  Year Country     Area  \\\n",
       "0  2016.09.18.c  18-Sep-16  2016     USA  Florida   \n",
       "1  2016.09.18.b  18-Sep-16  2016     USA  Florida   \n",
       "\n",
       "                           Location Activity            Name Sex  \\\n",
       "0  New Smyrna Beach, Volusia County  Surfing            male   M   \n",
       "1  New Smyrna Beach, Volusia County  Surfing  Chucky Luciano   M   \n",
       "\n",
       "                  Injury Fatal       Time                       Source  \\\n",
       "0  Minor injury to thigh     N  Afternoon  Orlando Sentinel, 9/19/2016   \n",
       "1   Lacerations to hands     N    Morning  Orlando Sentinel, 9/19/2016   \n",
       "\n",
       "                        Pdf  \\\n",
       "0      2016.09.18.c-NSB.pdf   \n",
       "1  2016.09.18.b-Luciano.pdf   \n",
       "\n",
       "                                        Href formula  \\\n",
       "0  http://sharkattackfile.net/spreadsheets/pdf_di...   \n",
       "1  http://sharkattackfile.net/spreadsheets/pdf_di...   \n",
       "\n",
       "                                                Href Case number 1  \\\n",
       "0  http://sharkattackfile.net/spreadsheets/pdf_di...  2016.09.18.c   \n",
       "1  http://sharkattackfile.net/spreadsheets/pdf_di...  2016.09.18.b   \n",
       "\n",
       "  Case number 2  \n",
       "0  2016.09.18.c  \n",
       "1  2016.09.18.b  "
      ]
     },
     "execution_count": 38,
     "metadata": {},
     "output_type": "execute_result"
    }
   ],
   "source": [
    "# 17. Checking the Sex column\n",
    "df_copy_copy.head(2)\n",
    "#df_copy['Sex'].unique()"
   ]
  },
  {
   "cell_type": "code",
   "execution_count": 39,
   "metadata": {},
   "outputs": [
    {
     "data": {
      "text/plain": [
       "{'F', 'M', 'NaN'}"
      ]
     },
     "execution_count": 39,
     "metadata": {},
     "output_type": "execute_result"
    }
   ],
   "source": [
    "# 18. Cleaning up the Sex column \n",
    "sex_colnames = [ i \n",
    "                .strip()\n",
    "                .replace('N', 'NaN')\n",
    "                .replace('lli', 'NaN')\n",
    "                for i in df_copy_copy['Sex']]\n",
    "set(sex_colnames)"
   ]
  },
  {
   "cell_type": "code",
   "execution_count": 40,
   "metadata": {},
   "outputs": [],
   "source": [
    "# 19. Reasigining the names\n",
    "df_copy_copy['Sex'] = sex_colnames"
   ]
  },
  {
   "cell_type": "code",
   "execution_count": 41,
   "metadata": {},
   "outputs": [
    {
     "data": {
      "text/html": [
       "<div>\n",
       "<style scoped>\n",
       "    .dataframe tbody tr th:only-of-type {\n",
       "        vertical-align: middle;\n",
       "    }\n",
       "\n",
       "    .dataframe tbody tr th {\n",
       "        vertical-align: top;\n",
       "    }\n",
       "\n",
       "    .dataframe thead th {\n",
       "        text-align: right;\n",
       "    }\n",
       "</style>\n",
       "<table border=\"1\" class=\"dataframe\">\n",
       "  <thead>\n",
       "    <tr style=\"text-align: right;\">\n",
       "      <th></th>\n",
       "      <th>Case number</th>\n",
       "      <th>Date</th>\n",
       "      <th>Year</th>\n",
       "      <th>Country</th>\n",
       "      <th>Area</th>\n",
       "      <th>Location</th>\n",
       "      <th>Activity</th>\n",
       "      <th>Name</th>\n",
       "      <th>Sex</th>\n",
       "      <th>Injury</th>\n",
       "      <th>Fatal</th>\n",
       "      <th>Time</th>\n",
       "      <th>Source</th>\n",
       "      <th>Pdf</th>\n",
       "      <th>Href formula</th>\n",
       "      <th>Href</th>\n",
       "      <th>Case number 1</th>\n",
       "      <th>Case number 2</th>\n",
       "    </tr>\n",
       "  </thead>\n",
       "  <tbody>\n",
       "    <tr>\n",
       "      <td>0</td>\n",
       "      <td>2016.09.18.c</td>\n",
       "      <td>18-Sep-16</td>\n",
       "      <td>2016</td>\n",
       "      <td>USA</td>\n",
       "      <td>Florida</td>\n",
       "      <td>New Smyrna Beach, Volusia County</td>\n",
       "      <td>Surfing</td>\n",
       "      <td>male</td>\n",
       "      <td>M</td>\n",
       "      <td>Minor injury to thigh</td>\n",
       "      <td>N</td>\n",
       "      <td>Afternoon</td>\n",
       "      <td>Orlando Sentinel, 9/19/2016</td>\n",
       "      <td>2016.09.18.c-NSB.pdf</td>\n",
       "      <td>http://sharkattackfile.net/spreadsheets/pdf_di...</td>\n",
       "      <td>http://sharkattackfile.net/spreadsheets/pdf_di...</td>\n",
       "      <td>2016.09.18.c</td>\n",
       "      <td>2016.09.18.c</td>\n",
       "    </tr>\n",
       "    <tr>\n",
       "      <td>1</td>\n",
       "      <td>2016.09.18.b</td>\n",
       "      <td>18-Sep-16</td>\n",
       "      <td>2016</td>\n",
       "      <td>USA</td>\n",
       "      <td>Florida</td>\n",
       "      <td>New Smyrna Beach, Volusia County</td>\n",
       "      <td>Surfing</td>\n",
       "      <td>Chucky Luciano</td>\n",
       "      <td>M</td>\n",
       "      <td>Lacerations to hands</td>\n",
       "      <td>N</td>\n",
       "      <td>Morning</td>\n",
       "      <td>Orlando Sentinel, 9/19/2016</td>\n",
       "      <td>2016.09.18.b-Luciano.pdf</td>\n",
       "      <td>http://sharkattackfile.net/spreadsheets/pdf_di...</td>\n",
       "      <td>http://sharkattackfile.net/spreadsheets/pdf_di...</td>\n",
       "      <td>2016.09.18.b</td>\n",
       "      <td>2016.09.18.b</td>\n",
       "    </tr>\n",
       "  </tbody>\n",
       "</table>\n",
       "</div>"
      ],
      "text/plain": [
       "    Case number       Date  Year Country     Area  \\\n",
       "0  2016.09.18.c  18-Sep-16  2016     USA  Florida   \n",
       "1  2016.09.18.b  18-Sep-16  2016     USA  Florida   \n",
       "\n",
       "                           Location Activity            Name Sex  \\\n",
       "0  New Smyrna Beach, Volusia County  Surfing            male   M   \n",
       "1  New Smyrna Beach, Volusia County  Surfing  Chucky Luciano   M   \n",
       "\n",
       "                  Injury Fatal       Time                       Source  \\\n",
       "0  Minor injury to thigh     N  Afternoon  Orlando Sentinel, 9/19/2016   \n",
       "1   Lacerations to hands     N    Morning  Orlando Sentinel, 9/19/2016   \n",
       "\n",
       "                        Pdf  \\\n",
       "0      2016.09.18.c-NSB.pdf   \n",
       "1  2016.09.18.b-Luciano.pdf   \n",
       "\n",
       "                                        Href formula  \\\n",
       "0  http://sharkattackfile.net/spreadsheets/pdf_di...   \n",
       "1  http://sharkattackfile.net/spreadsheets/pdf_di...   \n",
       "\n",
       "                                                Href Case number 1  \\\n",
       "0  http://sharkattackfile.net/spreadsheets/pdf_di...  2016.09.18.c   \n",
       "1  http://sharkattackfile.net/spreadsheets/pdf_di...  2016.09.18.b   \n",
       "\n",
       "  Case number 2  \n",
       "0  2016.09.18.c  \n",
       "1  2016.09.18.b  "
      ]
     },
     "execution_count": 41,
     "metadata": {},
     "output_type": "execute_result"
    }
   ],
   "source": [
    "df_copy_copy.head(2)"
   ]
  },
  {
   "cell_type": "code",
   "execution_count": 42,
   "metadata": {},
   "outputs": [
    {
     "data": {
      "text/plain": [
       "array(['Surfing', 'Wading', 'Swimming', ...,\n",
       "       'Swimming around anchored ship',\n",
       "       'Crew swimming alongside their anchored ship',\n",
       "       '4 men were bathing'], dtype=object)"
      ]
     },
     "execution_count": 42,
     "metadata": {},
     "output_type": "execute_result"
    }
   ],
   "source": [
    "# 20. The whole activity column is not very informative, it is obvious the victims were somehow swimming...\n",
    "df_copy_copy['Activity'].unique()"
   ]
  },
  {
   "cell_type": "code",
   "execution_count": 43,
   "metadata": {},
   "outputs": [],
   "source": [
    "# 21. Removing 'Activity' column\n",
    "df_copy_copy = df_copy_copy.drop( axis = 1, columns= 'Activity')"
   ]
  },
  {
   "cell_type": "code",
   "execution_count": 44,
   "metadata": {},
   "outputs": [
    {
     "data": {
      "text/html": [
       "<div>\n",
       "<style scoped>\n",
       "    .dataframe tbody tr th:only-of-type {\n",
       "        vertical-align: middle;\n",
       "    }\n",
       "\n",
       "    .dataframe tbody tr th {\n",
       "        vertical-align: top;\n",
       "    }\n",
       "\n",
       "    .dataframe thead th {\n",
       "        text-align: right;\n",
       "    }\n",
       "</style>\n",
       "<table border=\"1\" class=\"dataframe\">\n",
       "  <thead>\n",
       "    <tr style=\"text-align: right;\">\n",
       "      <th></th>\n",
       "      <th>Case number</th>\n",
       "      <th>Date</th>\n",
       "      <th>Year</th>\n",
       "      <th>Country</th>\n",
       "      <th>Area</th>\n",
       "      <th>Location</th>\n",
       "      <th>Name</th>\n",
       "      <th>Sex</th>\n",
       "      <th>Injury</th>\n",
       "      <th>Fatal</th>\n",
       "      <th>Time</th>\n",
       "      <th>Source</th>\n",
       "      <th>Pdf</th>\n",
       "      <th>Href formula</th>\n",
       "      <th>Href</th>\n",
       "      <th>Case number 1</th>\n",
       "      <th>Case number 2</th>\n",
       "    </tr>\n",
       "  </thead>\n",
       "  <tbody>\n",
       "    <tr>\n",
       "      <td>0</td>\n",
       "      <td>2016.09.18.c</td>\n",
       "      <td>18-Sep-16</td>\n",
       "      <td>2016</td>\n",
       "      <td>USA</td>\n",
       "      <td>Florida</td>\n",
       "      <td>New Smyrna Beach, Volusia County</td>\n",
       "      <td>male</td>\n",
       "      <td>M</td>\n",
       "      <td>Minor injury to thigh</td>\n",
       "      <td>N</td>\n",
       "      <td>Afternoon</td>\n",
       "      <td>Orlando Sentinel, 9/19/2016</td>\n",
       "      <td>2016.09.18.c-NSB.pdf</td>\n",
       "      <td>http://sharkattackfile.net/spreadsheets/pdf_di...</td>\n",
       "      <td>http://sharkattackfile.net/spreadsheets/pdf_di...</td>\n",
       "      <td>2016.09.18.c</td>\n",
       "      <td>2016.09.18.c</td>\n",
       "    </tr>\n",
       "    <tr>\n",
       "      <td>1</td>\n",
       "      <td>2016.09.18.b</td>\n",
       "      <td>18-Sep-16</td>\n",
       "      <td>2016</td>\n",
       "      <td>USA</td>\n",
       "      <td>Florida</td>\n",
       "      <td>New Smyrna Beach, Volusia County</td>\n",
       "      <td>Chucky Luciano</td>\n",
       "      <td>M</td>\n",
       "      <td>Lacerations to hands</td>\n",
       "      <td>N</td>\n",
       "      <td>Morning</td>\n",
       "      <td>Orlando Sentinel, 9/19/2016</td>\n",
       "      <td>2016.09.18.b-Luciano.pdf</td>\n",
       "      <td>http://sharkattackfile.net/spreadsheets/pdf_di...</td>\n",
       "      <td>http://sharkattackfile.net/spreadsheets/pdf_di...</td>\n",
       "      <td>2016.09.18.b</td>\n",
       "      <td>2016.09.18.b</td>\n",
       "    </tr>\n",
       "    <tr>\n",
       "      <td>2</td>\n",
       "      <td>2016.09.18.a</td>\n",
       "      <td>18-Sep-16</td>\n",
       "      <td>2016</td>\n",
       "      <td>USA</td>\n",
       "      <td>Florida</td>\n",
       "      <td>New Smyrna Beach, Volusia County</td>\n",
       "      <td>male</td>\n",
       "      <td>M</td>\n",
       "      <td>Lacerations to lower leg</td>\n",
       "      <td>N</td>\n",
       "      <td>Morning</td>\n",
       "      <td>Orlando Sentinel, 9/19/2016</td>\n",
       "      <td>2016.09.18.a-NSB.pdf</td>\n",
       "      <td>http://sharkattackfile.net/spreadsheets/pdf_di...</td>\n",
       "      <td>http://sharkattackfile.net/spreadsheets/pdf_di...</td>\n",
       "      <td>2016.09.18.a</td>\n",
       "      <td>2016.09.18.a</td>\n",
       "    </tr>\n",
       "    <tr>\n",
       "      <td>3</td>\n",
       "      <td>2016.09.17</td>\n",
       "      <td>17-Sep-16</td>\n",
       "      <td>2016</td>\n",
       "      <td>AUSTRALIA</td>\n",
       "      <td>Victoria</td>\n",
       "      <td>Thirteenth Beach</td>\n",
       "      <td>Rory Angiolella</td>\n",
       "      <td>M</td>\n",
       "      <td>Struck by fin on chest &amp; leg</td>\n",
       "      <td>N</td>\n",
       "      <td>NaN</td>\n",
       "      <td>The Age, 9/18/2016</td>\n",
       "      <td>2016.09.17-Angiolella.pdf</td>\n",
       "      <td>http://sharkattackfile.net/spreadsheets/pdf_di...</td>\n",
       "      <td>http://sharkattackfile.net/spreadsheets/pdf_di...</td>\n",
       "      <td>2016.09.17</td>\n",
       "      <td>2016.09.17</td>\n",
       "    </tr>\n",
       "    <tr>\n",
       "      <td>4</td>\n",
       "      <td>2016.09.15</td>\n",
       "      <td>16-Sep-16</td>\n",
       "      <td>2016</td>\n",
       "      <td>AUSTRALIA</td>\n",
       "      <td>Victoria</td>\n",
       "      <td>Bells Beach</td>\n",
       "      <td>male</td>\n",
       "      <td>M</td>\n",
       "      <td>No injury: Knocked off board by shark</td>\n",
       "      <td>N</td>\n",
       "      <td>NaN</td>\n",
       "      <td>The Age, 9/16/2016</td>\n",
       "      <td>2016.09.16-BellsBeach.pdf</td>\n",
       "      <td>http://sharkattackfile.net/spreadsheets/pdf_di...</td>\n",
       "      <td>http://sharkattackfile.net/spreadsheets/pdf_di...</td>\n",
       "      <td>2016.09.16</td>\n",
       "      <td>2016.09.15</td>\n",
       "    </tr>\n",
       "  </tbody>\n",
       "</table>\n",
       "</div>"
      ],
      "text/plain": [
       "    Case number       Date  Year    Country      Area  \\\n",
       "0  2016.09.18.c  18-Sep-16  2016        USA   Florida   \n",
       "1  2016.09.18.b  18-Sep-16  2016        USA   Florida   \n",
       "2  2016.09.18.a  18-Sep-16  2016        USA   Florida   \n",
       "3    2016.09.17  17-Sep-16  2016  AUSTRALIA  Victoria   \n",
       "4    2016.09.15  16-Sep-16  2016  AUSTRALIA  Victoria   \n",
       "\n",
       "                           Location             Name Sex  \\\n",
       "0  New Smyrna Beach, Volusia County             male   M   \n",
       "1  New Smyrna Beach, Volusia County   Chucky Luciano   M   \n",
       "2  New Smyrna Beach, Volusia County             male   M   \n",
       "3                  Thirteenth Beach  Rory Angiolella   M   \n",
       "4                       Bells Beach             male   M   \n",
       "\n",
       "                                  Injury Fatal       Time  \\\n",
       "0                  Minor injury to thigh     N  Afternoon   \n",
       "1                   Lacerations to hands     N    Morning   \n",
       "2               Lacerations to lower leg     N    Morning   \n",
       "3           Struck by fin on chest & leg     N        NaN   \n",
       "4  No injury: Knocked off board by shark     N        NaN   \n",
       "\n",
       "                        Source                        Pdf  \\\n",
       "0  Orlando Sentinel, 9/19/2016       2016.09.18.c-NSB.pdf   \n",
       "1  Orlando Sentinel, 9/19/2016   2016.09.18.b-Luciano.pdf   \n",
       "2  Orlando Sentinel, 9/19/2016       2016.09.18.a-NSB.pdf   \n",
       "3           The Age, 9/18/2016  2016.09.17-Angiolella.pdf   \n",
       "4           The Age, 9/16/2016  2016.09.16-BellsBeach.pdf   \n",
       "\n",
       "                                        Href formula  \\\n",
       "0  http://sharkattackfile.net/spreadsheets/pdf_di...   \n",
       "1  http://sharkattackfile.net/spreadsheets/pdf_di...   \n",
       "2  http://sharkattackfile.net/spreadsheets/pdf_di...   \n",
       "3  http://sharkattackfile.net/spreadsheets/pdf_di...   \n",
       "4  http://sharkattackfile.net/spreadsheets/pdf_di...   \n",
       "\n",
       "                                                Href Case number 1  \\\n",
       "0  http://sharkattackfile.net/spreadsheets/pdf_di...  2016.09.18.c   \n",
       "1  http://sharkattackfile.net/spreadsheets/pdf_di...  2016.09.18.b   \n",
       "2  http://sharkattackfile.net/spreadsheets/pdf_di...  2016.09.18.a   \n",
       "3  http://sharkattackfile.net/spreadsheets/pdf_di...    2016.09.17   \n",
       "4  http://sharkattackfile.net/spreadsheets/pdf_di...    2016.09.16   \n",
       "\n",
       "  Case number 2  \n",
       "0  2016.09.18.c  \n",
       "1  2016.09.18.b  \n",
       "2  2016.09.18.a  \n",
       "3    2016.09.17  \n",
       "4    2016.09.15  "
      ]
     },
     "execution_count": 44,
     "metadata": {},
     "output_type": "execute_result"
    }
   ],
   "source": [
    "df_copy_copy.head()"
   ]
  },
  {
   "cell_type": "code",
   "execution_count": 45,
   "metadata": {},
   "outputs": [
    {
     "data": {
      "text/html": [
       "<div>\n",
       "<style scoped>\n",
       "    .dataframe tbody tr th:only-of-type {\n",
       "        vertical-align: middle;\n",
       "    }\n",
       "\n",
       "    .dataframe tbody tr th {\n",
       "        vertical-align: top;\n",
       "    }\n",
       "\n",
       "    .dataframe thead th {\n",
       "        text-align: right;\n",
       "    }\n",
       "</style>\n",
       "<table border=\"1\" class=\"dataframe\">\n",
       "  <thead>\n",
       "    <tr style=\"text-align: right;\">\n",
       "      <th></th>\n",
       "      <th>Pdf</th>\n",
       "      <th>Href formula</th>\n",
       "      <th>Href</th>\n",
       "    </tr>\n",
       "  </thead>\n",
       "  <tbody>\n",
       "    <tr>\n",
       "      <td>0</td>\n",
       "      <td>2016.09.18.c-NSB.pdf</td>\n",
       "      <td>http://sharkattackfile.net/spreadsheets/pdf_di...</td>\n",
       "      <td>http://sharkattackfile.net/spreadsheets/pdf_di...</td>\n",
       "    </tr>\n",
       "    <tr>\n",
       "      <td>1</td>\n",
       "      <td>2016.09.18.b-Luciano.pdf</td>\n",
       "      <td>http://sharkattackfile.net/spreadsheets/pdf_di...</td>\n",
       "      <td>http://sharkattackfile.net/spreadsheets/pdf_di...</td>\n",
       "    </tr>\n",
       "    <tr>\n",
       "      <td>2</td>\n",
       "      <td>2016.09.18.a-NSB.pdf</td>\n",
       "      <td>http://sharkattackfile.net/spreadsheets/pdf_di...</td>\n",
       "      <td>http://sharkattackfile.net/spreadsheets/pdf_di...</td>\n",
       "    </tr>\n",
       "    <tr>\n",
       "      <td>3</td>\n",
       "      <td>2016.09.17-Angiolella.pdf</td>\n",
       "      <td>http://sharkattackfile.net/spreadsheets/pdf_di...</td>\n",
       "      <td>http://sharkattackfile.net/spreadsheets/pdf_di...</td>\n",
       "    </tr>\n",
       "    <tr>\n",
       "      <td>4</td>\n",
       "      <td>2016.09.16-BellsBeach.pdf</td>\n",
       "      <td>http://sharkattackfile.net/spreadsheets/pdf_di...</td>\n",
       "      <td>http://sharkattackfile.net/spreadsheets/pdf_di...</td>\n",
       "    </tr>\n",
       "    <tr>\n",
       "      <td>...</td>\n",
       "      <td>...</td>\n",
       "      <td>...</td>\n",
       "      <td>...</td>\n",
       "    </tr>\n",
       "    <tr>\n",
       "      <td>5980</td>\n",
       "      <td>ND-0012-Durban-Scotsman.pdf</td>\n",
       "      <td>http://sharkattackfile.net/spreadsheets/pdf_di...</td>\n",
       "      <td>http://sharkattackfile.net/spreadsheets/pdf_di...</td>\n",
       "    </tr>\n",
       "    <tr>\n",
       "      <td>5986</td>\n",
       "      <td>ND-0006-ArabBoy-Prymount.pdf</td>\n",
       "      <td>http://sharkattackfile.net/spreadsheets/pdf_di...</td>\n",
       "      <td>http://sharkattackfile.net/spreadsheets/pdf_di...</td>\n",
       "    </tr>\n",
       "    <tr>\n",
       "      <td>5987</td>\n",
       "      <td>ND-0005-RoebuckBay.pdf</td>\n",
       "      <td>http://sharkattackfile.net/spreadsheets/pdf_di...</td>\n",
       "      <td>http://sharkattackfile.net/spreadsheets/pdf_di...</td>\n",
       "    </tr>\n",
       "    <tr>\n",
       "      <td>5989</td>\n",
       "      <td>ND-0003-Ocracoke_1900-1905.pdf</td>\n",
       "      <td>http://sharkattackfile.net/spreadsheets/pdf_di...</td>\n",
       "      <td>http://sharkattackfile.net/spreadsheets/pdf_di...</td>\n",
       "    </tr>\n",
       "    <tr>\n",
       "      <td>5991</td>\n",
       "      <td>ND-0001-Ceylon.pdf</td>\n",
       "      <td>http://sharkattackfile.net/spreadsheets/pdf_di...</td>\n",
       "      <td>http://sharkattackfile.net/spreadsheets/pdf_di...</td>\n",
       "    </tr>\n",
       "  </tbody>\n",
       "</table>\n",
       "<p>4488 rows × 3 columns</p>\n",
       "</div>"
      ],
      "text/plain": [
       "                                 Pdf  \\\n",
       "0               2016.09.18.c-NSB.pdf   \n",
       "1           2016.09.18.b-Luciano.pdf   \n",
       "2               2016.09.18.a-NSB.pdf   \n",
       "3          2016.09.17-Angiolella.pdf   \n",
       "4          2016.09.16-BellsBeach.pdf   \n",
       "...                              ...   \n",
       "5980     ND-0012-Durban-Scotsman.pdf   \n",
       "5986    ND-0006-ArabBoy-Prymount.pdf   \n",
       "5987          ND-0005-RoebuckBay.pdf   \n",
       "5989  ND-0003-Ocracoke_1900-1905.pdf   \n",
       "5991              ND-0001-Ceylon.pdf   \n",
       "\n",
       "                                           Href formula  \\\n",
       "0     http://sharkattackfile.net/spreadsheets/pdf_di...   \n",
       "1     http://sharkattackfile.net/spreadsheets/pdf_di...   \n",
       "2     http://sharkattackfile.net/spreadsheets/pdf_di...   \n",
       "3     http://sharkattackfile.net/spreadsheets/pdf_di...   \n",
       "4     http://sharkattackfile.net/spreadsheets/pdf_di...   \n",
       "...                                                 ...   \n",
       "5980  http://sharkattackfile.net/spreadsheets/pdf_di...   \n",
       "5986  http://sharkattackfile.net/spreadsheets/pdf_di...   \n",
       "5987  http://sharkattackfile.net/spreadsheets/pdf_di...   \n",
       "5989  http://sharkattackfile.net/spreadsheets/pdf_di...   \n",
       "5991  http://sharkattackfile.net/spreadsheets/pdf_di...   \n",
       "\n",
       "                                                   Href  \n",
       "0     http://sharkattackfile.net/spreadsheets/pdf_di...  \n",
       "1     http://sharkattackfile.net/spreadsheets/pdf_di...  \n",
       "2     http://sharkattackfile.net/spreadsheets/pdf_di...  \n",
       "3     http://sharkattackfile.net/spreadsheets/pdf_di...  \n",
       "4     http://sharkattackfile.net/spreadsheets/pdf_di...  \n",
       "...                                                 ...  \n",
       "5980  http://sharkattackfile.net/spreadsheets/pdf_di...  \n",
       "5986  http://sharkattackfile.net/spreadsheets/pdf_di...  \n",
       "5987  http://sharkattackfile.net/spreadsheets/pdf_di...  \n",
       "5989  http://sharkattackfile.net/spreadsheets/pdf_di...  \n",
       "5991  http://sharkattackfile.net/spreadsheets/pdf_di...  \n",
       "\n",
       "[4488 rows x 3 columns]"
      ]
     },
     "execution_count": 45,
     "metadata": {},
     "output_type": "execute_result"
    }
   ],
   "source": [
    "# 22. The Pdf, Href formula and Href seems kind off redundant\n",
    "df_copy_copy[['Pdf', 'Href formula', 'Href']]"
   ]
  },
  {
   "cell_type": "code",
   "execution_count": 46,
   "metadata": {},
   "outputs": [],
   "source": [
    "pdfs = [str(i).strip() for i in df_copy_copy['Pdf']]\n",
    "href_formulas = [str(i).strip() for i in df_copy_copy['Href formula']]\n",
    "hrefs = [str(i).strip() for i in df_copy_copy['Href']]"
   ]
  },
  {
   "cell_type": "code",
   "execution_count": 47,
   "metadata": {},
   "outputs": [
    {
     "data": {
      "text/plain": [
       "(4488, 4488, 4488)"
      ]
     },
     "execution_count": 47,
     "metadata": {},
     "output_type": "execute_result"
    }
   ],
   "source": [
    "len(pdfs), len(href_formulas), len(hrefs)"
   ]
  },
  {
   "cell_type": "code",
   "execution_count": 48,
   "metadata": {},
   "outputs": [
    {
     "data": {
      "text/plain": [
       "('2016.09.18.c-NSB.pdf',\n",
       " 'http://sharkattackfile.net/spreadsheets/pdf_directory/2016.09.18.c-NSB.pdf',\n",
       " 'http://sharkattackfile.net/spreadsheets/pdf_directory/2016.09.18.c-NSB.pdf')"
      ]
     },
     "execution_count": 48,
     "metadata": {},
     "output_type": "execute_result"
    }
   ],
   "source": [
    "pdfs[0], href_formulas[0], hrefs[0]"
   ]
  },
  {
   "cell_type": "code",
   "execution_count": 49,
   "metadata": {},
   "outputs": [
    {
     "data": {
      "text/plain": [
       "[]"
      ]
     },
     "execution_count": 49,
     "metadata": {},
     "output_type": "execute_result"
    }
   ],
   "source": [
    "# Checking how redundat are the informations in the columns\n",
    "[pdfs[i] for i in range(len(pdfs)) if pdfs[i] not in href_formulas[i]]"
   ]
  },
  {
   "cell_type": "code",
   "execution_count": 50,
   "metadata": {},
   "outputs": [
    {
     "data": {
      "text/plain": [
       "[('2016.07.23.a-Cutbirth.pdf',\n",
       "  'http://sharkattackfile.net/spreadsheets/pdf_directory/2016.07.23-Cutbirth.pdf'),\n",
       " ('2015.10.05.a-Slaughter.pdf',\n",
       "  'http://sharkattackfile.net/spreadsheets/pdf_directory/2015.10.05-Slaughter.pdf'),\n",
       " ('2015.06.27.a-Swanepoel.pdf',\n",
       "  'http://sharkattackfile.net/spreadsheets/pdf_directory/2015.06.27-Swanepoel.pdf'),\n",
       " ('2014.10.18-Roberson.pdf',\n",
       "  'http://sharkattackfile.net/spreadsheets/pdf_directory/2014.10.18-Roberson'),\n",
       " ('2014.10.17-Olsson, pdf',\n",
       "  'http://sharkattackfile.net/spreadsheets/pdf_directory/2014.10.14-Bandy.pdf')]"
      ]
     },
     "execution_count": 50,
     "metadata": {},
     "output_type": "execute_result"
    }
   ],
   "source": [
    "# There are some mismatches, but I assume that the hrefs don't contain the true row information\n",
    "[(pdfs[i], hrefs[i]) for i in range(len(pdfs)) if pdfs[i] not in hrefs[i]][:5]"
   ]
  },
  {
   "cell_type": "code",
   "execution_count": 51,
   "metadata": {},
   "outputs": [
    {
     "data": {
      "text/html": [
       "<div>\n",
       "<style scoped>\n",
       "    .dataframe tbody tr th:only-of-type {\n",
       "        vertical-align: middle;\n",
       "    }\n",
       "\n",
       "    .dataframe tbody tr th {\n",
       "        vertical-align: top;\n",
       "    }\n",
       "\n",
       "    .dataframe thead th {\n",
       "        text-align: right;\n",
       "    }\n",
       "</style>\n",
       "<table border=\"1\" class=\"dataframe\">\n",
       "  <thead>\n",
       "    <tr style=\"text-align: right;\">\n",
       "      <th></th>\n",
       "      <th>Case number</th>\n",
       "      <th>Date</th>\n",
       "      <th>Year</th>\n",
       "      <th>Country</th>\n",
       "      <th>Area</th>\n",
       "      <th>Location</th>\n",
       "      <th>Name</th>\n",
       "      <th>Sex</th>\n",
       "      <th>Injury</th>\n",
       "      <th>Fatal</th>\n",
       "      <th>Time</th>\n",
       "      <th>Source</th>\n",
       "      <th>Href formula</th>\n",
       "      <th>Case number 1</th>\n",
       "      <th>Case number 2</th>\n",
       "    </tr>\n",
       "  </thead>\n",
       "  <tbody>\n",
       "    <tr>\n",
       "      <td>0</td>\n",
       "      <td>2016.09.18.c</td>\n",
       "      <td>18-Sep-16</td>\n",
       "      <td>2016</td>\n",
       "      <td>USA</td>\n",
       "      <td>Florida</td>\n",
       "      <td>New Smyrna Beach, Volusia County</td>\n",
       "      <td>male</td>\n",
       "      <td>M</td>\n",
       "      <td>Minor injury to thigh</td>\n",
       "      <td>N</td>\n",
       "      <td>Afternoon</td>\n",
       "      <td>Orlando Sentinel, 9/19/2016</td>\n",
       "      <td>http://sharkattackfile.net/spreadsheets/pdf_di...</td>\n",
       "      <td>2016.09.18.c</td>\n",
       "      <td>2016.09.18.c</td>\n",
       "    </tr>\n",
       "    <tr>\n",
       "      <td>1</td>\n",
       "      <td>2016.09.18.b</td>\n",
       "      <td>18-Sep-16</td>\n",
       "      <td>2016</td>\n",
       "      <td>USA</td>\n",
       "      <td>Florida</td>\n",
       "      <td>New Smyrna Beach, Volusia County</td>\n",
       "      <td>Chucky Luciano</td>\n",
       "      <td>M</td>\n",
       "      <td>Lacerations to hands</td>\n",
       "      <td>N</td>\n",
       "      <td>Morning</td>\n",
       "      <td>Orlando Sentinel, 9/19/2016</td>\n",
       "      <td>http://sharkattackfile.net/spreadsheets/pdf_di...</td>\n",
       "      <td>2016.09.18.b</td>\n",
       "      <td>2016.09.18.b</td>\n",
       "    </tr>\n",
       "  </tbody>\n",
       "</table>\n",
       "</div>"
      ],
      "text/plain": [
       "    Case number       Date  Year Country     Area  \\\n",
       "0  2016.09.18.c  18-Sep-16  2016     USA  Florida   \n",
       "1  2016.09.18.b  18-Sep-16  2016     USA  Florida   \n",
       "\n",
       "                           Location            Name Sex  \\\n",
       "0  New Smyrna Beach, Volusia County            male   M   \n",
       "1  New Smyrna Beach, Volusia County  Chucky Luciano   M   \n",
       "\n",
       "                  Injury Fatal       Time                       Source  \\\n",
       "0  Minor injury to thigh     N  Afternoon  Orlando Sentinel, 9/19/2016   \n",
       "1   Lacerations to hands     N    Morning  Orlando Sentinel, 9/19/2016   \n",
       "\n",
       "                                        Href formula Case number 1  \\\n",
       "0  http://sharkattackfile.net/spreadsheets/pdf_di...  2016.09.18.c   \n",
       "1  http://sharkattackfile.net/spreadsheets/pdf_di...  2016.09.18.b   \n",
       "\n",
       "  Case number 2  \n",
       "0  2016.09.18.c  \n",
       "1  2016.09.18.b  "
      ]
     },
     "execution_count": 51,
     "metadata": {},
     "output_type": "execute_result"
    }
   ],
   "source": [
    "# 23. Removing the Pdfs and Hrefs columns\n",
    "df_copy_copy = df_copy_copy.drop(axis = 1, columns =  ['Pdf', 'Href'])\n",
    "df_copy_copy.head(2)"
   ]
  },
  {
   "cell_type": "code",
   "execution_count": 52,
   "metadata": {},
   "outputs": [],
   "source": [
    "# 24. Renaming the \"Href formula\" column \n",
    "\n",
    "df_copy_copy.rename(columns={'Href formula':'Link'}, inplace=True)"
   ]
  },
  {
   "cell_type": "code",
   "execution_count": 53,
   "metadata": {},
   "outputs": [
    {
     "data": {
      "text/html": [
       "<div>\n",
       "<style scoped>\n",
       "    .dataframe tbody tr th:only-of-type {\n",
       "        vertical-align: middle;\n",
       "    }\n",
       "\n",
       "    .dataframe tbody tr th {\n",
       "        vertical-align: top;\n",
       "    }\n",
       "\n",
       "    .dataframe thead th {\n",
       "        text-align: right;\n",
       "    }\n",
       "</style>\n",
       "<table border=\"1\" class=\"dataframe\">\n",
       "  <thead>\n",
       "    <tr style=\"text-align: right;\">\n",
       "      <th></th>\n",
       "      <th>Case number</th>\n",
       "      <th>Date</th>\n",
       "      <th>Year</th>\n",
       "      <th>Country</th>\n",
       "      <th>Area</th>\n",
       "      <th>Location</th>\n",
       "      <th>Name</th>\n",
       "      <th>Sex</th>\n",
       "      <th>Injury</th>\n",
       "      <th>Fatal</th>\n",
       "      <th>Time</th>\n",
       "      <th>Source</th>\n",
       "      <th>Link</th>\n",
       "      <th>Case number 1</th>\n",
       "      <th>Case number 2</th>\n",
       "    </tr>\n",
       "  </thead>\n",
       "  <tbody>\n",
       "    <tr>\n",
       "      <td>0</td>\n",
       "      <td>2016.09.18.c</td>\n",
       "      <td>18-Sep-16</td>\n",
       "      <td>2016</td>\n",
       "      <td>USA</td>\n",
       "      <td>Florida</td>\n",
       "      <td>New Smyrna Beach, Volusia County</td>\n",
       "      <td>male</td>\n",
       "      <td>M</td>\n",
       "      <td>Minor injury to thigh</td>\n",
       "      <td>N</td>\n",
       "      <td>Afternoon</td>\n",
       "      <td>Orlando Sentinel, 9/19/2016</td>\n",
       "      <td>http://sharkattackfile.net/spreadsheets/pdf_di...</td>\n",
       "      <td>2016.09.18.c</td>\n",
       "      <td>2016.09.18.c</td>\n",
       "    </tr>\n",
       "    <tr>\n",
       "      <td>1</td>\n",
       "      <td>2016.09.18.b</td>\n",
       "      <td>18-Sep-16</td>\n",
       "      <td>2016</td>\n",
       "      <td>USA</td>\n",
       "      <td>Florida</td>\n",
       "      <td>New Smyrna Beach, Volusia County</td>\n",
       "      <td>Chucky Luciano</td>\n",
       "      <td>M</td>\n",
       "      <td>Lacerations to hands</td>\n",
       "      <td>N</td>\n",
       "      <td>Morning</td>\n",
       "      <td>Orlando Sentinel, 9/19/2016</td>\n",
       "      <td>http://sharkattackfile.net/spreadsheets/pdf_di...</td>\n",
       "      <td>2016.09.18.b</td>\n",
       "      <td>2016.09.18.b</td>\n",
       "    </tr>\n",
       "  </tbody>\n",
       "</table>\n",
       "</div>"
      ],
      "text/plain": [
       "    Case number       Date  Year Country     Area  \\\n",
       "0  2016.09.18.c  18-Sep-16  2016     USA  Florida   \n",
       "1  2016.09.18.b  18-Sep-16  2016     USA  Florida   \n",
       "\n",
       "                           Location            Name Sex  \\\n",
       "0  New Smyrna Beach, Volusia County            male   M   \n",
       "1  New Smyrna Beach, Volusia County  Chucky Luciano   M   \n",
       "\n",
       "                  Injury Fatal       Time                       Source  \\\n",
       "0  Minor injury to thigh     N  Afternoon  Orlando Sentinel, 9/19/2016   \n",
       "1   Lacerations to hands     N    Morning  Orlando Sentinel, 9/19/2016   \n",
       "\n",
       "                                                Link Case number 1  \\\n",
       "0  http://sharkattackfile.net/spreadsheets/pdf_di...  2016.09.18.c   \n",
       "1  http://sharkattackfile.net/spreadsheets/pdf_di...  2016.09.18.b   \n",
       "\n",
       "  Case number 2  \n",
       "0  2016.09.18.c  \n",
       "1  2016.09.18.b  "
      ]
     },
     "execution_count": 53,
     "metadata": {},
     "output_type": "execute_result"
    }
   ],
   "source": [
    "df_copy_copy.head(2)"
   ]
  },
  {
   "cell_type": "code",
   "execution_count": 54,
   "metadata": {},
   "outputs": [],
   "source": [
    "df_copy = df_copy_copy\n",
    "df_copy_copy = df_copy.copy()"
   ]
  },
  {
   "cell_type": "code",
   "execution_count": 55,
   "metadata": {},
   "outputs": [
    {
     "data": {
      "text/html": [
       "<div>\n",
       "<style scoped>\n",
       "    .dataframe tbody tr th:only-of-type {\n",
       "        vertical-align: middle;\n",
       "    }\n",
       "\n",
       "    .dataframe tbody tr th {\n",
       "        vertical-align: top;\n",
       "    }\n",
       "\n",
       "    .dataframe thead th {\n",
       "        text-align: right;\n",
       "    }\n",
       "</style>\n",
       "<table border=\"1\" class=\"dataframe\">\n",
       "  <thead>\n",
       "    <tr style=\"text-align: right;\">\n",
       "      <th></th>\n",
       "      <th>Case number</th>\n",
       "      <th>Case number 1</th>\n",
       "      <th>Case number 2</th>\n",
       "    </tr>\n",
       "  </thead>\n",
       "  <tbody>\n",
       "    <tr>\n",
       "      <td>0</td>\n",
       "      <td>2016.09.18.c</td>\n",
       "      <td>2016.09.18.c</td>\n",
       "      <td>2016.09.18.c</td>\n",
       "    </tr>\n",
       "    <tr>\n",
       "      <td>1</td>\n",
       "      <td>2016.09.18.b</td>\n",
       "      <td>2016.09.18.b</td>\n",
       "      <td>2016.09.18.b</td>\n",
       "    </tr>\n",
       "    <tr>\n",
       "      <td>2</td>\n",
       "      <td>2016.09.18.a</td>\n",
       "      <td>2016.09.18.a</td>\n",
       "      <td>2016.09.18.a</td>\n",
       "    </tr>\n",
       "    <tr>\n",
       "      <td>3</td>\n",
       "      <td>2016.09.17</td>\n",
       "      <td>2016.09.17</td>\n",
       "      <td>2016.09.17</td>\n",
       "    </tr>\n",
       "    <tr>\n",
       "      <td>4</td>\n",
       "      <td>2016.09.15</td>\n",
       "      <td>2016.09.16</td>\n",
       "      <td>2016.09.15</td>\n",
       "    </tr>\n",
       "    <tr>\n",
       "      <td>...</td>\n",
       "      <td>...</td>\n",
       "      <td>...</td>\n",
       "      <td>...</td>\n",
       "    </tr>\n",
       "    <tr>\n",
       "      <td>5980</td>\n",
       "      <td>ND.0012</td>\n",
       "      <td>ND.0012</td>\n",
       "      <td>ND.0012</td>\n",
       "    </tr>\n",
       "    <tr>\n",
       "      <td>5986</td>\n",
       "      <td>ND.0006</td>\n",
       "      <td>ND.0006</td>\n",
       "      <td>ND.0006</td>\n",
       "    </tr>\n",
       "    <tr>\n",
       "      <td>5987</td>\n",
       "      <td>ND.0005</td>\n",
       "      <td>ND.0005</td>\n",
       "      <td>ND.0005</td>\n",
       "    </tr>\n",
       "    <tr>\n",
       "      <td>5989</td>\n",
       "      <td>ND.0003</td>\n",
       "      <td>ND.0003</td>\n",
       "      <td>ND.0003</td>\n",
       "    </tr>\n",
       "    <tr>\n",
       "      <td>5991</td>\n",
       "      <td>ND.0001</td>\n",
       "      <td>ND.0001</td>\n",
       "      <td>ND.0001</td>\n",
       "    </tr>\n",
       "  </tbody>\n",
       "</table>\n",
       "<p>4488 rows × 3 columns</p>\n",
       "</div>"
      ],
      "text/plain": [
       "       Case number Case number 1 Case number 2\n",
       "0     2016.09.18.c  2016.09.18.c  2016.09.18.c\n",
       "1     2016.09.18.b  2016.09.18.b  2016.09.18.b\n",
       "2     2016.09.18.a  2016.09.18.a  2016.09.18.a\n",
       "3       2016.09.17    2016.09.17    2016.09.17\n",
       "4       2016.09.15    2016.09.16    2016.09.15\n",
       "...            ...           ...           ...\n",
       "5980       ND.0012       ND.0012       ND.0012\n",
       "5986       ND.0006       ND.0006       ND.0006\n",
       "5987       ND.0005       ND.0005       ND.0005\n",
       "5989       ND.0003       ND.0003       ND.0003\n",
       "5991       ND.0001       ND.0001       ND.0001\n",
       "\n",
       "[4488 rows x 3 columns]"
      ]
     },
     "execution_count": 55,
     "metadata": {},
     "output_type": "execute_result"
    }
   ],
   "source": [
    "# 25. Checking the 'Case number', 'Case number 1' and 'Case number 2' columns\n",
    "df_copy_copy[['Case number', 'Case number 1', 'Case number 2']]"
   ]
  },
  {
   "cell_type": "code",
   "execution_count": 56,
   "metadata": {},
   "outputs": [],
   "source": [
    "# Seems kind of redundant, let's examine it a bit more\n",
    "case = [str(i).strip() for i in df_copy_copy['Case number']]\n",
    "case_1 = [str(i).strip() for i in df_copy_copy['Case number 1']]\n",
    "case_2 = [str(i).strip() for i in df_copy_copy['Case number 2']]"
   ]
  },
  {
   "cell_type": "code",
   "execution_count": 57,
   "metadata": {},
   "outputs": [
    {
     "data": {
      "text/plain": [
       "[('2016.09.15', '2016.09.16'),\n",
       " ('2016.01.24.b', '2015.01.24.b'),\n",
       " ('2015.12.23', '2015.11.07'),\n",
       " ('2015.10.28.a', '2015.10.28'),\n",
       " ('2015.07-10', '2015.07.10'),\n",
       " ('1967.07.05', '1967/07.05'),\n",
       " ('1961.09.02.R', '1961.09,06.R'),\n",
       " ('1934.01.08.R', '1934.02.08.R'),\n",
       " ('1911.07.31.R', '1911.07.31.T')]"
      ]
     },
     "execution_count": 57,
     "metadata": {},
     "output_type": "execute_result"
    }
   ],
   "source": [
    "[(case[i], case_1[i]) for i in range(len(case)) if case[i] != case_1[i]]"
   ]
  },
  {
   "cell_type": "code",
   "execution_count": 58,
   "metadata": {},
   "outputs": [
    {
     "data": {
      "text/plain": [
       "[('2015.07-10', '2015.07.10'), ('1934.01.08.R', '1934.02.08.R')]"
      ]
     },
     "execution_count": 58,
     "metadata": {},
     "output_type": "execute_result"
    }
   ],
   "source": [
    "[(case[i], case_2[i]) for i in range(len(case)) if case[i] != case_2[i]]"
   ]
  },
  {
   "cell_type": "code",
   "execution_count": 59,
   "metadata": {},
   "outputs": [
    {
     "data": {
      "text/plain": [
       "[('2016.09.15',\n",
       "  '2016.09.16',\n",
       "  '2016.09.15',\n",
       "  'http://sharkattackfile.net/spreadsheets/pdf_directory/2016.09.16-BellsBeach.pdf'),\n",
       " ('2016.01.24.b',\n",
       "  '2015.01.24.b',\n",
       "  '2016.01.24.b',\n",
       "  'http://sharkattackfile.net/spreadsheets/pdf_directory/2016.01.24.b-Love.pdf')]"
      ]
     },
     "execution_count": 59,
     "metadata": {},
     "output_type": "execute_result"
    }
   ],
   "source": [
    "# Let's check what is the reference doscumentation file\n",
    "[(case[i], case_1[i] ,case_2[i] , hrefs[i]) for i in range(len(case)) if case[i] != case_1[i]][:2]"
   ]
  },
  {
   "cell_type": "code",
   "execution_count": 60,
   "metadata": {},
   "outputs": [],
   "source": [
    "# 26. Cleaning up that mess by using the 'Link' column to extract the real Case numbers\n",
    "\n",
    "links = [str(i).strip() for i in df_copy_copy['Link']]"
   ]
  },
  {
   "cell_type": "code",
   "execution_count": 61,
   "metadata": {},
   "outputs": [
    {
     "data": {
      "text/plain": [
       "['http://sharkattackfile.net/spreadsheets/pdf_directory/2016.09.18.c-NSB.pdf',\n",
       " 'http://sharkattackfile.net/spreadsheets/pdf_directory/2016.09.18.b-Luciano.pdf',\n",
       " 'http://sharkattackfile.net/spreadsheets/pdf_directory/2016.09.18.a-NSB.pdf',\n",
       " 'http://sharkattackfile.net/spreadsheets/pdf_directory/2016.09.17-Angiolella.pdf',\n",
       " 'http://sharkattackfile.net/spreadsheets/pdf_directory/2016.09.16-BellsBeach.pdf']"
      ]
     },
     "execution_count": 61,
     "metadata": {},
     "output_type": "execute_result"
    }
   ],
   "source": [
    "links[:5]"
   ]
  },
  {
   "cell_type": "code",
   "execution_count": 62,
   "metadata": {},
   "outputs": [
    {
     "data": {
      "text/plain": [
       "4488"
      ]
     },
     "execution_count": 62,
     "metadata": {},
     "output_type": "execute_result"
    }
   ],
   "source": [
    "len([j for j in [i.split('-')[0].split('/')[-1] for i in links] if j])"
   ]
  },
  {
   "cell_type": "code",
   "execution_count": 63,
   "metadata": {},
   "outputs": [],
   "source": [
    "case_nrs = [i.split('-')[0].split('/')[-1] for i in links]"
   ]
  },
  {
   "cell_type": "code",
   "execution_count": 64,
   "metadata": {},
   "outputs": [],
   "source": [
    "# 27. Adding 'Case nr' column at the first position\n",
    "df_copy_copy.insert(loc=0, column='Case nr',value=case_nrs)"
   ]
  },
  {
   "cell_type": "code",
   "execution_count": 65,
   "metadata": {},
   "outputs": [],
   "source": [
    "# 28. Deleting the 3 Case number columns\n",
    "df_copy_copy = df_copy_copy.drop(axis = 1, columns =  ['Case number',\n",
    "                                                       'Case number 1', \n",
    "                                                       'Case number 2'])"
   ]
  },
  {
   "cell_type": "code",
   "execution_count": 66,
   "metadata": {},
   "outputs": [
    {
     "data": {
      "text/html": [
       "<div>\n",
       "<style scoped>\n",
       "    .dataframe tbody tr th:only-of-type {\n",
       "        vertical-align: middle;\n",
       "    }\n",
       "\n",
       "    .dataframe tbody tr th {\n",
       "        vertical-align: top;\n",
       "    }\n",
       "\n",
       "    .dataframe thead th {\n",
       "        text-align: right;\n",
       "    }\n",
       "</style>\n",
       "<table border=\"1\" class=\"dataframe\">\n",
       "  <thead>\n",
       "    <tr style=\"text-align: right;\">\n",
       "      <th></th>\n",
       "      <th>Case nr</th>\n",
       "      <th>Date</th>\n",
       "      <th>Year</th>\n",
       "      <th>Country</th>\n",
       "      <th>Area</th>\n",
       "      <th>Location</th>\n",
       "      <th>Name</th>\n",
       "      <th>Sex</th>\n",
       "      <th>Injury</th>\n",
       "      <th>Fatal</th>\n",
       "      <th>Time</th>\n",
       "      <th>Source</th>\n",
       "      <th>Link</th>\n",
       "    </tr>\n",
       "  </thead>\n",
       "  <tbody>\n",
       "    <tr>\n",
       "      <td>19</td>\n",
       "      <td>2016.06.04</td>\n",
       "      <td>04-Aug-16</td>\n",
       "      <td>2016</td>\n",
       "      <td>USA</td>\n",
       "      <td>Florida</td>\n",
       "      <td>New Smyrna Beach, Volusia County</td>\n",
       "      <td>Nolan Tyler</td>\n",
       "      <td>M</td>\n",
       "      <td>Big toe bitten</td>\n",
       "      <td>N</td>\n",
       "      <td>NaN</td>\n",
       "      <td>News 965, 8/5/2016</td>\n",
       "      <td>http://sharkattackfile.net/spreadsheets/pdf_di...</td>\n",
       "    </tr>\n",
       "    <tr>\n",
       "      <td>53</td>\n",
       "      <td>2016.06.04</td>\n",
       "      <td>04-Jun-16</td>\n",
       "      <td>2016</td>\n",
       "      <td>EGYPT</td>\n",
       "      <td>Suez</td>\n",
       "      <td>Ain Sokhna</td>\n",
       "      <td>Omar Abdel Qader</td>\n",
       "      <td>M</td>\n",
       "      <td>Leg severely bitten, surgically amputated</td>\n",
       "      <td>N</td>\n",
       "      <td>Morning</td>\n",
       "      <td>Ahram Online, 6/4/2016</td>\n",
       "      <td>http://sharkattackfile.net/spreadsheets/pdf_di...</td>\n",
       "    </tr>\n",
       "    <tr>\n",
       "      <td>297</td>\n",
       "      <td>2014.08.08</td>\n",
       "      <td>08-Aug-14</td>\n",
       "      <td>2014</td>\n",
       "      <td>USA</td>\n",
       "      <td>Louisiana</td>\n",
       "      <td>Lake Ponchartain off Southshore Harbor, New Or...</td>\n",
       "      <td>Trent Trentacosta</td>\n",
       "      <td>M</td>\n",
       "      <td>Minor lacerations to left heel and big toe</td>\n",
       "      <td>N</td>\n",
       "      <td>Afternoon</td>\n",
       "      <td>The Times-Picayune, 8/9/2014</td>\n",
       "      <td>http://sharkattackfile.net/spreadsheets/pdf_di...</td>\n",
       "    </tr>\n",
       "    <tr>\n",
       "      <td>300</td>\n",
       "      <td>2014.08.08</td>\n",
       "      <td>02-Aug-14</td>\n",
       "      <td>2014</td>\n",
       "      <td>USA</td>\n",
       "      <td>Florida</td>\n",
       "      <td>South of Cocoa Beach, Brevard County</td>\n",
       "      <td>male</td>\n",
       "      <td>M</td>\n",
       "      <td>Foot bitten</td>\n",
       "      <td>N</td>\n",
       "      <td>NaN</td>\n",
       "      <td>Florida Today, 8/8/2014</td>\n",
       "      <td>http://sharkattackfile.net/spreadsheets/pdf_di...</td>\n",
       "    </tr>\n",
       "    <tr>\n",
       "      <td>412</td>\n",
       "      <td>2013.08.25</td>\n",
       "      <td>25-Aug-2013</td>\n",
       "      <td>2013</td>\n",
       "      <td>USA</td>\n",
       "      <td>Florida</td>\n",
       "      <td>Winterhaven Park,           Ponce Inlet, Volus...</td>\n",
       "      <td>Riley Breihan</td>\n",
       "      <td>F</td>\n",
       "      <td>Minor injury to left lower leg &amp; heel</td>\n",
       "      <td>N</td>\n",
       "      <td>Evening</td>\n",
       "      <td>Daytona Beach News-Journal, 8/28/2013</td>\n",
       "      <td>http://sharkattackfile.net/spreadsheets/pdf_di...</td>\n",
       "    </tr>\n",
       "    <tr>\n",
       "      <td>...</td>\n",
       "      <td>...</td>\n",
       "      <td>...</td>\n",
       "      <td>...</td>\n",
       "      <td>...</td>\n",
       "      <td>...</td>\n",
       "      <td>...</td>\n",
       "      <td>...</td>\n",
       "      <td>...</td>\n",
       "      <td>...</td>\n",
       "      <td>...</td>\n",
       "      <td>...</td>\n",
       "      <td>...</td>\n",
       "      <td>...</td>\n",
       "    </tr>\n",
       "    <tr>\n",
       "      <td>5979</td>\n",
       "      <td>ND</td>\n",
       "      <td>No date (3 days after preceding incident) &amp; pr...</td>\n",
       "      <td>0</td>\n",
       "      <td>SOUTH AFRICA</td>\n",
       "      <td>KwaZulu-Natal</td>\n",
       "      <td>Durban</td>\n",
       "      <td>a native fisherman</td>\n",
       "      <td>M</td>\n",
       "      <td>FATAL, body not recovered but shark was caught...</td>\n",
       "      <td>Y</td>\n",
       "      <td>NaN</td>\n",
       "      <td>Rural New Yorker, 7/19/1913</td>\n",
       "      <td>http://sharkattackfile.net/spreadsheets/pdf_di...</td>\n",
       "    </tr>\n",
       "    <tr>\n",
       "      <td>5980</td>\n",
       "      <td>ND</td>\n",
       "      <td>Before          19-Jul-1913</td>\n",
       "      <td>0</td>\n",
       "      <td>SOUTH AFRICA</td>\n",
       "      <td>KwaZulu-Natal</td>\n",
       "      <td>Durban</td>\n",
       "      <td>a young Scotsman</td>\n",
       "      <td>M</td>\n",
       "      <td>FATAL, leg stripped of flesh</td>\n",
       "      <td>Y</td>\n",
       "      <td>NaN</td>\n",
       "      <td>Rural New Yorker, 7/19/1913</td>\n",
       "      <td>http://sharkattackfile.net/spreadsheets/pdf_di...</td>\n",
       "    </tr>\n",
       "    <tr>\n",
       "      <td>5986</td>\n",
       "      <td>ND</td>\n",
       "      <td>Before 1906</td>\n",
       "      <td>0</td>\n",
       "      <td>AUSTRALIA</td>\n",
       "      <td>New South Wales</td>\n",
       "      <td></td>\n",
       "      <td>Arab boy</td>\n",
       "      <td>M</td>\n",
       "      <td>FATAL</td>\n",
       "      <td>Y</td>\n",
       "      <td>NaN</td>\n",
       "      <td>L. Becke in New York Sun, 9/9/1906; L. Schultz...</td>\n",
       "      <td>http://sharkattackfile.net/spreadsheets/pdf_di...</td>\n",
       "    </tr>\n",
       "    <tr>\n",
       "      <td>5987</td>\n",
       "      <td>ND</td>\n",
       "      <td>Before 1903</td>\n",
       "      <td>0</td>\n",
       "      <td>AUSTRALIA</td>\n",
       "      <td>Western Australia</td>\n",
       "      <td>Roebuck Bay</td>\n",
       "      <td>male</td>\n",
       "      <td>M</td>\n",
       "      <td>FATAL</td>\n",
       "      <td>Y</td>\n",
       "      <td>NaN</td>\n",
       "      <td>H. Taunton; N. Bartlett,  p. 234</td>\n",
       "      <td>http://sharkattackfile.net/spreadsheets/pdf_di...</td>\n",
       "    </tr>\n",
       "    <tr>\n",
       "      <td>5989</td>\n",
       "      <td>ND</td>\n",
       "      <td>1900-1905</td>\n",
       "      <td>0</td>\n",
       "      <td>USA</td>\n",
       "      <td>North Carolina</td>\n",
       "      <td>Ocracoke Inlet</td>\n",
       "      <td>Coast Guard personnel</td>\n",
       "      <td>M</td>\n",
       "      <td>FATAL</td>\n",
       "      <td>Y</td>\n",
       "      <td>NaN</td>\n",
       "      <td>F. Schwartz, p.23; C. Creswell, GSAF</td>\n",
       "      <td>http://sharkattackfile.net/spreadsheets/pdf_di...</td>\n",
       "    </tr>\n",
       "  </tbody>\n",
       "</table>\n",
       "<p>96 rows × 13 columns</p>\n",
       "</div>"
      ],
      "text/plain": [
       "         Case nr                                               Date  Year  \\\n",
       "19    2016.06.04                                          04-Aug-16  2016   \n",
       "53    2016.06.04                                          04-Jun-16  2016   \n",
       "297   2014.08.08                                          08-Aug-14  2014   \n",
       "300   2014.08.08                                          02-Aug-14  2014   \n",
       "412   2013.08.25                                        25-Aug-2013  2013   \n",
       "...          ...                                                ...   ...   \n",
       "5979          ND  No date (3 days after preceding incident) & pr...     0   \n",
       "5980          ND                        Before          19-Jul-1913     0   \n",
       "5986          ND                                        Before 1906     0   \n",
       "5987          ND                                        Before 1903     0   \n",
       "5989          ND                                          1900-1905     0   \n",
       "\n",
       "           Country               Area  \\\n",
       "19             USA            Florida   \n",
       "53           EGYPT               Suez   \n",
       "297            USA          Louisiana   \n",
       "300            USA            Florida   \n",
       "412            USA            Florida   \n",
       "...            ...                ...   \n",
       "5979  SOUTH AFRICA      KwaZulu-Natal   \n",
       "5980  SOUTH AFRICA      KwaZulu-Natal   \n",
       "5986     AUSTRALIA    New South Wales   \n",
       "5987     AUSTRALIA  Western Australia   \n",
       "5989           USA     North Carolina   \n",
       "\n",
       "                                               Location  \\\n",
       "19                     New Smyrna Beach, Volusia County   \n",
       "53                                           Ain Sokhna   \n",
       "297   Lake Ponchartain off Southshore Harbor, New Or...   \n",
       "300                South of Cocoa Beach, Brevard County   \n",
       "412   Winterhaven Park,           Ponce Inlet, Volus...   \n",
       "...                                                 ...   \n",
       "5979                                             Durban   \n",
       "5980                                             Durban   \n",
       "5986                                                      \n",
       "5987                                        Roebuck Bay   \n",
       "5989                                     Ocracoke Inlet   \n",
       "\n",
       "                       Name Sex  \\\n",
       "19              Nolan Tyler   M   \n",
       "53         Omar Abdel Qader   M   \n",
       "297       Trent Trentacosta   M   \n",
       "300                    male   M   \n",
       "412           Riley Breihan   F   \n",
       "...                     ...  ..   \n",
       "5979     a native fisherman   M   \n",
       "5980       a young Scotsman   M   \n",
       "5986               Arab boy   M   \n",
       "5987                   male   M   \n",
       "5989  Coast Guard personnel   M   \n",
       "\n",
       "                                                 Injury Fatal       Time  \\\n",
       "19                                       Big toe bitten     N        NaN   \n",
       "53            Leg severely bitten, surgically amputated     N    Morning   \n",
       "297          Minor lacerations to left heel and big toe     N  Afternoon   \n",
       "300                                         Foot bitten     N        NaN   \n",
       "412               Minor injury to left lower leg & heel     N    Evening   \n",
       "...                                                 ...   ...        ...   \n",
       "5979  FATAL, body not recovered but shark was caught...     Y        NaN   \n",
       "5980                     FATAL, leg stripped of flesh       Y        NaN   \n",
       "5986                                              FATAL     Y        NaN   \n",
       "5987                                              FATAL     Y        NaN   \n",
       "5989                                              FATAL     Y        NaN   \n",
       "\n",
       "                                                 Source  \\\n",
       "19                                   News 965, 8/5/2016   \n",
       "53                               Ahram Online, 6/4/2016   \n",
       "297                        The Times-Picayune, 8/9/2014   \n",
       "300                             Florida Today, 8/8/2014   \n",
       "412               Daytona Beach News-Journal, 8/28/2013   \n",
       "...                                                 ...   \n",
       "5979                       Rural New Yorker, 7/19/1913    \n",
       "5980                        Rural New Yorker, 7/19/1913   \n",
       "5986  L. Becke in New York Sun, 9/9/1906; L. Schultz...   \n",
       "5987                   H. Taunton; N. Bartlett,  p. 234   \n",
       "5989               F. Schwartz, p.23; C. Creswell, GSAF   \n",
       "\n",
       "                                                   Link  \n",
       "19    http://sharkattackfile.net/spreadsheets/pdf_di...  \n",
       "53    http://sharkattackfile.net/spreadsheets/pdf_di...  \n",
       "297   http://sharkattackfile.net/spreadsheets/pdf_di...  \n",
       "300   http://sharkattackfile.net/spreadsheets/pdf_di...  \n",
       "412   http://sharkattackfile.net/spreadsheets/pdf_di...  \n",
       "...                                                 ...  \n",
       "5979  http://sharkattackfile.net/spreadsheets/pdf_di...  \n",
       "5980  http://sharkattackfile.net/spreadsheets/pdf_di...  \n",
       "5986  http://sharkattackfile.net/spreadsheets/pdf_di...  \n",
       "5987  http://sharkattackfile.net/spreadsheets/pdf_di...  \n",
       "5989  http://sharkattackfile.net/spreadsheets/pdf_di...  \n",
       "\n",
       "[96 rows x 13 columns]"
      ]
     },
     "execution_count": 66,
     "metadata": {},
     "output_type": "execute_result"
    }
   ],
   "source": [
    "# 29. Checking which Case nrs are duplicated, they should be uniqe...\n",
    "df_copy_copy[df_copy_copy.duplicated(['Case nr'], keep=False)]\n"
   ]
  },
  {
   "cell_type": "code",
   "execution_count": 67,
   "metadata": {},
   "outputs": [],
   "source": [
    "# 30. Converting the non unique Case Nrs to unique\n",
    "unique_case_nrs = []\n",
    "index = 0\n",
    "for i in df_copy_copy['Case nr']:\n",
    "    if i not in unique_case_nrs:\n",
    "        unique_case_nrs.append(i.strip())\n",
    "        index = 0\n",
    "        continue\n",
    "    else:\n",
    "        unique_case_nrs.append(i.strip() + '_' + str(index))\n",
    "        index += 1\n",
    "        continue\n",
    "        "
   ]
  },
  {
   "cell_type": "code",
   "execution_count": 68,
   "metadata": {},
   "outputs": [
    {
     "data": {
      "text/plain": [
       "4488"
      ]
     },
     "execution_count": 68,
     "metadata": {},
     "output_type": "execute_result"
    }
   ],
   "source": [
    "len(set(unique_case_nrs))"
   ]
  },
  {
   "cell_type": "code",
   "execution_count": 69,
   "metadata": {},
   "outputs": [],
   "source": [
    "df_copy_copy['Case nr'] = unique_case_nrs"
   ]
  },
  {
   "cell_type": "code",
   "execution_count": 70,
   "metadata": {},
   "outputs": [],
   "source": [
    "# 31. Making the unique case nr column the index\n",
    "df_copy_copy.set_index('Case nr', inplace=True)"
   ]
  },
  {
   "cell_type": "code",
   "execution_count": 71,
   "metadata": {},
   "outputs": [
    {
     "data": {
      "text/html": [
       "<div>\n",
       "<style scoped>\n",
       "    .dataframe tbody tr th:only-of-type {\n",
       "        vertical-align: middle;\n",
       "    }\n",
       "\n",
       "    .dataframe tbody tr th {\n",
       "        vertical-align: top;\n",
       "    }\n",
       "\n",
       "    .dataframe thead th {\n",
       "        text-align: right;\n",
       "    }\n",
       "</style>\n",
       "<table border=\"1\" class=\"dataframe\">\n",
       "  <thead>\n",
       "    <tr style=\"text-align: right;\">\n",
       "      <th></th>\n",
       "      <th>Date</th>\n",
       "      <th>Year</th>\n",
       "      <th>Country</th>\n",
       "      <th>Area</th>\n",
       "      <th>Location</th>\n",
       "      <th>Name</th>\n",
       "      <th>Sex</th>\n",
       "      <th>Injury</th>\n",
       "      <th>Fatal</th>\n",
       "      <th>Time</th>\n",
       "      <th>Source</th>\n",
       "      <th>Link</th>\n",
       "    </tr>\n",
       "    <tr>\n",
       "      <th>Case nr</th>\n",
       "      <th></th>\n",
       "      <th></th>\n",
       "      <th></th>\n",
       "      <th></th>\n",
       "      <th></th>\n",
       "      <th></th>\n",
       "      <th></th>\n",
       "      <th></th>\n",
       "      <th></th>\n",
       "      <th></th>\n",
       "      <th></th>\n",
       "      <th></th>\n",
       "    </tr>\n",
       "  </thead>\n",
       "  <tbody>\n",
       "    <tr>\n",
       "      <td>2016.09.18.c</td>\n",
       "      <td>18-Sep-16</td>\n",
       "      <td>2016</td>\n",
       "      <td>USA</td>\n",
       "      <td>Florida</td>\n",
       "      <td>New Smyrna Beach, Volusia County</td>\n",
       "      <td>male</td>\n",
       "      <td>M</td>\n",
       "      <td>Minor injury to thigh</td>\n",
       "      <td>N</td>\n",
       "      <td>Afternoon</td>\n",
       "      <td>Orlando Sentinel, 9/19/2016</td>\n",
       "      <td>http://sharkattackfile.net/spreadsheets/pdf_di...</td>\n",
       "    </tr>\n",
       "    <tr>\n",
       "      <td>2016.09.18.b</td>\n",
       "      <td>18-Sep-16</td>\n",
       "      <td>2016</td>\n",
       "      <td>USA</td>\n",
       "      <td>Florida</td>\n",
       "      <td>New Smyrna Beach, Volusia County</td>\n",
       "      <td>Chucky Luciano</td>\n",
       "      <td>M</td>\n",
       "      <td>Lacerations to hands</td>\n",
       "      <td>N</td>\n",
       "      <td>Morning</td>\n",
       "      <td>Orlando Sentinel, 9/19/2016</td>\n",
       "      <td>http://sharkattackfile.net/spreadsheets/pdf_di...</td>\n",
       "    </tr>\n",
       "  </tbody>\n",
       "</table>\n",
       "</div>"
      ],
      "text/plain": [
       "                   Date  Year Country     Area  \\\n",
       "Case nr                                          \n",
       "2016.09.18.c  18-Sep-16  2016     USA  Florida   \n",
       "2016.09.18.b  18-Sep-16  2016     USA  Florida   \n",
       "\n",
       "                                      Location            Name Sex  \\\n",
       "Case nr                                                              \n",
       "2016.09.18.c  New Smyrna Beach, Volusia County            male   M   \n",
       "2016.09.18.b  New Smyrna Beach, Volusia County  Chucky Luciano   M   \n",
       "\n",
       "                             Injury Fatal       Time  \\\n",
       "Case nr                                                \n",
       "2016.09.18.c  Minor injury to thigh     N  Afternoon   \n",
       "2016.09.18.b   Lacerations to hands     N    Morning   \n",
       "\n",
       "                                   Source  \\\n",
       "Case nr                                     \n",
       "2016.09.18.c  Orlando Sentinel, 9/19/2016   \n",
       "2016.09.18.b  Orlando Sentinel, 9/19/2016   \n",
       "\n",
       "                                                           Link  \n",
       "Case nr                                                          \n",
       "2016.09.18.c  http://sharkattackfile.net/spreadsheets/pdf_di...  \n",
       "2016.09.18.b  http://sharkattackfile.net/spreadsheets/pdf_di...  "
      ]
     },
     "execution_count": 71,
     "metadata": {},
     "output_type": "execute_result"
    }
   ],
   "source": [
    "df_copy_copy.head(2)"
   ]
  },
  {
   "cell_type": "code",
   "execution_count": 72,
   "metadata": {},
   "outputs": [],
   "source": [
    "df_copy = df_copy_copy\n",
    "df_copy_copy = df_copy.copy()"
   ]
  },
  {
   "cell_type": "code",
   "execution_count": 73,
   "metadata": {},
   "outputs": [
    {
     "data": {
      "text/plain": [
       "Case nr\n",
       "2016.09.18.c                         Minor injury to thigh\n",
       "2016.09.18.b                          Lacerations to hands\n",
       "2016.09.18.a                      Lacerations to lower leg\n",
       "2016.09.17                    Struck by fin on chest & leg\n",
       "2016.09.16           No injury: Knocked off board by shark\n",
       "2016.09.11                             Minor injury to arm\n",
       "2016.09.07        Severe lacerations to shoulder & forearm\n",
       "2016.09.06                                           FATAL\n",
       "2016.09.05.b    Lacerations & punctures to lower right leg\n",
       "2016.09.05.a       No inury, board broken in half by shark\n",
       "Name: Injury, dtype: object"
      ]
     },
     "execution_count": 73,
     "metadata": {},
     "output_type": "execute_result"
    }
   ],
   "source": [
    "# 32. Checking the 'Injury' column\n",
    "df_copy_copy['Injury'][:10]"
   ]
  },
  {
   "cell_type": "code",
   "execution_count": 74,
   "metadata": {},
   "outputs": [],
   "source": [
    "# 33. Creating a list with body parts to categorize the injuries\n",
    "\n",
    "body_parts = ['fatal',\n",
    "              'death',\n",
    "              'remain',\n",
    "              'drown',\n",
    "              'disappeared',\n",
    "              'abrasion',\n",
    "              'bod', # bodies etc\n",
    "              'corpse',\n",
    "              'recover', # for not recovered\n",
    "              'head',\n",
    "              'scalp',\n",
    "              'teeth',\n",
    "              'tooth',\n",
    "              'chin',\n",
    "              'neck', \n",
    "              'arm',\n",
    "              'hand',\n",
    "              'wrist',\n",
    "              'finger',\n",
    "              'finger',\n",
    "              'chest',\n",
    "              'shoulder',\n",
    "              'torso',\n",
    "              'bit',\n",
    "              'abdomen',\n",
    "              'buttock',\n",
    "              'hip',\n",
    "              'thigh',\n",
    "              'knee',\n",
    "              'calf',\n",
    "              'lacerat',\n",
    "              'leg',\n",
    "              'ankle',\n",
    "              'feet',\n",
    "              'foot',\n",
    "              'toe',\n",
    "              'heel',\n",
    "              'bruise',\n",
    "              'back',\n",
    "              'minor',\n",
    "              'missing',\n",
    "              'no injury', \n",
    "              'no inury',\n",
    "              'not injured',\n",
    "              'no details',\n",
    "              'no shark',\n",
    "              'not a shark',\n",
    "              'multiple',\n",
    "             ]\n",
    "            \n",
    "injuries = [i.lower().strip() for i in df_copy_copy['Injury']]\n"
   ]
  },
  {
   "cell_type": "code",
   "execution_count": 75,
   "metadata": {},
   "outputs": [],
   "source": [
    "# 34. Cleaning up the 'Injury' column\n",
    "injuries_cleaner = []\n",
    "for i in injuries:\n",
    "    for j in body_parts:\n",
    "        b = 0\n",
    "        if j in i:\n",
    "            injuries_cleaner.append(j)\n",
    "            b += 1\n",
    "            break\n",
    "    if not b:\n",
    "        injuries_cleaner.append('NaN')\n"
   ]
  },
  {
   "cell_type": "code",
   "execution_count": 76,
   "metadata": {},
   "outputs": [
    {
     "data": {
      "text/plain": [
       "(4488,\n",
       " 4488,\n",
       " {'NaN',\n",
       "  'abdomen',\n",
       "  'abrasion',\n",
       "  'ankle',\n",
       "  'arm',\n",
       "  'back',\n",
       "  'bit',\n",
       "  'bod',\n",
       "  'bruise',\n",
       "  'buttock',\n",
       "  'calf',\n",
       "  'chest',\n",
       "  'chin',\n",
       "  'corpse',\n",
       "  'death',\n",
       "  'disappeared',\n",
       "  'drown',\n",
       "  'fatal',\n",
       "  'feet',\n",
       "  'finger',\n",
       "  'foot',\n",
       "  'hand',\n",
       "  'head',\n",
       "  'heel',\n",
       "  'hip',\n",
       "  'knee',\n",
       "  'lacerat',\n",
       "  'leg',\n",
       "  'minor',\n",
       "  'missing',\n",
       "  'multiple',\n",
       "  'neck',\n",
       "  'no details',\n",
       "  'no injury',\n",
       "  'no inury',\n",
       "  'no shark',\n",
       "  'not a shark',\n",
       "  'not injured',\n",
       "  'recover',\n",
       "  'remain',\n",
       "  'scalp',\n",
       "  'shoulder',\n",
       "  'teeth',\n",
       "  'thigh',\n",
       "  'toe',\n",
       "  'tooth',\n",
       "  'torso',\n",
       "  'wrist'})"
      ]
     },
     "execution_count": 76,
     "metadata": {},
     "output_type": "execute_result"
    }
   ],
   "source": [
    "len(injuries), len(injuries_cleaner), set(injuries_cleaner)\n"
   ]
  },
  {
   "cell_type": "code",
   "execution_count": 77,
   "metadata": {},
   "outputs": [
    {
     "data": {
      "text/plain": [
       "['thigh', 'hand', 'lacerat', 'chest', 'no injury']"
      ]
     },
     "execution_count": 77,
     "metadata": {},
     "output_type": "execute_result"
    }
   ],
   "source": [
    "# 35. Creating a dictionary with body parts to categorize the injuries even better \n",
    "body_parts_dict = {'dead' : ['fatal','death','remain','drown','disappeared', 'bod', 'corpse','recover', 'missing'],\n",
    "              'lacerations': ['abrasion', 'bit', 'lacerat', 'bruise', 'minor', 'multiple'],\n",
    "              'head': ['head','scalp', 'teeth', 'tooth', 'chin', 'neck'],\n",
    "              'upper body': ['arm', 'hand', 'wrist', 'finger', 'chest', 'shoulder', 'torso', 'abdomen'],\n",
    "              'lower body': ['buttock', 'hip','thigh','knee','calf','leg','ankle','feet', 'foot', 'toe','heel', 'back'],\n",
    "              'no injury': ['no injury', 'no inury','not injured'],\n",
    "              'no shark' : ['no shark', 'not a shark'], \n",
    "             }\n",
    "injuries_cleaner[:5]"
   ]
  },
  {
   "cell_type": "code",
   "execution_count": 78,
   "metadata": {},
   "outputs": [],
   "source": [
    "clean_injuries = []\n",
    "for i in injuries_cleaner:            \n",
    "    for keys, vals in body_parts_dict.items():    # for name, age in dictionary.iteritems():  (for Python 2.x)\n",
    "        c = 0\n",
    "        if i in vals:\n",
    "            clean_injuries.append(keys)\n",
    "            c+=1\n",
    "            break\n",
    "    if not c:\n",
    "        clean_injuries.append('NaN')"
   ]
  },
  {
   "cell_type": "code",
   "execution_count": 79,
   "metadata": {},
   "outputs": [
    {
     "data": {
      "text/plain": [
       "4488"
      ]
     },
     "execution_count": 79,
     "metadata": {},
     "output_type": "execute_result"
    }
   ],
   "source": [
    "len(clean_injuries)\n"
   ]
  },
  {
   "cell_type": "code",
   "execution_count": 80,
   "metadata": {},
   "outputs": [
    {
     "data": {
      "text/plain": [
       "{'NaN',\n",
       " 'dead',\n",
       " 'head',\n",
       " 'lacerations',\n",
       " 'lower body',\n",
       " 'no injury',\n",
       " 'no shark',\n",
       " 'upper body'}"
      ]
     },
     "execution_count": 80,
     "metadata": {},
     "output_type": "execute_result"
    }
   ],
   "source": [
    "set(clean_injuries)"
   ]
  },
  {
   "cell_type": "code",
   "execution_count": 81,
   "metadata": {},
   "outputs": [],
   "source": [
    "# 36. Updating the 'Injury' column with cleaned data\n",
    "\n",
    "df_copy_copy['Injury'] = clean_injuries"
   ]
  },
  {
   "cell_type": "code",
   "execution_count": 82,
   "metadata": {},
   "outputs": [
    {
     "data": {
      "text/html": [
       "<div>\n",
       "<style scoped>\n",
       "    .dataframe tbody tr th:only-of-type {\n",
       "        vertical-align: middle;\n",
       "    }\n",
       "\n",
       "    .dataframe tbody tr th {\n",
       "        vertical-align: top;\n",
       "    }\n",
       "\n",
       "    .dataframe thead th {\n",
       "        text-align: right;\n",
       "    }\n",
       "</style>\n",
       "<table border=\"1\" class=\"dataframe\">\n",
       "  <thead>\n",
       "    <tr style=\"text-align: right;\">\n",
       "      <th></th>\n",
       "      <th>Date</th>\n",
       "      <th>Year</th>\n",
       "      <th>Country</th>\n",
       "      <th>Area</th>\n",
       "      <th>Location</th>\n",
       "      <th>Name</th>\n",
       "      <th>Sex</th>\n",
       "      <th>Injury</th>\n",
       "      <th>Fatal</th>\n",
       "      <th>Time</th>\n",
       "      <th>Source</th>\n",
       "      <th>Link</th>\n",
       "    </tr>\n",
       "    <tr>\n",
       "      <th>Case nr</th>\n",
       "      <th></th>\n",
       "      <th></th>\n",
       "      <th></th>\n",
       "      <th></th>\n",
       "      <th></th>\n",
       "      <th></th>\n",
       "      <th></th>\n",
       "      <th></th>\n",
       "      <th></th>\n",
       "      <th></th>\n",
       "      <th></th>\n",
       "      <th></th>\n",
       "    </tr>\n",
       "  </thead>\n",
       "  <tbody>\n",
       "    <tr>\n",
       "      <td>2016.09.18.c</td>\n",
       "      <td>18-Sep-16</td>\n",
       "      <td>2016</td>\n",
       "      <td>USA</td>\n",
       "      <td>Florida</td>\n",
       "      <td>New Smyrna Beach, Volusia County</td>\n",
       "      <td>male</td>\n",
       "      <td>M</td>\n",
       "      <td>lower body</td>\n",
       "      <td>N</td>\n",
       "      <td>Afternoon</td>\n",
       "      <td>Orlando Sentinel, 9/19/2016</td>\n",
       "      <td>http://sharkattackfile.net/spreadsheets/pdf_di...</td>\n",
       "    </tr>\n",
       "    <tr>\n",
       "      <td>2016.09.18.b</td>\n",
       "      <td>18-Sep-16</td>\n",
       "      <td>2016</td>\n",
       "      <td>USA</td>\n",
       "      <td>Florida</td>\n",
       "      <td>New Smyrna Beach, Volusia County</td>\n",
       "      <td>Chucky Luciano</td>\n",
       "      <td>M</td>\n",
       "      <td>upper body</td>\n",
       "      <td>N</td>\n",
       "      <td>Morning</td>\n",
       "      <td>Orlando Sentinel, 9/19/2016</td>\n",
       "      <td>http://sharkattackfile.net/spreadsheets/pdf_di...</td>\n",
       "    </tr>\n",
       "    <tr>\n",
       "      <td>2016.09.18.a</td>\n",
       "      <td>18-Sep-16</td>\n",
       "      <td>2016</td>\n",
       "      <td>USA</td>\n",
       "      <td>Florida</td>\n",
       "      <td>New Smyrna Beach, Volusia County</td>\n",
       "      <td>male</td>\n",
       "      <td>M</td>\n",
       "      <td>lacerations</td>\n",
       "      <td>N</td>\n",
       "      <td>Morning</td>\n",
       "      <td>Orlando Sentinel, 9/19/2016</td>\n",
       "      <td>http://sharkattackfile.net/spreadsheets/pdf_di...</td>\n",
       "    </tr>\n",
       "    <tr>\n",
       "      <td>2016.09.17</td>\n",
       "      <td>17-Sep-16</td>\n",
       "      <td>2016</td>\n",
       "      <td>AUSTRALIA</td>\n",
       "      <td>Victoria</td>\n",
       "      <td>Thirteenth Beach</td>\n",
       "      <td>Rory Angiolella</td>\n",
       "      <td>M</td>\n",
       "      <td>upper body</td>\n",
       "      <td>N</td>\n",
       "      <td>NaN</td>\n",
       "      <td>The Age, 9/18/2016</td>\n",
       "      <td>http://sharkattackfile.net/spreadsheets/pdf_di...</td>\n",
       "    </tr>\n",
       "    <tr>\n",
       "      <td>2016.09.16</td>\n",
       "      <td>16-Sep-16</td>\n",
       "      <td>2016</td>\n",
       "      <td>AUSTRALIA</td>\n",
       "      <td>Victoria</td>\n",
       "      <td>Bells Beach</td>\n",
       "      <td>male</td>\n",
       "      <td>M</td>\n",
       "      <td>no injury</td>\n",
       "      <td>N</td>\n",
       "      <td>NaN</td>\n",
       "      <td>The Age, 9/16/2016</td>\n",
       "      <td>http://sharkattackfile.net/spreadsheets/pdf_di...</td>\n",
       "    </tr>\n",
       "  </tbody>\n",
       "</table>\n",
       "</div>"
      ],
      "text/plain": [
       "                   Date  Year    Country      Area  \\\n",
       "Case nr                                              \n",
       "2016.09.18.c  18-Sep-16  2016        USA   Florida   \n",
       "2016.09.18.b  18-Sep-16  2016        USA   Florida   \n",
       "2016.09.18.a  18-Sep-16  2016        USA   Florida   \n",
       "2016.09.17    17-Sep-16  2016  AUSTRALIA  Victoria   \n",
       "2016.09.16    16-Sep-16  2016  AUSTRALIA  Victoria   \n",
       "\n",
       "                                      Location             Name Sex  \\\n",
       "Case nr                                                               \n",
       "2016.09.18.c  New Smyrna Beach, Volusia County             male   M   \n",
       "2016.09.18.b  New Smyrna Beach, Volusia County   Chucky Luciano   M   \n",
       "2016.09.18.a  New Smyrna Beach, Volusia County             male   M   \n",
       "2016.09.17                    Thirteenth Beach  Rory Angiolella   M   \n",
       "2016.09.16                         Bells Beach             male   M   \n",
       "\n",
       "                   Injury Fatal       Time                       Source  \\\n",
       "Case nr                                                                   \n",
       "2016.09.18.c   lower body     N  Afternoon  Orlando Sentinel, 9/19/2016   \n",
       "2016.09.18.b   upper body     N    Morning  Orlando Sentinel, 9/19/2016   \n",
       "2016.09.18.a  lacerations     N    Morning  Orlando Sentinel, 9/19/2016   \n",
       "2016.09.17     upper body     N        NaN           The Age, 9/18/2016   \n",
       "2016.09.16      no injury     N        NaN           The Age, 9/16/2016   \n",
       "\n",
       "                                                           Link  \n",
       "Case nr                                                          \n",
       "2016.09.18.c  http://sharkattackfile.net/spreadsheets/pdf_di...  \n",
       "2016.09.18.b  http://sharkattackfile.net/spreadsheets/pdf_di...  \n",
       "2016.09.18.a  http://sharkattackfile.net/spreadsheets/pdf_di...  \n",
       "2016.09.17    http://sharkattackfile.net/spreadsheets/pdf_di...  \n",
       "2016.09.16    http://sharkattackfile.net/spreadsheets/pdf_di...  "
      ]
     },
     "execution_count": 82,
     "metadata": {},
     "output_type": "execute_result"
    }
   ],
   "source": [
    "df_copy_copy.head(5)"
   ]
  },
  {
   "cell_type": "code",
   "execution_count": 83,
   "metadata": {},
   "outputs": [],
   "source": [
    "# 37. Saving the cleaned data as csv file\n",
    "df = df_copy_copy\n",
    "df.to_csv('data-wrangling.csv')"
   ]
  },
  {
   "cell_type": "code",
   "execution_count": null,
   "metadata": {},
   "outputs": [],
   "source": []
  }
 ],
 "metadata": {
  "kernelspec": {
   "display_name": "Python 3",
   "language": "python",
   "name": "python3"
  },
  "language_info": {
   "codemirror_mode": {
    "name": "ipython",
    "version": 3
   },
   "file_extension": ".py",
   "mimetype": "text/x-python",
   "name": "python",
   "nbconvert_exporter": "python",
   "pygments_lexer": "ipython3",
   "version": "3.7.4"
  }
 },
 "nbformat": 4,
 "nbformat_minor": 2
}
