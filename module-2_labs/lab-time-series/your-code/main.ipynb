{
 "cells": [
  {
   "cell_type": "markdown",
   "metadata": {},
   "source": [
    "# Before your start:\n",
    "- Read the README.md file\n",
    "- Comment as much as you can and use the resources (README.md file)\n",
    "- Happy learning!"
   ]
  },
  {
   "cell_type": "code",
   "execution_count": 1,
   "metadata": {},
   "outputs": [],
   "source": [
    "import seaborn as sns\n",
    "import pandas as pd\n",
    "import numpy as np\n",
    "\n",
    "import pymysql\n",
    "import getpass\n",
    "import matplotlib.pyplot as plt\n",
    "%matplotlib inline\n",
    "\n",
    "pd.set_option(\"display.max_rows\", 500)\n",
    "sns.set()  #setting seaborn stuff\n",
    "sns.set_style('whitegrid')\n"
   ]
  },
  {
   "cell_type": "markdown",
   "metadata": {},
   "source": [
    "# Challenge 1 - Loading and Evaluating The Data\n",
    "\n",
    "In this lab, we will look at a dataset of sensor data from a cellular phone. The phone was carried in the subject's pocket for a few minutes while they walked around.\n",
    "\n",
    "To load the data, run the code below."
   ]
  },
  {
   "cell_type": "code",
   "execution_count": 2,
   "metadata": {},
   "outputs": [],
   "source": [
    "sensor = pd.read_csv('../sub_1.csv')\n",
    "sensor.drop(columns=['Unnamed: 0'], inplace=True)"
   ]
  },
  {
   "cell_type": "markdown",
   "metadata": {},
   "source": [
    "Examine the data using the `head` function."
   ]
  },
  {
   "cell_type": "code",
   "execution_count": 3,
   "metadata": {},
   "outputs": [
    {
     "data": {
      "text/html": [
       "<div>\n",
       "<style scoped>\n",
       "    .dataframe tbody tr th:only-of-type {\n",
       "        vertical-align: middle;\n",
       "    }\n",
       "\n",
       "    .dataframe tbody tr th {\n",
       "        vertical-align: top;\n",
       "    }\n",
       "\n",
       "    .dataframe thead th {\n",
       "        text-align: right;\n",
       "    }\n",
       "</style>\n",
       "<table border=\"1\" class=\"dataframe\">\n",
       "  <thead>\n",
       "    <tr style=\"text-align: right;\">\n",
       "      <th></th>\n",
       "      <th>attitude.roll</th>\n",
       "      <th>attitude.pitch</th>\n",
       "      <th>attitude.yaw</th>\n",
       "      <th>gravity.x</th>\n",
       "      <th>gravity.y</th>\n",
       "      <th>gravity.z</th>\n",
       "      <th>rotationRate.x</th>\n",
       "      <th>rotationRate.y</th>\n",
       "      <th>rotationRate.z</th>\n",
       "      <th>userAcceleration.x</th>\n",
       "      <th>userAcceleration.y</th>\n",
       "      <th>userAcceleration.z</th>\n",
       "    </tr>\n",
       "  </thead>\n",
       "  <tbody>\n",
       "    <tr>\n",
       "      <td>0</td>\n",
       "      <td>1.528132</td>\n",
       "      <td>-0.733896</td>\n",
       "      <td>0.696372</td>\n",
       "      <td>0.741895</td>\n",
       "      <td>0.669768</td>\n",
       "      <td>-0.031672</td>\n",
       "      <td>0.316738</td>\n",
       "      <td>0.778180</td>\n",
       "      <td>1.082764</td>\n",
       "      <td>0.294894</td>\n",
       "      <td>-0.184493</td>\n",
       "      <td>0.377542</td>\n",
       "    </tr>\n",
       "    <tr>\n",
       "      <td>1</td>\n",
       "      <td>1.527992</td>\n",
       "      <td>-0.716987</td>\n",
       "      <td>0.677762</td>\n",
       "      <td>0.753099</td>\n",
       "      <td>0.657116</td>\n",
       "      <td>-0.032255</td>\n",
       "      <td>0.842032</td>\n",
       "      <td>0.424446</td>\n",
       "      <td>0.643574</td>\n",
       "      <td>0.219405</td>\n",
       "      <td>0.035846</td>\n",
       "      <td>0.114866</td>\n",
       "    </tr>\n",
       "    <tr>\n",
       "      <td>2</td>\n",
       "      <td>1.527765</td>\n",
       "      <td>-0.706999</td>\n",
       "      <td>0.670951</td>\n",
       "      <td>0.759611</td>\n",
       "      <td>0.649555</td>\n",
       "      <td>-0.032707</td>\n",
       "      <td>-0.138143</td>\n",
       "      <td>-0.040741</td>\n",
       "      <td>0.343563</td>\n",
       "      <td>0.010714</td>\n",
       "      <td>0.134701</td>\n",
       "      <td>-0.167808</td>\n",
       "    </tr>\n",
       "    <tr>\n",
       "      <td>3</td>\n",
       "      <td>1.516768</td>\n",
       "      <td>-0.704678</td>\n",
       "      <td>0.675735</td>\n",
       "      <td>0.760709</td>\n",
       "      <td>0.647788</td>\n",
       "      <td>-0.041140</td>\n",
       "      <td>-0.025005</td>\n",
       "      <td>-1.048717</td>\n",
       "      <td>0.035860</td>\n",
       "      <td>-0.008389</td>\n",
       "      <td>0.136788</td>\n",
       "      <td>0.094958</td>\n",
       "    </tr>\n",
       "    <tr>\n",
       "      <td>4</td>\n",
       "      <td>1.493941</td>\n",
       "      <td>-0.703918</td>\n",
       "      <td>0.672994</td>\n",
       "      <td>0.760062</td>\n",
       "      <td>0.647210</td>\n",
       "      <td>-0.058530</td>\n",
       "      <td>0.114253</td>\n",
       "      <td>-0.912890</td>\n",
       "      <td>0.047341</td>\n",
       "      <td>0.199441</td>\n",
       "      <td>0.353996</td>\n",
       "      <td>-0.044299</td>\n",
       "    </tr>\n",
       "  </tbody>\n",
       "</table>\n",
       "</div>"
      ],
      "text/plain": [
       "   attitude.roll  attitude.pitch  attitude.yaw  gravity.x  gravity.y  \\\n",
       "0       1.528132       -0.733896      0.696372   0.741895   0.669768   \n",
       "1       1.527992       -0.716987      0.677762   0.753099   0.657116   \n",
       "2       1.527765       -0.706999      0.670951   0.759611   0.649555   \n",
       "3       1.516768       -0.704678      0.675735   0.760709   0.647788   \n",
       "4       1.493941       -0.703918      0.672994   0.760062   0.647210   \n",
       "\n",
       "   gravity.z  rotationRate.x  rotationRate.y  rotationRate.z  \\\n",
       "0  -0.031672        0.316738        0.778180        1.082764   \n",
       "1  -0.032255        0.842032        0.424446        0.643574   \n",
       "2  -0.032707       -0.138143       -0.040741        0.343563   \n",
       "3  -0.041140       -0.025005       -1.048717        0.035860   \n",
       "4  -0.058530        0.114253       -0.912890        0.047341   \n",
       "\n",
       "   userAcceleration.x  userAcceleration.y  userAcceleration.z  \n",
       "0            0.294894           -0.184493            0.377542  \n",
       "1            0.219405            0.035846            0.114866  \n",
       "2            0.010714            0.134701           -0.167808  \n",
       "3           -0.008389            0.136788            0.094958  \n",
       "4            0.199441            0.353996           -0.044299  "
      ]
     },
     "execution_count": 3,
     "metadata": {},
     "output_type": "execute_result"
    }
   ],
   "source": [
    "sensor.head()"
   ]
  },
  {
   "cell_type": "markdown",
   "metadata": {},
   "source": [
    "Check whether there is any missing data. If there is any missing data, remove the rows containing missing data."
   ]
  },
  {
   "cell_type": "code",
   "execution_count": 4,
   "metadata": {},
   "outputs": [],
   "source": [
    "sensor = sensor.dropna(axis=0)"
   ]
  },
  {
   "cell_type": "markdown",
   "metadata": {},
   "source": [
    "How many rows and columns are in our data?"
   ]
  },
  {
   "cell_type": "code",
   "execution_count": 5,
   "metadata": {},
   "outputs": [
    {
     "data": {
      "text/plain": [
       "(1751, 12)"
      ]
     },
     "execution_count": 5,
     "metadata": {},
     "output_type": "execute_result"
    }
   ],
   "source": [
    "sensor.shape"
   ]
  },
  {
   "cell_type": "markdown",
   "metadata": {},
   "source": [
    "To perform time series analysis on the data, we must change the index from a range index to a time series index. In the cell below, create a time series index using the `pd.date_range` function. Create a time series index starting at 1/1/2018 00:00:00 and ending at 1/1/2018 00:29:10. The number of periods is equal to the number of rows in `sensor`. The frequency should be set to `infer`."
   ]
  },
  {
   "cell_type": "code",
   "execution_count": 6,
   "metadata": {},
   "outputs": [
    {
     "data": {
      "text/plain": [
       "DatetimeIndex(['2018-01-01 00:00:00', '2018-01-01 00:00:01',\n",
       "               '2018-01-01 00:00:02', '2018-01-01 00:00:03',\n",
       "               '2018-01-01 00:00:04', '2018-01-01 00:00:05',\n",
       "               '2018-01-01 00:00:06', '2018-01-01 00:00:07',\n",
       "               '2018-01-01 00:00:08', '2018-01-01 00:00:09',\n",
       "               ...\n",
       "               '2018-01-01 00:29:01', '2018-01-01 00:29:02',\n",
       "               '2018-01-01 00:29:03', '2018-01-01 00:29:04',\n",
       "               '2018-01-01 00:29:05', '2018-01-01 00:29:06',\n",
       "               '2018-01-01 00:29:07', '2018-01-01 00:29:08',\n",
       "               '2018-01-01 00:29:09', '2018-01-01 00:29:10'],\n",
       "              dtype='datetime64[ns]', length=1751, freq=None)"
      ]
     },
     "execution_count": 6,
     "metadata": {},
     "output_type": "execute_result"
    }
   ],
   "source": [
    "sensor.head(2)\n",
    "\n",
    "pd.date_range('1/1/2018 00:00:00', '1/1/2018 00:29:10', periods=1751)"
   ]
  },
  {
   "cell_type": "markdown",
   "metadata": {},
   "source": [
    "Assign the time series index to the dataframe's index."
   ]
  },
  {
   "cell_type": "code",
   "execution_count": 7,
   "metadata": {},
   "outputs": [],
   "source": [
    "sensor['time_series'] = pd.date_range('1/1/2018 00:00:00', '1/1/2018 00:29:10', periods=1751)"
   ]
  },
  {
   "cell_type": "code",
   "execution_count": 8,
   "metadata": {},
   "outputs": [],
   "source": [
    "sensor.set_index(sensor['time_series'], inplace=True, drop=True)"
   ]
  },
  {
   "cell_type": "code",
   "execution_count": 9,
   "metadata": {},
   "outputs": [
    {
     "data": {
      "text/html": [
       "<div>\n",
       "<style scoped>\n",
       "    .dataframe tbody tr th:only-of-type {\n",
       "        vertical-align: middle;\n",
       "    }\n",
       "\n",
       "    .dataframe tbody tr th {\n",
       "        vertical-align: top;\n",
       "    }\n",
       "\n",
       "    .dataframe thead th {\n",
       "        text-align: right;\n",
       "    }\n",
       "</style>\n",
       "<table border=\"1\" class=\"dataframe\">\n",
       "  <thead>\n",
       "    <tr style=\"text-align: right;\">\n",
       "      <th></th>\n",
       "      <th>attitude.roll</th>\n",
       "      <th>attitude.pitch</th>\n",
       "      <th>attitude.yaw</th>\n",
       "      <th>gravity.x</th>\n",
       "      <th>gravity.y</th>\n",
       "      <th>gravity.z</th>\n",
       "      <th>rotationRate.x</th>\n",
       "      <th>rotationRate.y</th>\n",
       "      <th>rotationRate.z</th>\n",
       "      <th>userAcceleration.x</th>\n",
       "      <th>userAcceleration.y</th>\n",
       "      <th>userAcceleration.z</th>\n",
       "      <th>time_series</th>\n",
       "    </tr>\n",
       "    <tr>\n",
       "      <th>time_series</th>\n",
       "      <th></th>\n",
       "      <th></th>\n",
       "      <th></th>\n",
       "      <th></th>\n",
       "      <th></th>\n",
       "      <th></th>\n",
       "      <th></th>\n",
       "      <th></th>\n",
       "      <th></th>\n",
       "      <th></th>\n",
       "      <th></th>\n",
       "      <th></th>\n",
       "      <th></th>\n",
       "    </tr>\n",
       "  </thead>\n",
       "  <tbody>\n",
       "    <tr>\n",
       "      <td>2018-01-01 00:00:00</td>\n",
       "      <td>1.528132</td>\n",
       "      <td>-0.733896</td>\n",
       "      <td>0.696372</td>\n",
       "      <td>0.741895</td>\n",
       "      <td>0.669768</td>\n",
       "      <td>-0.031672</td>\n",
       "      <td>0.316738</td>\n",
       "      <td>0.778180</td>\n",
       "      <td>1.082764</td>\n",
       "      <td>0.294894</td>\n",
       "      <td>-0.184493</td>\n",
       "      <td>0.377542</td>\n",
       "      <td>2018-01-01 00:00:00</td>\n",
       "    </tr>\n",
       "    <tr>\n",
       "      <td>2018-01-01 00:00:01</td>\n",
       "      <td>1.527992</td>\n",
       "      <td>-0.716987</td>\n",
       "      <td>0.677762</td>\n",
       "      <td>0.753099</td>\n",
       "      <td>0.657116</td>\n",
       "      <td>-0.032255</td>\n",
       "      <td>0.842032</td>\n",
       "      <td>0.424446</td>\n",
       "      <td>0.643574</td>\n",
       "      <td>0.219405</td>\n",
       "      <td>0.035846</td>\n",
       "      <td>0.114866</td>\n",
       "      <td>2018-01-01 00:00:01</td>\n",
       "    </tr>\n",
       "    <tr>\n",
       "      <td>2018-01-01 00:00:02</td>\n",
       "      <td>1.527765</td>\n",
       "      <td>-0.706999</td>\n",
       "      <td>0.670951</td>\n",
       "      <td>0.759611</td>\n",
       "      <td>0.649555</td>\n",
       "      <td>-0.032707</td>\n",
       "      <td>-0.138143</td>\n",
       "      <td>-0.040741</td>\n",
       "      <td>0.343563</td>\n",
       "      <td>0.010714</td>\n",
       "      <td>0.134701</td>\n",
       "      <td>-0.167808</td>\n",
       "      <td>2018-01-01 00:00:02</td>\n",
       "    </tr>\n",
       "    <tr>\n",
       "      <td>2018-01-01 00:00:03</td>\n",
       "      <td>1.516768</td>\n",
       "      <td>-0.704678</td>\n",
       "      <td>0.675735</td>\n",
       "      <td>0.760709</td>\n",
       "      <td>0.647788</td>\n",
       "      <td>-0.041140</td>\n",
       "      <td>-0.025005</td>\n",
       "      <td>-1.048717</td>\n",
       "      <td>0.035860</td>\n",
       "      <td>-0.008389</td>\n",
       "      <td>0.136788</td>\n",
       "      <td>0.094958</td>\n",
       "      <td>2018-01-01 00:00:03</td>\n",
       "    </tr>\n",
       "    <tr>\n",
       "      <td>2018-01-01 00:00:04</td>\n",
       "      <td>1.493941</td>\n",
       "      <td>-0.703918</td>\n",
       "      <td>0.672994</td>\n",
       "      <td>0.760062</td>\n",
       "      <td>0.647210</td>\n",
       "      <td>-0.058530</td>\n",
       "      <td>0.114253</td>\n",
       "      <td>-0.912890</td>\n",
       "      <td>0.047341</td>\n",
       "      <td>0.199441</td>\n",
       "      <td>0.353996</td>\n",
       "      <td>-0.044299</td>\n",
       "      <td>2018-01-01 00:00:04</td>\n",
       "    </tr>\n",
       "    <tr>\n",
       "      <td>...</td>\n",
       "      <td>...</td>\n",
       "      <td>...</td>\n",
       "      <td>...</td>\n",
       "      <td>...</td>\n",
       "      <td>...</td>\n",
       "      <td>...</td>\n",
       "      <td>...</td>\n",
       "      <td>...</td>\n",
       "      <td>...</td>\n",
       "      <td>...</td>\n",
       "      <td>...</td>\n",
       "      <td>...</td>\n",
       "      <td>...</td>\n",
       "    </tr>\n",
       "    <tr>\n",
       "      <td>2018-01-01 00:29:06</td>\n",
       "      <td>1.797120</td>\n",
       "      <td>-0.562324</td>\n",
       "      <td>2.445889</td>\n",
       "      <td>0.824443</td>\n",
       "      <td>0.533154</td>\n",
       "      <td>0.189844</td>\n",
       "      <td>-0.123211</td>\n",
       "      <td>0.909536</td>\n",
       "      <td>-0.379757</td>\n",
       "      <td>-0.268367</td>\n",
       "      <td>0.006733</td>\n",
       "      <td>-0.064874</td>\n",
       "      <td>2018-01-01 00:29:06</td>\n",
       "    </tr>\n",
       "    <tr>\n",
       "      <td>2018-01-01 00:29:07</td>\n",
       "      <td>1.814297</td>\n",
       "      <td>-0.569719</td>\n",
       "      <td>2.449655</td>\n",
       "      <td>0.817212</td>\n",
       "      <td>0.539396</td>\n",
       "      <td>0.203020</td>\n",
       "      <td>-0.057641</td>\n",
       "      <td>0.723118</td>\n",
       "      <td>-0.437812</td>\n",
       "      <td>-0.102444</td>\n",
       "      <td>-0.060666</td>\n",
       "      <td>-0.229738</td>\n",
       "      <td>2018-01-01 00:29:07</td>\n",
       "    </tr>\n",
       "    <tr>\n",
       "      <td>2018-01-01 00:29:08</td>\n",
       "      <td>1.830821</td>\n",
       "      <td>-0.578367</td>\n",
       "      <td>2.447967</td>\n",
       "      <td>0.809207</td>\n",
       "      <td>0.546658</td>\n",
       "      <td>0.215288</td>\n",
       "      <td>0.343238</td>\n",
       "      <td>0.997236</td>\n",
       "      <td>-0.338155</td>\n",
       "      <td>-0.085590</td>\n",
       "      <td>-0.030209</td>\n",
       "      <td>-0.087740</td>\n",
       "      <td>2018-01-01 00:29:08</td>\n",
       "    </tr>\n",
       "    <tr>\n",
       "      <td>2018-01-01 00:29:09</td>\n",
       "      <td>1.849557</td>\n",
       "      <td>-0.586962</td>\n",
       "      <td>2.439458</td>\n",
       "      <td>0.800485</td>\n",
       "      <td>0.553834</td>\n",
       "      <td>0.229110</td>\n",
       "      <td>0.470144</td>\n",
       "      <td>1.227937</td>\n",
       "      <td>-0.332223</td>\n",
       "      <td>-0.048105</td>\n",
       "      <td>0.029555</td>\n",
       "      <td>0.060441</td>\n",
       "      <td>2018-01-01 00:29:09</td>\n",
       "    </tr>\n",
       "    <tr>\n",
       "      <td>2018-01-01 00:29:10</td>\n",
       "      <td>1.869375</td>\n",
       "      <td>-0.596783</td>\n",
       "      <td>2.433775</td>\n",
       "      <td>0.790551</td>\n",
       "      <td>0.561984</td>\n",
       "      <td>0.243315</td>\n",
       "      <td>0.291873</td>\n",
       "      <td>1.102207</td>\n",
       "      <td>-0.436925</td>\n",
       "      <td>-0.065011</td>\n",
       "      <td>-0.042575</td>\n",
       "      <td>0.046052</td>\n",
       "      <td>2018-01-01 00:29:10</td>\n",
       "    </tr>\n",
       "  </tbody>\n",
       "</table>\n",
       "<p>1751 rows × 13 columns</p>\n",
       "</div>"
      ],
      "text/plain": [
       "                     attitude.roll  attitude.pitch  attitude.yaw  gravity.x  \\\n",
       "time_series                                                                   \n",
       "2018-01-01 00:00:00       1.528132       -0.733896      0.696372   0.741895   \n",
       "2018-01-01 00:00:01       1.527992       -0.716987      0.677762   0.753099   \n",
       "2018-01-01 00:00:02       1.527765       -0.706999      0.670951   0.759611   \n",
       "2018-01-01 00:00:03       1.516768       -0.704678      0.675735   0.760709   \n",
       "2018-01-01 00:00:04       1.493941       -0.703918      0.672994   0.760062   \n",
       "...                            ...             ...           ...        ...   \n",
       "2018-01-01 00:29:06       1.797120       -0.562324      2.445889   0.824443   \n",
       "2018-01-01 00:29:07       1.814297       -0.569719      2.449655   0.817212   \n",
       "2018-01-01 00:29:08       1.830821       -0.578367      2.447967   0.809207   \n",
       "2018-01-01 00:29:09       1.849557       -0.586962      2.439458   0.800485   \n",
       "2018-01-01 00:29:10       1.869375       -0.596783      2.433775   0.790551   \n",
       "\n",
       "                     gravity.y  gravity.z  rotationRate.x  rotationRate.y  \\\n",
       "time_series                                                                 \n",
       "2018-01-01 00:00:00   0.669768  -0.031672        0.316738        0.778180   \n",
       "2018-01-01 00:00:01   0.657116  -0.032255        0.842032        0.424446   \n",
       "2018-01-01 00:00:02   0.649555  -0.032707       -0.138143       -0.040741   \n",
       "2018-01-01 00:00:03   0.647788  -0.041140       -0.025005       -1.048717   \n",
       "2018-01-01 00:00:04   0.647210  -0.058530        0.114253       -0.912890   \n",
       "...                        ...        ...             ...             ...   \n",
       "2018-01-01 00:29:06   0.533154   0.189844       -0.123211        0.909536   \n",
       "2018-01-01 00:29:07   0.539396   0.203020       -0.057641        0.723118   \n",
       "2018-01-01 00:29:08   0.546658   0.215288        0.343238        0.997236   \n",
       "2018-01-01 00:29:09   0.553834   0.229110        0.470144        1.227937   \n",
       "2018-01-01 00:29:10   0.561984   0.243315        0.291873        1.102207   \n",
       "\n",
       "                     rotationRate.z  userAcceleration.x  userAcceleration.y  \\\n",
       "time_series                                                                   \n",
       "2018-01-01 00:00:00        1.082764            0.294894           -0.184493   \n",
       "2018-01-01 00:00:01        0.643574            0.219405            0.035846   \n",
       "2018-01-01 00:00:02        0.343563            0.010714            0.134701   \n",
       "2018-01-01 00:00:03        0.035860           -0.008389            0.136788   \n",
       "2018-01-01 00:00:04        0.047341            0.199441            0.353996   \n",
       "...                             ...                 ...                 ...   \n",
       "2018-01-01 00:29:06       -0.379757           -0.268367            0.006733   \n",
       "2018-01-01 00:29:07       -0.437812           -0.102444           -0.060666   \n",
       "2018-01-01 00:29:08       -0.338155           -0.085590           -0.030209   \n",
       "2018-01-01 00:29:09       -0.332223           -0.048105            0.029555   \n",
       "2018-01-01 00:29:10       -0.436925           -0.065011           -0.042575   \n",
       "\n",
       "                     userAcceleration.z         time_series  \n",
       "time_series                                                  \n",
       "2018-01-01 00:00:00            0.377542 2018-01-01 00:00:00  \n",
       "2018-01-01 00:00:01            0.114866 2018-01-01 00:00:01  \n",
       "2018-01-01 00:00:02           -0.167808 2018-01-01 00:00:02  \n",
       "2018-01-01 00:00:03            0.094958 2018-01-01 00:00:03  \n",
       "2018-01-01 00:00:04           -0.044299 2018-01-01 00:00:04  \n",
       "...                                 ...                 ...  \n",
       "2018-01-01 00:29:06           -0.064874 2018-01-01 00:29:06  \n",
       "2018-01-01 00:29:07           -0.229738 2018-01-01 00:29:07  \n",
       "2018-01-01 00:29:08           -0.087740 2018-01-01 00:29:08  \n",
       "2018-01-01 00:29:09            0.060441 2018-01-01 00:29:09  \n",
       "2018-01-01 00:29:10            0.046052 2018-01-01 00:29:10  \n",
       "\n",
       "[1751 rows x 13 columns]"
      ]
     },
     "execution_count": 9,
     "metadata": {},
     "output_type": "execute_result"
    }
   ],
   "source": [
    "sensor"
   ]
  },
  {
   "cell_type": "markdown",
   "metadata": {},
   "source": [
    "Our next step is to decompose the time series and evaluate the patterns in the data. Load the `statsmodels.api` submodule and plot the decomposed plot of `userAcceleration.x`. Set `freq=60` in the `seasonal_decompose` function. Your graph should look like the one below.\n",
    "\n",
    "![time series decomposition](../images/tsa_decompose.png)"
   ]
  },
  {
   "cell_type": "code",
   "execution_count": 34,
   "metadata": {},
   "outputs": [],
   "source": [
    "import statsmodels.api as sm\n",
    "res = sm.tsa.seasonal_decompose(sensor['userAcceleration.x'], model='additive', freq=60)\n",
    "res.plot;\n"
   ]
  },
  {
   "cell_type": "markdown",
   "metadata": {},
   "source": [
    "Plot the decomposed time series of `rotationRate.x` also with a frequency of 60."
   ]
  },
  {
   "cell_type": "markdown",
   "metadata": {},
   "source": [
    "# Challenge 2 - Modelling the Data\n",
    "\n",
    "To model our data, we should look at a few assumptions. First, let's plot the `lag_plot` to detect any autocorrelation. Do this for `userAcceleration.x`"
   ]
  },
  {
   "cell_type": "code",
   "execution_count": 38,
   "metadata": {},
   "outputs": [
    {
     "name": "stderr",
     "output_type": "stream",
     "text": [
      "'c' argument looks like a single numeric RGB or RGBA sequence, which should be avoided as value-mapping will have precedence in case its length matches with 'x' & 'y'.  Please use a 2-D array with a single row if you really want to specify the same RGB or RGBA value for all points.\n"
     ]
    },
    {
     "data": {
      "text/plain": [
       "<matplotlib.axes._subplots.AxesSubplot at 0x11e8f80d0>"
      ]
     },
     "execution_count": 38,
     "metadata": {},
     "output_type": "execute_result"
    },
    {
     "data": {
      "image/png": "[encoded data removed]",
      "text/plain": [
       "<Figure size 432x288 with 1 Axes>"
      ]
     },
     "metadata": {
      "needs_background": "light"
     },
     "output_type": "display_data"
    }
   ],
   "source": [
    "pd.plotting.lag_plot(sensor['userAcceleration.x'] )"
   ]
  },
  {
   "cell_type": "markdown",
   "metadata": {},
   "source": [
    "Create a lag plot for `rotationRate.x`"
   ]
  },
  {
   "cell_type": "code",
   "execution_count": 42,
   "metadata": {},
   "outputs": [
    {
     "name": "stderr",
     "output_type": "stream",
     "text": [
      "'c' argument looks like a single numeric RGB or RGBA sequence, which should be avoided as value-mapping will have precedence in case its length matches with 'x' & 'y'.  Please use a 2-D array with a single row if you really want to specify the same RGB or RGBA value for all points.\n"
     ]
    },
    {
     "data": {
      "text/plain": [
       "<matplotlib.axes._subplots.AxesSubplot at 0x11f010e50>"
      ]
     },
     "execution_count": 42,
     "metadata": {},
     "output_type": "execute_result"
    },
    {
     "data": {
      "image/png": "[encoded data removed]",
      "text/plain": [
       "<Figure size 432x288 with 1 Axes>"
      ]
     },
     "metadata": {
      "needs_background": "light"
     },
     "output_type": "display_data"
    }
   ],
   "source": [
    "pd.plotting.lag_plot(sensor['rotationRate.x'] )"
   ]
  },
  {
   "cell_type": "markdown",
   "metadata": {},
   "source": [
    "What are your conclusions from both visualizations?"
   ]
  },
  {
   "cell_type": "code",
   "execution_count": 11,
   "metadata": {},
   "outputs": [],
   "source": []
  },
  {
   "cell_type": "markdown",
   "metadata": {},
   "source": [
    "The next step will be to test both variables for stationarity. Perform the Augmented Dickey Fuller test on both variables below."
   ]
  },
  {
   "cell_type": "code",
   "execution_count": 50,
   "metadata": {},
   "outputs": [
    {
     "data": {
      "text/plain": [
       "(-5.269860625086421,\n",
       " 6.320230335912189e-06,\n",
       " 25,\n",
       " 1725,\n",
       " {'1%': -3.4341465551936534,\n",
       "  '5%': -2.863216966926812,\n",
       "  '10%': -2.567662770090317},\n",
       " 2619.6049719981947)"
      ]
     },
     "execution_count": 50,
     "metadata": {},
     "output_type": "execute_result"
    }
   ],
   "source": [
    "sm.tsa.stattools.adfuller(sensor['rotationRate.x'])"
   ]
  },
  {
   "cell_type": "code",
   "execution_count": 51,
   "metadata": {},
   "outputs": [
    {
     "data": {
      "text/plain": [
       "(-17.95799408616977,\n",
       " 2.823439483037483e-30,\n",
       " 4,\n",
       " 1746,\n",
       " {'1%': -3.434100824760071,\n",
       "  '5%': -2.863196780129223,\n",
       "  '10%': -2.5676520210882936},\n",
       " -727.6140124402791)"
      ]
     },
     "execution_count": 51,
     "metadata": {},
     "output_type": "execute_result"
    }
   ],
   "source": [
    "sm.tsa.stattools.adfuller(sensor['userAcceleration.x'])"
   ]
  },
  {
   "cell_type": "markdown",
   "metadata": {},
   "source": [
    "What are your conclusions from this test?"
   ]
  },
  {
   "cell_type": "code",
   "execution_count": 13,
   "metadata": {},
   "outputs": [],
   "source": [
    "# Your conclusions here:\n",
    "\n"
   ]
  },
  {
   "cell_type": "markdown",
   "metadata": {},
   "source": [
    "Finally, we'll create an ARMA model for `userAcceleration.x`. Load the `ARMA` function from `statsmodels`. The order of the model is (2, 1). Split the data to train and test. Use the last 10 observations as the test set and all other observations as the training set. "
   ]
  },
  {
   "cell_type": "code",
   "execution_count": 108,
   "metadata": {},
   "outputs": [
    {
     "name": "stderr",
     "output_type": "stream",
     "text": [
      "/usr/local/lib/python3.7/site-packages/statsmodels/tsa/base/tsa_model.py:165: ValueWarning: No frequency information was provided, so inferred frequency S will be used.\n",
      "  % freq, ValueWarning)\n"
     ]
    },
    {
     "name": "stdout",
     "output_type": "stream",
     "text": [
      "                              ARMA Model Results                              \n",
      "==============================================================================\n",
      "Dep. Variable:     userAcceleration.x   No. Observations:                 1751\n",
      "Model:                     ARMA(2, 1)   Log Likelihood                 379.399\n",
      "Method:                       css-mle   S.D. of innovations              0.195\n",
      "Date:                Wed, 06 Nov 2019   AIC                           -748.798\n",
      "Time:                        09:14:30   BIC                           -721.458\n",
      "Sample:                    01-01-2018   HQIC                          -738.692\n",
      "                         - 01-01-2018                                         \n",
      "============================================================================================\n",
      "                               coef    std err          z      P>|z|      [0.025      0.975]\n",
      "--------------------------------------------------------------------------------------------\n",
      "const                        0.0625      0.014      4.436      0.000       0.035       0.090\n",
      "ar.L1.userAcceleration.x     0.9888      0.044     22.726      0.000       0.904       1.074\n",
      "ar.L2.userAcceleration.x    -0.3788      0.037    -10.210      0.000      -0.451      -0.306\n",
      "ma.L1.userAcceleration.x     0.1822      0.046      3.945      0.000       0.092       0.273\n",
      "                                    Roots                                    \n",
      "=============================================================================\n",
      "                  Real          Imaginary           Modulus         Frequency\n",
      "-----------------------------------------------------------------------------\n",
      "AR.1            1.3052           -0.9677j            1.6248           -0.1015\n",
      "AR.2            1.3052           +0.9677j            1.6248            0.1015\n",
      "MA.1           -5.4897           +0.0000j            5.4897            0.5000\n",
      "-----------------------------------------------------------------------------\n"
     ]
    }
   ],
   "source": [
    "test = sensor['userAcceleration.x'].tail(10)\n",
    "train =sensor['userAcceleration.x']\n",
    "\n",
    "arma_model=sm.tsa.ARMA(endog=train,order=(2,1))\n",
    "arma_res=arma_model.fit()\n",
    "sresult = arma_model.predict(arma_res.params)\n",
    "print(arma_res.summary())"
   ]
  },
  {
   "cell_type": "markdown",
   "metadata": {},
   "source": [
    "To compare our predictions with the observed data, we can compute the RMSE (Root Mean Squared Error) from the submodule `statsmodels.tools.eval_measures`. You can read more about this function [here](https://www.statsmodels.org/dev/generated/statsmodels.tools.eval_measures.rmse.html). Compute the RMSE for the last 10 rows of the data by comparing the observed and predicted data for the `userAcceleration.x` column."
   ]
  },
  {
   "cell_type": "code",
   "execution_count": 107,
   "metadata": {},
   "outputs": [
    {
     "data": {
      "text/plain": [
       "0.26095514521292734"
      ]
     },
     "execution_count": 107,
     "metadata": {},
     "output_type": "execute_result"
    }
   ],
   "source": [
    "sm.tools.eval_measures.rmse(sensor['userAcceleration.x'].head(10), sensor['userAcceleration.x'].tail(10))"
   ]
  },
  {
   "cell_type": "code",
   "execution_count": 94,
   "metadata": {},
   "outputs": [
    {
     "data": {
      "text/html": [
       "<div>\n",
       "<style scoped>\n",
       "    .dataframe tbody tr th:only-of-type {\n",
       "        vertical-align: middle;\n",
       "    }\n",
       "\n",
       "    .dataframe tbody tr th {\n",
       "        vertical-align: top;\n",
       "    }\n",
       "\n",
       "    .dataframe thead th {\n",
       "        text-align: right;\n",
       "    }\n",
       "</style>\n",
       "<table border=\"1\" class=\"dataframe\">\n",
       "  <thead>\n",
       "    <tr style=\"text-align: right;\">\n",
       "      <th></th>\n",
       "      <th>attitude.roll</th>\n",
       "      <th>attitude.pitch</th>\n",
       "      <th>attitude.yaw</th>\n",
       "      <th>gravity.x</th>\n",
       "      <th>gravity.y</th>\n",
       "      <th>gravity.z</th>\n",
       "      <th>rotationRate.x</th>\n",
       "      <th>rotationRate.y</th>\n",
       "      <th>rotationRate.z</th>\n",
       "      <th>userAcceleration.x</th>\n",
       "      <th>userAcceleration.y</th>\n",
       "      <th>userAcceleration.z</th>\n",
       "      <th>time_series</th>\n",
       "    </tr>\n",
       "    <tr>\n",
       "      <th>time_series</th>\n",
       "      <th></th>\n",
       "      <th></th>\n",
       "      <th></th>\n",
       "      <th></th>\n",
       "      <th></th>\n",
       "      <th></th>\n",
       "      <th></th>\n",
       "      <th></th>\n",
       "      <th></th>\n",
       "      <th></th>\n",
       "      <th></th>\n",
       "      <th></th>\n",
       "      <th></th>\n",
       "    </tr>\n",
       "  </thead>\n",
       "  <tbody>\n",
       "    <tr>\n",
       "      <td>2018-01-01 00:29:01</td>\n",
       "      <td>1.634509</td>\n",
       "      <td>-0.539902</td>\n",
       "      <td>2.480230</td>\n",
       "      <td>0.856019</td>\n",
       "      <td>0.514052</td>\n",
       "      <td>0.054613</td>\n",
       "      <td>1.065054</td>\n",
       "      <td>2.373071</td>\n",
       "      <td>-0.040047</td>\n",
       "      <td>0.149749</td>\n",
       "      <td>-0.137389</td>\n",
       "      <td>-0.023470</td>\n",
       "      <td>2018-01-01 00:29:01</td>\n",
       "    </tr>\n",
       "    <tr>\n",
       "      <td>2018-01-01 00:29:02</td>\n",
       "      <td>1.671799</td>\n",
       "      <td>-0.541547</td>\n",
       "      <td>2.463982</td>\n",
       "      <td>0.852545</td>\n",
       "      <td>0.515462</td>\n",
       "      <td>0.086403</td>\n",
       "      <td>0.497726</td>\n",
       "      <td>2.192886</td>\n",
       "      <td>-0.042711</td>\n",
       "      <td>0.038461</td>\n",
       "      <td>-0.045660</td>\n",
       "      <td>0.013450</td>\n",
       "      <td>2018-01-01 00:29:02</td>\n",
       "    </tr>\n",
       "    <tr>\n",
       "      <td>2018-01-01 00:29:03</td>\n",
       "      <td>1.707251</td>\n",
       "      <td>-0.545910</td>\n",
       "      <td>2.455201</td>\n",
       "      <td>0.846711</td>\n",
       "      <td>0.519196</td>\n",
       "      <td>0.116260</td>\n",
       "      <td>0.426906</td>\n",
       "      <td>1.919032</td>\n",
       "      <td>-0.227657</td>\n",
       "      <td>-0.169175</td>\n",
       "      <td>-0.000015</td>\n",
       "      <td>0.134503</td>\n",
       "      <td>2018-01-01 00:29:03</td>\n",
       "    </tr>\n",
       "    <tr>\n",
       "      <td>2018-01-01 00:29:04</td>\n",
       "      <td>1.739734</td>\n",
       "      <td>-0.551012</td>\n",
       "      <td>2.445058</td>\n",
       "      <td>0.839866</td>\n",
       "      <td>0.523550</td>\n",
       "      <td>0.143251</td>\n",
       "      <td>0.414523</td>\n",
       "      <td>1.851654</td>\n",
       "      <td>-0.150745</td>\n",
       "      <td>-0.300361</td>\n",
       "      <td>0.030939</td>\n",
       "      <td>0.114638</td>\n",
       "      <td>2018-01-01 00:29:04</td>\n",
       "    </tr>\n",
       "    <tr>\n",
       "      <td>2018-01-01 00:29:05</td>\n",
       "      <td>1.771197</td>\n",
       "      <td>-0.555716</td>\n",
       "      <td>2.441679</td>\n",
       "      <td>0.832521</td>\n",
       "      <td>0.527551</td>\n",
       "      <td>0.169107</td>\n",
       "      <td>0.027461</td>\n",
       "      <td>1.528635</td>\n",
       "      <td>-0.287630</td>\n",
       "      <td>-0.270174</td>\n",
       "      <td>0.096304</td>\n",
       "      <td>0.033270</td>\n",
       "      <td>2018-01-01 00:29:05</td>\n",
       "    </tr>\n",
       "    <tr>\n",
       "      <td>2018-01-01 00:29:06</td>\n",
       "      <td>1.797120</td>\n",
       "      <td>-0.562324</td>\n",
       "      <td>2.445889</td>\n",
       "      <td>0.824443</td>\n",
       "      <td>0.533154</td>\n",
       "      <td>0.189844</td>\n",
       "      <td>-0.123211</td>\n",
       "      <td>0.909536</td>\n",
       "      <td>-0.379757</td>\n",
       "      <td>-0.268367</td>\n",
       "      <td>0.006733</td>\n",
       "      <td>-0.064874</td>\n",
       "      <td>2018-01-01 00:29:06</td>\n",
       "    </tr>\n",
       "    <tr>\n",
       "      <td>2018-01-01 00:29:07</td>\n",
       "      <td>1.814297</td>\n",
       "      <td>-0.569719</td>\n",
       "      <td>2.449655</td>\n",
       "      <td>0.817212</td>\n",
       "      <td>0.539396</td>\n",
       "      <td>0.203020</td>\n",
       "      <td>-0.057641</td>\n",
       "      <td>0.723118</td>\n",
       "      <td>-0.437812</td>\n",
       "      <td>-0.102444</td>\n",
       "      <td>-0.060666</td>\n",
       "      <td>-0.229738</td>\n",
       "      <td>2018-01-01 00:29:07</td>\n",
       "    </tr>\n",
       "    <tr>\n",
       "      <td>2018-01-01 00:29:08</td>\n",
       "      <td>1.830821</td>\n",
       "      <td>-0.578367</td>\n",
       "      <td>2.447967</td>\n",
       "      <td>0.809207</td>\n",
       "      <td>0.546658</td>\n",
       "      <td>0.215288</td>\n",
       "      <td>0.343238</td>\n",
       "      <td>0.997236</td>\n",
       "      <td>-0.338155</td>\n",
       "      <td>-0.085590</td>\n",
       "      <td>-0.030209</td>\n",
       "      <td>-0.087740</td>\n",
       "      <td>2018-01-01 00:29:08</td>\n",
       "    </tr>\n",
       "    <tr>\n",
       "      <td>2018-01-01 00:29:09</td>\n",
       "      <td>1.849557</td>\n",
       "      <td>-0.586962</td>\n",
       "      <td>2.439458</td>\n",
       "      <td>0.800485</td>\n",
       "      <td>0.553834</td>\n",
       "      <td>0.229110</td>\n",
       "      <td>0.470144</td>\n",
       "      <td>1.227937</td>\n",
       "      <td>-0.332223</td>\n",
       "      <td>-0.048105</td>\n",
       "      <td>0.029555</td>\n",
       "      <td>0.060441</td>\n",
       "      <td>2018-01-01 00:29:09</td>\n",
       "    </tr>\n",
       "    <tr>\n",
       "      <td>2018-01-01 00:29:10</td>\n",
       "      <td>1.869375</td>\n",
       "      <td>-0.596783</td>\n",
       "      <td>2.433775</td>\n",
       "      <td>0.790551</td>\n",
       "      <td>0.561984</td>\n",
       "      <td>0.243315</td>\n",
       "      <td>0.291873</td>\n",
       "      <td>1.102207</td>\n",
       "      <td>-0.436925</td>\n",
       "      <td>-0.065011</td>\n",
       "      <td>-0.042575</td>\n",
       "      <td>0.046052</td>\n",
       "      <td>2018-01-01 00:29:10</td>\n",
       "    </tr>\n",
       "  </tbody>\n",
       "</table>\n",
       "</div>"
      ],
      "text/plain": [
       "                     attitude.roll  attitude.pitch  attitude.yaw  gravity.x  \\\n",
       "time_series                                                                   \n",
       "2018-01-01 00:29:01       1.634509       -0.539902      2.480230   0.856019   \n",
       "2018-01-01 00:29:02       1.671799       -0.541547      2.463982   0.852545   \n",
       "2018-01-01 00:29:03       1.707251       -0.545910      2.455201   0.846711   \n",
       "2018-01-01 00:29:04       1.739734       -0.551012      2.445058   0.839866   \n",
       "2018-01-01 00:29:05       1.771197       -0.555716      2.441679   0.832521   \n",
       "2018-01-01 00:29:06       1.797120       -0.562324      2.445889   0.824443   \n",
       "2018-01-01 00:29:07       1.814297       -0.569719      2.449655   0.817212   \n",
       "2018-01-01 00:29:08       1.830821       -0.578367      2.447967   0.809207   \n",
       "2018-01-01 00:29:09       1.849557       -0.586962      2.439458   0.800485   \n",
       "2018-01-01 00:29:10       1.869375       -0.596783      2.433775   0.790551   \n",
       "\n",
       "                     gravity.y  gravity.z  rotationRate.x  rotationRate.y  \\\n",
       "time_series                                                                 \n",
       "2018-01-01 00:29:01   0.514052   0.054613        1.065054        2.373071   \n",
       "2018-01-01 00:29:02   0.515462   0.086403        0.497726        2.192886   \n",
       "2018-01-01 00:29:03   0.519196   0.116260        0.426906        1.919032   \n",
       "2018-01-01 00:29:04   0.523550   0.143251        0.414523        1.851654   \n",
       "2018-01-01 00:29:05   0.527551   0.169107        0.027461        1.528635   \n",
       "2018-01-01 00:29:06   0.533154   0.189844       -0.123211        0.909536   \n",
       "2018-01-01 00:29:07   0.539396   0.203020       -0.057641        0.723118   \n",
       "2018-01-01 00:29:08   0.546658   0.215288        0.343238        0.997236   \n",
       "2018-01-01 00:29:09   0.553834   0.229110        0.470144        1.227937   \n",
       "2018-01-01 00:29:10   0.561984   0.243315        0.291873        1.102207   \n",
       "\n",
       "                     rotationRate.z  userAcceleration.x  userAcceleration.y  \\\n",
       "time_series                                                                   \n",
       "2018-01-01 00:29:01       -0.040047            0.149749           -0.137389   \n",
       "2018-01-01 00:29:02       -0.042711            0.038461           -0.045660   \n",
       "2018-01-01 00:29:03       -0.227657           -0.169175           -0.000015   \n",
       "2018-01-01 00:29:04       -0.150745           -0.300361            0.030939   \n",
       "2018-01-01 00:29:05       -0.287630           -0.270174            0.096304   \n",
       "2018-01-01 00:29:06       -0.379757           -0.268367            0.006733   \n",
       "2018-01-01 00:29:07       -0.437812           -0.102444           -0.060666   \n",
       "2018-01-01 00:29:08       -0.338155           -0.085590           -0.030209   \n",
       "2018-01-01 00:29:09       -0.332223           -0.048105            0.029555   \n",
       "2018-01-01 00:29:10       -0.436925           -0.065011           -0.042575   \n",
       "\n",
       "                     userAcceleration.z         time_series  \n",
       "time_series                                                  \n",
       "2018-01-01 00:29:01           -0.023470 2018-01-01 00:29:01  \n",
       "2018-01-01 00:29:02            0.013450 2018-01-01 00:29:02  \n",
       "2018-01-01 00:29:03            0.134503 2018-01-01 00:29:03  \n",
       "2018-01-01 00:29:04            0.114638 2018-01-01 00:29:04  \n",
       "2018-01-01 00:29:05            0.033270 2018-01-01 00:29:05  \n",
       "2018-01-01 00:29:06           -0.064874 2018-01-01 00:29:06  \n",
       "2018-01-01 00:29:07           -0.229738 2018-01-01 00:29:07  \n",
       "2018-01-01 00:29:08           -0.087740 2018-01-01 00:29:08  \n",
       "2018-01-01 00:29:09            0.060441 2018-01-01 00:29:09  \n",
       "2018-01-01 00:29:10            0.046052 2018-01-01 00:29:10  "
      ]
     },
     "execution_count": 94,
     "metadata": {},
     "output_type": "execute_result"
    }
   ],
   "source": []
  },
  {
   "cell_type": "code",
   "execution_count": null,
   "metadata": {},
   "outputs": [],
   "source": []
  }
 ],
 "metadata": {
  "kernelspec": {
   "display_name": "Python 3",
   "language": "python",
   "name": "python3"
  },
  "language_info": {
   "codemirror_mode": {
    "name": "ipython",
    "version": 3
   },
   "file_extension": ".py",
   "mimetype": "text/x-python",
   "name": "python",
   "nbconvert_exporter": "python",
   "pygments_lexer": "ipython3",
   "version": "3.7.4"
  }
 },
 "nbformat": 4,
 "nbformat_minor": 2
}
