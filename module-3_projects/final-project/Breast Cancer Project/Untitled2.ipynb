{
 "cells": [
  {
   "cell_type": "code",
   "execution_count": 36,
   "metadata": {},
   "outputs": [
    {
     "data": {
      "text/html": [
       "<div>\n",
       "<style scoped>\n",
       "    .dataframe tbody tr th:only-of-type {\n",
       "        vertical-align: middle;\n",
       "    }\n",
       "\n",
       "    .dataframe tbody tr th {\n",
       "        vertical-align: top;\n",
       "    }\n",
       "\n",
       "    .dataframe thead th {\n",
       "        text-align: right;\n",
       "    }\n",
       "</style>\n",
       "<table border=\"1\" class=\"dataframe\">\n",
       "  <thead>\n",
       "    <tr style=\"text-align: right;\">\n",
       "      <th></th>\n",
       "      <th>Bio_alanine aminotransferase alt (iu/l)</th>\n",
       "      <th>Bio_albumin (g/l)</th>\n",
       "      <th>Bio_aspartate aminotransferase ast (iu/l)</th>\n",
       "      <th>Bio_bicarbonate (mmol/l)</th>\n",
       "      <th>Bio_blood urea nitrogen (mg/dl)</th>\n",
       "      <th>Bio_blood urea nitrogen (mmol/l)</th>\n",
       "      <th>Bio_chloride (mmol/l)</th>\n",
       "      <th>Bio_cholesterol (mmol/l)</th>\n",
       "      <th>Bio_creatinine (umol/l)</th>\n",
       "      <th>Bio_gamma glutamyl transferase (u/l)</th>\n",
       "      <th>...</th>\n",
       "      <th>Bio_iron, refrigerated serum (umol/l)</th>\n",
       "      <th>Bio_osmolality (mmol/kg)</th>\n",
       "      <th>Bio_phosphorus (mmol/l)</th>\n",
       "      <th>Bio_potassium (mmol/l)</th>\n",
       "      <th>Bio_sodium (mmol/l)</th>\n",
       "      <th>Bio_total bilirubin (umol/l)</th>\n",
       "      <th>Bio_total calcium (mmol/l)</th>\n",
       "      <th>Bio_total protein (g/l)</th>\n",
       "      <th>Bio_triglycerides, refrigerated (mmol/l)</th>\n",
       "      <th>Bio_uric acid (umol/l)</th>\n",
       "    </tr>\n",
       "  </thead>\n",
       "  <tbody>\n",
       "    <tr>\n",
       "      <td>0</td>\n",
       "      <td>21.0</td>\n",
       "      <td>40.0</td>\n",
       "      <td>21.0</td>\n",
       "      <td>25.0</td>\n",
       "      <td>15.0</td>\n",
       "      <td>5.4</td>\n",
       "      <td>101.7</td>\n",
       "      <td>6.08</td>\n",
       "      <td>53.0</td>\n",
       "      <td>22.0</td>\n",
       "      <td>...</td>\n",
       "      <td>15.58</td>\n",
       "      <td>277.0</td>\n",
       "      <td>1.227</td>\n",
       "      <td>4.13</td>\n",
       "      <td>138.3</td>\n",
       "      <td>5.1</td>\n",
       "      <td>2.275</td>\n",
       "      <td>71.0</td>\n",
       "      <td>2.269</td>\n",
       "      <td>285.5</td>\n",
       "    </tr>\n",
       "    <tr>\n",
       "      <td>1</td>\n",
       "      <td>23.0</td>\n",
       "      <td>45.0</td>\n",
       "      <td>25.0</td>\n",
       "      <td>27.0</td>\n",
       "      <td>16.0</td>\n",
       "      <td>5.7</td>\n",
       "      <td>101.8</td>\n",
       "      <td>6.28</td>\n",
       "      <td>61.9</td>\n",
       "      <td>28.0</td>\n",
       "      <td>...</td>\n",
       "      <td>13.07</td>\n",
       "      <td>281.0</td>\n",
       "      <td>1.130</td>\n",
       "      <td>4.16</td>\n",
       "      <td>140.9</td>\n",
       "      <td>8.6</td>\n",
       "      <td>2.325</td>\n",
       "      <td>74.0</td>\n",
       "      <td>1.106</td>\n",
       "      <td>267.7</td>\n",
       "    </tr>\n",
       "    <tr>\n",
       "      <td>2</td>\n",
       "      <td>13.0</td>\n",
       "      <td>45.0</td>\n",
       "      <td>19.0</td>\n",
       "      <td>23.0</td>\n",
       "      <td>17.0</td>\n",
       "      <td>6.1</td>\n",
       "      <td>104.0</td>\n",
       "      <td>6.78</td>\n",
       "      <td>44.2</td>\n",
       "      <td>20.0</td>\n",
       "      <td>...</td>\n",
       "      <td>14.51</td>\n",
       "      <td>287.0</td>\n",
       "      <td>1.130</td>\n",
       "      <td>4.64</td>\n",
       "      <td>143.5</td>\n",
       "      <td>12.0</td>\n",
       "      <td>2.400</td>\n",
       "      <td>77.0</td>\n",
       "      <td>1.039</td>\n",
       "      <td>243.9</td>\n",
       "    </tr>\n",
       "    <tr>\n",
       "      <td>3</td>\n",
       "      <td>9.0</td>\n",
       "      <td>47.0</td>\n",
       "      <td>16.0</td>\n",
       "      <td>25.0</td>\n",
       "      <td>7.0</td>\n",
       "      <td>2.5</td>\n",
       "      <td>102.4</td>\n",
       "      <td>3.26</td>\n",
       "      <td>35.4</td>\n",
       "      <td>8.0</td>\n",
       "      <td>...</td>\n",
       "      <td>3.40</td>\n",
       "      <td>279.0</td>\n",
       "      <td>1.195</td>\n",
       "      <td>4.62</td>\n",
       "      <td>141.4</td>\n",
       "      <td>13.7</td>\n",
       "      <td>2.375</td>\n",
       "      <td>70.0</td>\n",
       "      <td>0.474</td>\n",
       "      <td>190.3</td>\n",
       "    </tr>\n",
       "    <tr>\n",
       "      <td>4</td>\n",
       "      <td>27.0</td>\n",
       "      <td>42.0</td>\n",
       "      <td>32.0</td>\n",
       "      <td>30.0</td>\n",
       "      <td>18.0</td>\n",
       "      <td>6.4</td>\n",
       "      <td>104.0</td>\n",
       "      <td>4.60</td>\n",
       "      <td>61.9</td>\n",
       "      <td>30.0</td>\n",
       "      <td>...</td>\n",
       "      <td>15.04</td>\n",
       "      <td>289.0</td>\n",
       "      <td>1.162</td>\n",
       "      <td>3.97</td>\n",
       "      <td>144.6</td>\n",
       "      <td>23.9</td>\n",
       "      <td>2.450</td>\n",
       "      <td>68.0</td>\n",
       "      <td>1.219</td>\n",
       "      <td>279.6</td>\n",
       "    </tr>\n",
       "  </tbody>\n",
       "</table>\n",
       "<p>5 rows × 22 columns</p>\n",
       "</div>"
      ],
      "text/plain": [
       "   Bio_alanine aminotransferase alt (iu/l)  Bio_albumin (g/l)  \\\n",
       "0                                     21.0               40.0   \n",
       "1                                     23.0               45.0   \n",
       "2                                     13.0               45.0   \n",
       "3                                      9.0               47.0   \n",
       "4                                     27.0               42.0   \n",
       "\n",
       "   Bio_aspartate aminotransferase ast (iu/l)  Bio_bicarbonate (mmol/l)  \\\n",
       "0                                       21.0                      25.0   \n",
       "1                                       25.0                      27.0   \n",
       "2                                       19.0                      23.0   \n",
       "3                                       16.0                      25.0   \n",
       "4                                       32.0                      30.0   \n",
       "\n",
       "   Bio_blood urea nitrogen (mg/dl)  Bio_blood urea nitrogen (mmol/l)  \\\n",
       "0                             15.0                               5.4   \n",
       "1                             16.0                               5.7   \n",
       "2                             17.0                               6.1   \n",
       "3                              7.0                               2.5   \n",
       "4                             18.0                               6.4   \n",
       "\n",
       "   Bio_chloride (mmol/l)  Bio_cholesterol (mmol/l)  Bio_creatinine (umol/l)  \\\n",
       "0                  101.7                      6.08                     53.0   \n",
       "1                  101.8                      6.28                     61.9   \n",
       "2                  104.0                      6.78                     44.2   \n",
       "3                  102.4                      3.26                     35.4   \n",
       "4                  104.0                      4.60                     61.9   \n",
       "\n",
       "   Bio_gamma glutamyl transferase (u/l)  ...  \\\n",
       "0                                  22.0  ...   \n",
       "1                                  28.0  ...   \n",
       "2                                  20.0  ...   \n",
       "3                                   8.0  ...   \n",
       "4                                  30.0  ...   \n",
       "\n",
       "   Bio_iron, refrigerated serum (umol/l)  Bio_osmolality (mmol/kg)  \\\n",
       "0                                  15.58                     277.0   \n",
       "1                                  13.07                     281.0   \n",
       "2                                  14.51                     287.0   \n",
       "3                                   3.40                     279.0   \n",
       "4                                  15.04                     289.0   \n",
       "\n",
       "   Bio_phosphorus (mmol/l)  Bio_potassium (mmol/l)  Bio_sodium (mmol/l)  \\\n",
       "0                    1.227                    4.13                138.3   \n",
       "1                    1.130                    4.16                140.9   \n",
       "2                    1.130                    4.64                143.5   \n",
       "3                    1.195                    4.62                141.4   \n",
       "4                    1.162                    3.97                144.6   \n",
       "\n",
       "   Bio_total bilirubin (umol/l)  Bio_total calcium (mmol/l)  \\\n",
       "0                           5.1                       2.275   \n",
       "1                           8.6                       2.325   \n",
       "2                          12.0                       2.400   \n",
       "3                          13.7                       2.375   \n",
       "4                          23.9                       2.450   \n",
       "\n",
       "   Bio_total protein (g/l)  Bio_triglycerides, refrigerated (mmol/l)  \\\n",
       "0                     71.0                                     2.269   \n",
       "1                     74.0                                     1.106   \n",
       "2                     77.0                                     1.039   \n",
       "3                     70.0                                     0.474   \n",
       "4                     68.0                                     1.219   \n",
       "\n",
       "   Bio_uric acid (umol/l)  \n",
       "0                   285.5  \n",
       "1                   267.7  \n",
       "2                   243.9  \n",
       "3                   190.3  \n",
       "4                   279.6  \n",
       "\n",
       "[5 rows x 22 columns]"
      ]
     },
     "execution_count": 36,
     "metadata": {},
     "output_type": "execute_result"
    }
   ],
   "source": [
    "#importing libraries\n",
    "from sklearn.datasets import load_boston\n",
    "import pandas as pd\n",
    "import numpy as np\n",
    "import matplotlib\n",
    "import matplotlib.pyplot as plt\n",
    "import seaborn as sns\n",
    "import statsmodels.api as sm\n",
    "%matplotlib inline\n",
    "from sklearn.model_selection import train_test_split\n",
    "from sklearn.linear_model import LinearRegression\n",
    "from sklearn.feature_selection import RFE\n",
    "from sklearn.linear_model import RidgeCV, LassoCV, Ridge, Lasso\n",
    "from sklearn.model_selection import KFold   #For K-fold cross validation\n",
    "#Loading the dataset\n",
    "df = pd.read_csv('nhanes_breast_cancer_all_nhanes_biochemistry.csv')\n",
    "\n",
    "l = ['Id','Breast cancer','Age']\n",
    "X = df.drop(l,axis = 1)   #Feature Matrix\n",
    "y = df[\"Breast cancer\"]          #Target Variable\n",
    "X.head()"
   ]
  },
  {
   "cell_type": "markdown",
   "metadata": {},
   "source": [
    "# Wrapper method: Backward Elimination\n",
    "- As the name suggest, we feed all the possible features to the model at first. We check the performance of the model and then iteratively remove the worst performing features one by one till the overall performance of the model comes in acceptable range.\n",
    "- The performance metric used here to evaluate feature performance is pvalue. If the pvalue is above 0.05 then we remove the feature, else we keep it.\n",
    "- We will first run one iteration here just to get an idea of the concept and then we will run the same code in a loop, which will give the final set of features. Here we are using OLS model which stands for “Ordinary Least Squares”. This model is used for performing linear regression.\n"
   ]
  },
  {
   "cell_type": "code",
   "execution_count": 37,
   "metadata": {},
   "outputs": [
    {
     "name": "stderr",
     "output_type": "stream",
     "text": [
      "/usr/local/lib/python3.7/site-packages/numpy/core/fromnumeric.py:2495: FutureWarning: Method .ptp is deprecated and will be removed in a future version. Use numpy.ptp instead.\n",
      "  return ptp(axis=axis, out=out, **kwargs)\n"
     ]
    },
    {
     "data": {
      "text/plain": [
       "const                                        0.093619\n",
       "Bio_alanine aminotransferase alt (iu/l)      0.062738\n",
       "Bio_albumin (g/l)                            0.445294\n",
       "Bio_aspartate aminotransferase ast (iu/l)    0.022244\n",
       "Bio_bicarbonate (mmol/l)                     0.000014\n",
       "Bio_blood urea nitrogen (mg/dl)              0.443539\n",
       "Bio_blood urea nitrogen (mmol/l)             0.436295\n",
       "Bio_chloride (mmol/l)                        0.003086\n",
       "Bio_cholesterol (mmol/l)                     0.000148\n",
       "Bio_creatinine (umol/l)                      0.337477\n",
       "Bio_gamma glutamyl transferase (u/l)         0.310234\n",
       "Bio_globulin (g/l)                           0.412057\n",
       "Bio_glucose, refrigerated serum (mmol/l)     0.956270\n",
       "Bio_iron, refrigerated serum (umol/l)        0.595870\n",
       "Bio_osmolality (mmol/kg)                     0.372835\n",
       "Bio_phosphorus (mmol/l)                      0.141982\n",
       "Bio_potassium (mmol/l)                       0.271440\n",
       "Bio_sodium (mmol/l)                          0.645898\n",
       "Bio_total bilirubin (umol/l)                 0.822086\n",
       "Bio_total calcium (mmol/l)                   0.081773\n",
       "Bio_total protein (g/l)                      0.275595\n",
       "Bio_triglycerides, refrigerated (mmol/l)     0.462545\n",
       "Bio_uric acid (umol/l)                       0.003563\n",
       "dtype: float64"
      ]
     },
     "execution_count": 37,
     "metadata": {},
     "output_type": "execute_result"
    }
   ],
   "source": [
    "#Adding constant column of ones, mandatory for sm.OLS model\n",
    "X_1 = sm.add_constant(X)\n",
    "#Fitting sm.OLS model\n",
    "model = sm.OLS(y,X_1).fit()\n",
    "model.pvalues"
   ]
  },
  {
   "cell_type": "code",
   "execution_count": 38,
   "metadata": {},
   "outputs": [
    {
     "name": "stdout",
     "output_type": "stream",
     "text": [
      "['Bio_aspartate aminotransferase ast (iu/l)', 'Bio_bicarbonate (mmol/l)', 'Bio_blood urea nitrogen (mmol/l)', 'Bio_chloride (mmol/l)', 'Bio_cholesterol (mmol/l)', 'Bio_osmolality (mmol/kg)', 'Bio_total protein (g/l)', 'Bio_uric acid (umol/l)']\n"
     ]
    }
   ],
   "source": [
    "#Backward Elimination\n",
    "cols = list(X.columns)\n",
    "pmax = 1\n",
    "while (len(cols)>0):\n",
    "    p= []\n",
    "    X_1 = X[cols]\n",
    "    X_1 = sm.add_constant(X_1)\n",
    "    model = sm.OLS(y,X_1).fit()\n",
    "    p = pd.Series(model.pvalues.values[1:],index = cols)      \n",
    "    pmax = max(p)\n",
    "    feature_with_p_max = p.idxmax()\n",
    "    if(pmax>0.05):\n",
    "        cols.remove(feature_with_p_max)\n",
    "    else:\n",
    "        break\n",
    "selected_features_BE = cols\n",
    "print(selected_features_BE)"
   ]
  },
  {
   "cell_type": "code",
   "execution_count": 39,
   "metadata": {},
   "outputs": [
    {
     "name": "stdout",
     "output_type": "stream",
     "text": [
      "(792, 25)\n",
      "(340, 25)\n"
     ]
    }
   ],
   "source": [
    "data=df.copy()\n",
    "data = data.rename(columns={'Breast cancer': 'diagnosis'})\n",
    "#now split our data into train and test\n",
    "train, test = train_test_split(data, test_size = 0.3)# in this our main data is splitted into train and test\n",
    "# we can check their dimension\n",
    "print(train.shape)\n",
    "print(test.shape)"
   ]
  },
  {
   "cell_type": "code",
   "execution_count": null,
   "metadata": {},
   "outputs": [],
   "source": []
  },
  {
   "cell_type": "code",
   "execution_count": 40,
   "metadata": {},
   "outputs": [],
   "source": [
    "prediction_var = selected_features_BE"
   ]
  },
  {
   "cell_type": "code",
   "execution_count": 41,
   "metadata": {},
   "outputs": [],
   "source": [
    "from sklearn.linear_model import LogisticRegression # to apply the Logistic regression\n",
    "from sklearn.model_selection import train_test_split # to split the data into two parts\n",
    "from sklearn.model_selection import GridSearchCV# for tuning parameter\n",
    "from sklearn.ensemble import RandomForestClassifier # for random forest classifier\n",
    "from sklearn.naive_bayes import GaussianNB\n",
    "from sklearn.neighbors import KNeighborsClassifier\n",
    "from sklearn.tree import DecisionTreeClassifier\n",
    "from sklearn import svm # for Support Vector Machine\n",
    "from sklearn import metrics # for the check the error and accuracy of the model\n",
    "# Any results you write to the current directory are saved as output.\n",
    "# dont worry about the error if its not working then insteda of model_selection we can use cross_validation\n"
   ]
  },
  {
   "cell_type": "code",
   "execution_count": 42,
   "metadata": {},
   "outputs": [],
   "source": [
    "model=RandomForestClassifier(n_estimators=100)# a simple random forest model"
   ]
  },
  {
   "cell_type": "code",
   "execution_count": 43,
   "metadata": {},
   "outputs": [],
   "source": [
    "train_X = train[prediction_var]# taking the training data input \n",
    "train_y=train.diagnosis# This is output of our training data\n",
    "# same we have to do for test\n",
    "test_X= test[prediction_var] # taking test data inputs\n",
    "test_y =test.diagnosis   #output value of test dat"
   ]
  },
  {
   "cell_type": "code",
   "execution_count": 44,
   "metadata": {},
   "outputs": [],
   "source": [
    "model=RandomForestClassifier(n_estimators=100)# a simple random forest model"
   ]
  },
  {
   "cell_type": "code",
   "execution_count": 45,
   "metadata": {},
   "outputs": [
    {
     "data": {
      "text/plain": [
       "RandomForestClassifier(bootstrap=True, class_weight=None, criterion='gini',\n",
       "                       max_depth=None, max_features='auto', max_leaf_nodes=None,\n",
       "                       min_impurity_decrease=0.0, min_impurity_split=None,\n",
       "                       min_samples_leaf=1, min_samples_split=2,\n",
       "                       min_weight_fraction_leaf=0.0, n_estimators=100,\n",
       "                       n_jobs=None, oob_score=False, random_state=None,\n",
       "                       verbose=0, warm_start=False)"
      ]
     },
     "execution_count": 45,
     "metadata": {},
     "output_type": "execute_result"
    }
   ],
   "source": [
    "model.fit(train_X,train_y)"
   ]
  },
  {
   "cell_type": "code",
   "execution_count": 46,
   "metadata": {},
   "outputs": [],
   "source": [
    "prediction=model.predict(test_X)# predict for the test data\n",
    "# prediction will contain the predicted value by our model predicted values of dignosis column for test inputs"
   ]
  },
  {
   "cell_type": "code",
   "execution_count": 47,
   "metadata": {},
   "outputs": [
    {
     "data": {
      "text/plain": [
       "0.7205882352941176"
      ]
     },
     "execution_count": 47,
     "metadata": {},
     "output_type": "execute_result"
    }
   ],
   "source": [
    "metrics.accuracy_score(prediction,test_y) # to check the accuracy\n"
   ]
  },
  {
   "cell_type": "code",
   "execution_count": 48,
   "metadata": {},
   "outputs": [],
   "source": [
    "# SVM"
   ]
  },
  {
   "cell_type": "code",
   "execution_count": 49,
   "metadata": {},
   "outputs": [
    {
     "name": "stderr",
     "output_type": "stream",
     "text": [
      "/usr/local/lib/python3.7/site-packages/sklearn/svm/base.py:193: FutureWarning: The default value of gamma will change from 'auto' to 'scale' in version 0.22 to account better for unscaled features. Set gamma explicitly to 'auto' or 'scale' to avoid this warning.\n",
      "  \"avoid this warning.\", FutureWarning)\n"
     ]
    },
    {
     "data": {
      "text/plain": [
       "0.55"
      ]
     },
     "execution_count": 49,
     "metadata": {},
     "output_type": "execute_result"
    }
   ],
   "source": [
    "model = svm.SVC()\n",
    "model.fit(train_X,train_y)\n",
    "prediction=model.predict(test_X)\n",
    "metrics.accuracy_score(prediction,test_y)"
   ]
  },
  {
   "cell_type": "code",
   "execution_count": 50,
   "metadata": {},
   "outputs": [],
   "source": [
    "# *Now lets do this for all feature_mean so that from Random forest we can get the feature which are important**"
   ]
  },
  {
   "cell_type": "code",
   "execution_count": 51,
   "metadata": {},
   "outputs": [],
   "source": [
    "prediction_var = X.columns # taking all features\n"
   ]
  },
  {
   "cell_type": "code",
   "execution_count": 52,
   "metadata": {},
   "outputs": [],
   "source": [
    "train_X= train[prediction_var]\n",
    "train_y= train.diagnosis\n",
    "test_X = test[prediction_var]\n",
    "test_y = test.diagnosis"
   ]
  },
  {
   "cell_type": "code",
   "execution_count": 53,
   "metadata": {},
   "outputs": [],
   "source": [
    "model=RandomForestClassifier(n_estimators=100)\n"
   ]
  },
  {
   "cell_type": "code",
   "execution_count": 54,
   "metadata": {},
   "outputs": [
    {
     "data": {
      "text/plain": [
       "0.7235294117647059"
      ]
     },
     "execution_count": 54,
     "metadata": {},
     "output_type": "execute_result"
    }
   ],
   "source": [
    "model.fit(train_X,train_y)\n",
    "prediction = model.predict(test_X)\n",
    "metrics.accuracy_score(prediction,test_y)"
   ]
  },
  {
   "cell_type": "code",
   "execution_count": 55,
   "metadata": {},
   "outputs": [
    {
     "name": "stdout",
     "output_type": "stream",
     "text": [
      "Bio_glucose, refrigerated serum (mmol/l)     0.068796\n",
      "Bio_uric acid (umol/l)                       0.063774\n",
      "Bio_blood urea nitrogen (mmol/l)             0.061424\n",
      "Bio_creatinine (umol/l)                      0.059131\n",
      "Bio_blood urea nitrogen (mg/dl)              0.058471\n",
      "Bio_total protein (g/l)                      0.057484\n",
      "Bio_osmolality (mmol/kg)                     0.055338\n",
      "Bio_bicarbonate (mmol/l)                     0.050147\n",
      "Bio_cholesterol (mmol/l)                     0.049706\n",
      "Bio_gamma glutamyl transferase (u/l)         0.048436\n",
      "Bio_triglycerides, refrigerated (mmol/l)     0.045035\n",
      "Bio_iron, refrigerated serum (umol/l)        0.041015\n",
      "Bio_globulin (g/l)                           0.040568\n",
      "Bio_aspartate aminotransferase ast (iu/l)    0.039662\n",
      "Bio_total calcium (mmol/l)                   0.036672\n",
      "Bio_alanine aminotransferase alt (iu/l)      0.036112\n",
      "Bio_potassium (mmol/l)                       0.035996\n",
      "Bio_chloride (mmol/l)                        0.035263\n",
      "Bio_phosphorus (mmol/l)                      0.032619\n",
      "Bio_albumin (g/l)                            0.030975\n",
      "Bio_total bilirubin (umol/l)                 0.027561\n",
      "Bio_sodium (mmol/l)                          0.025817\n",
      "dtype: float64\n"
     ]
    }
   ],
   "source": [
    "featimp = pd.Series(model.feature_importances_, index=prediction_var).sort_values(ascending=False)\n",
    "print(featimp) # this is the property of Random Forest classifier that it provide us the importance \n",
    "# of the features used"
   ]
  },
  {
   "cell_type": "code",
   "execution_count": 56,
   "metadata": {},
   "outputs": [
    {
     "name": "stderr",
     "output_type": "stream",
     "text": [
      "/usr/local/lib/python3.7/site-packages/sklearn/svm/base.py:193: FutureWarning: The default value of gamma will change from 'auto' to 'scale' in version 0.22 to account better for unscaled features. Set gamma explicitly to 'auto' or 'scale' to avoid this warning.\n",
      "  \"avoid this warning.\", FutureWarning)\n"
     ]
    },
    {
     "data": {
      "text/plain": [
       "0.47352941176470587"
      ]
     },
     "execution_count": 56,
     "metadata": {},
     "output_type": "execute_result"
    }
   ],
   "source": [
    "model = svm.SVC()\n",
    "model.fit(train_X,train_y)\n",
    "prediction=model.predict(test_X)\n",
    "metrics.accuracy_score(prediction,test_y)"
   ]
  },
  {
   "cell_type": "code",
   "execution_count": 57,
   "metadata": {},
   "outputs": [],
   "source": [
    "train_X= train[prediction_var]\n",
    "train_y= train.diagnosis\n",
    "test_X = test[prediction_var]\n",
    "test_y = test.diagnosis"
   ]
  },
  {
   "cell_type": "code",
   "execution_count": 58,
   "metadata": {},
   "outputs": [
    {
     "data": {
      "text/plain": [
       "0.7382352941176471"
      ]
     },
     "execution_count": 58,
     "metadata": {},
     "output_type": "execute_result"
    }
   ],
   "source": [
    "model=RandomForestClassifier(n_estimators=100)\n",
    "model.fit(train_X,train_y)\n",
    "prediction = model.predict(test_X)\n",
    "metrics.accuracy_score(prediction,test_y)"
   ]
  },
  {
   "cell_type": "code",
   "execution_count": 59,
   "metadata": {},
   "outputs": [
    {
     "name": "stderr",
     "output_type": "stream",
     "text": [
      "/usr/local/lib/python3.7/site-packages/sklearn/svm/base.py:193: FutureWarning: The default value of gamma will change from 'auto' to 'scale' in version 0.22 to account better for unscaled features. Set gamma explicitly to 'auto' or 'scale' to avoid this warning.\n",
      "  \"avoid this warning.\", FutureWarning)\n"
     ]
    },
    {
     "data": {
      "text/plain": [
       "0.47352941176470587"
      ]
     },
     "execution_count": 59,
     "metadata": {},
     "output_type": "execute_result"
    }
   ],
   "source": [
    "model = svm.SVC()\n",
    "model.fit(train_X,train_y)\n",
    "prediction=model.predict(test_X)\n",
    "metrics.accuracy_score(prediction,test_y)"
   ]
  },
  {
   "cell_type": "markdown",
   "metadata": {},
   "source": [
    "# f"
   ]
  },
  {
   "cell_type": "code",
   "execution_count": 67,
   "metadata": {},
   "outputs": [
    {
     "name": "stdout",
     "output_type": "stream",
     "text": [
      "our accuracy is:0.7352941176470589\n"
     ]
    },
    {
     "name": "stderr",
     "output_type": "stream",
     "text": [
      "/usr/local/lib/python3.7/site-packages/sklearn/linear_model/logistic.py:432: FutureWarning: Default solver will be changed to 'lbfgs' in 0.22. Specify a solver to silence this warning.\n",
      "  FutureWarning)\n"
     ]
    }
   ],
   "source": [
    "x_train,y_train= train_X,train_y\n",
    "x_test,y_test = test_X,test_y\n",
    "\n",
    "from sklearn.linear_model import LogisticRegression\n",
    "lgr = LogisticRegression(max_iter = 200)\n",
    "lgr.fit(train_X,train_y)\n",
    "print(\"our accuracy is:{}\".format(lgr.score(test_X,test_y)))"
   ]
  },
  {
   "cell_type": "code",
   "execution_count": 68,
   "metadata": {},
   "outputs": [],
   "source": [
    "#We can evaluate our model so and we have y_predict and y_true(y_test)\n",
    "from sklearn.metrics import confusion_matrix\n",
    "y_true = y_test \n",
    "y_pred = lgr.predict(x_test) #Predict data for eveluating \n",
    "cm = confusion_matrix(y_true,y_pred)"
   ]
  },
  {
   "cell_type": "code",
   "execution_count": 69,
   "metadata": {},
   "outputs": [
    {
     "data": {
      "text/plain": [
       "<matplotlib.axes._subplots.AxesSubplot at 0x11d8ea190>"
      ]
     },
     "execution_count": 69,
     "metadata": {},
     "output_type": "execute_result"
    },
    {
     "data": {
      "image/png": "[encoded data removed]",
      "text/plain": [
       "<Figure size 360x360 with 2 Axes>"
      ]
     },
     "metadata": {
      "needs_background": "light"
     },
     "output_type": "display_data"
    }
   ],
   "source": [
    "#We draw heatmap for showing confusion matrix\n",
    "import matplotlib.pyplot as plt\n",
    "import seaborn as sns\n",
    "f,ax = plt.subplots(figsize = (5,5))\n",
    "sns.heatmap(cm,annot = True,linewidth = 1,fmt =\".0f\",ax = ax)"
   ]
  },
  {
   "cell_type": "code",
   "execution_count": null,
   "metadata": {},
   "outputs": [],
   "source": []
  }
 ],
 "metadata": {
  "kernelspec": {
   "display_name": "Python 3",
   "language": "python",
   "name": "python3"
  },
  "language_info": {
   "codemirror_mode": {
    "name": "ipython",
    "version": 3
   },
   "file_extension": ".py",
   "mimetype": "text/x-python",
   "name": "python",
   "nbconvert_exporter": "python",
   "pygments_lexer": "ipython3",
   "version": "3.7.4"
  }
 },
 "nbformat": 4,
 "nbformat_minor": 2
}
