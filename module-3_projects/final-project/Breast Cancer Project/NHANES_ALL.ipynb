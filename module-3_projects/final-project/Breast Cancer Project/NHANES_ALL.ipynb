{
 "cells": [
  {
   "cell_type": "code",
   "execution_count": 1,
   "metadata": {},
   "outputs": [],
   "source": [
    "import pandas as pd\n",
    "import numpy as np"
   ]
  },
  {
   "cell_type": "markdown",
   "metadata": {},
   "source": [
    "# Demographic Variables and Sample Weights (DEMO_H)\n",
    "RIAGENDR - Gender\n",
    "RIDAGEYR - Age in years at screening\n",
    "female = 2\n",
    "\n",
    "# Medical Conditions (MCQ_H)\n",
    "SEQN - Respondent sequence number\n",
    "- MCQ230A - What kind of cancer (Code 14 is Breast, many codes many different cancers)\n",
    "- MCQ240E - Age when breast cancer first diagnosed\n",
    "- MCQ220 - Ever told you had cancer or malignancy\n",
    "no = 2\n",
    "\n",
    "\n",
    "# Complete Blood Count with 5-part Differential - Whole Blood (CBC_H)\n",
    "SEQN - Respondent sequence number\n",
    "LBXWBCSI - White blood cell count (1000 cells/uL)\n",
    "LBXLYPCT - Lymphocyte percent (%)\n",
    "LBXMOPCT - Monocyte percent (%)\n",
    "LBXNEPCT - Segmented neutrophils percent (%)\n",
    "LBXEOPCT - Eosinophils percent (%)\n",
    "LBXBAPCT - Basophils percent (%)\n",
    "LBDLYMNO - Lymphocyte number (1000 cells/uL)\n",
    "LBDMONO - Monocyte number (1000 cells/uL)\n",
    "LBDNENO - Segmented neutrophils num (1000 cell/uL)\n",
    "LBDEONO - Eosinophils number (1000 cells/uL)\n",
    "LBDBANO - Basophils number (1000 cells/uL)\n",
    "LBXRBCSI - Red blood cell count (million cells/uL)\n",
    "LBXHGB - Hemoglobin (g/dL)\n",
    "LBXHCT - Hematocrit (%)\n",
    "LBXMCVSI - Mean cell volume (fL)\n",
    "LBXMCHSI - Mean cell hemoglobin (pg)\n",
    "LBXMC - MCHC (g/dL)\n",
    "LBXRDW - Red cell distribution width (%)\n",
    "LBXPLTSI - Platelet count (1000 cells/uL)\n",
    "LBXMPSI - Mean platelet volume (fL)\n",
    " \n",
    "\n",
    "# Standard Biochemistry Profile (BIOPRO_H)\n",
    "SEQN - Respondent sequence number\n",
    "LBDSALSI - Albumin (g/L)\n",
    "LBXSAPSI - Alkaline phosphatase (IU/L)\n",
    "LBXSASSI - Aspartate aminotransferase AST (IU/L)\n",
    "LBXSATSI - Alanine aminotransferase ALT (IU/L)\n",
    "LBXSBU - Blood urea nitrogen (mg/dL)\n",
    "LBDSBUSI - Blood urea nitrogen (mmol/L)\n",
    "LBXSC3SI - Bicarbonate (mmol/L)\n",
    "LBDSCASI - Total calcium (mmol/L)\n",
    "LBDSCHSI - Cholesterol (mmol/L)\n",
    "LBXSCK - Creatine Phosphokinase(CPK) (IU/L)\n",
    "LBXSCLSI - Chloride (mmol/L)\n",
    "LBDSCRSI - Creatinine (umol/L)\n",
    "LBDSGBSI - Globulin (g/L)\n",
    "LBDSGLSI - Glucose, refrigerated serum (mmol/L)\n",
    "LBXSGTSI - Gamma glutamyl transferase (U/L)\n",
    "LBDSIRSI - Iron, refrigerated serum (umol/L)\n",
    "LBXSKSI - Potassium (mmol/L)\n",
    "LBXSLDSI - Lactate dehydrogenase (U/L)\n",
    "LBXSNASI - Sodium (mmol/L)\n",
    "LBXSOSSI - Osmolality (mmol/Kg)\n",
    "LBDSPHSI - Phosphorus (mmol/L)\n",
    "LBDSTBSI - Total bilirubin (umol/L)\n",
    "LBDSTPSI - Total protein (g/L)\n",
    "LBDSTRSI - Triglycerides, refrigerated (mmol/L)\n",
    "LBDSUASI - Uric acid (umol/L)"
   ]
  },
  {
   "cell_type": "markdown",
   "metadata": {},
   "source": [
    "# GET MORE DATA"
   ]
  },
  {
   "cell_type": "code",
   "execution_count": 2,
   "metadata": {},
   "outputs": [],
   "source": [
    "for i in ['A']:    \n",
    "    df_demo= pd.read_sas('./NHANES 2013-2014/other NHANES/DEMO_'+i+'.XPT')\n",
    "    # selecting specific columns\n",
    "    # selecting gender: women SEQN and Age\n",
    "    df_demo = df_demo[(df_demo['RIAGENDR'] == 2 ) & (df_demo['RIDAGEYR'] > 10) ][['SEQN', 'RIDAGEYR']]\n",
    "    df_demo = df_demo.rename(columns={'RIDAGEYR': 'Age'})\n",
    "\n",
    "    df_med = pd.read_sas('./NHANES 2013-2014/other NHANES/MCQ_'+i+'.XPT')\n",
    "    # match only dose SEQN matching the one inf df_demo (seqn variable)\n",
    "    df_med = df_med.loc[df_med['SEQN'].isin(df_demo['SEQN'])]\n",
    "    df_med = df_med[['SEQN', 'MCQ230A', 'MCQ240E', 'MCQ220']]\n",
    "    # add column breast cancer 'Diagnosis' 1 no 0\n",
    "    df_med['Breast Cancer'] = np.where(df_med['MCQ230A'] == 14,1,0)\n",
    "\n",
    "    # subset to have women that were diagnosed with breast cancer \n",
    "    df_med = df_med[(df_med['Breast Cancer'] == 1)]\n",
    "    # changing the column name to diagnosis age and saving the dataset\n",
    "    df_med = df_med.rename(columns={'MCQ240E' : 'Diagnosis Age'})[['SEQN', 'Diagnosis Age', 'Breast Cancer']]\n",
    "    # merge df_med with df_demo\n",
    "    df = pd.merge(df_med, df_demo, on='SEQN', how='inner')\n",
    "\n",
    "    df_blood = pd.read_sas('./NHANES 2013-2014/other NHANES/CBC_'+i+'.XPT')\n",
    "    # subset to SEQN from df\n",
    "    df_blood = df_blood.loc[df_blood['SEQN'].isin(df['SEQN'])]\n",
    "    col_dict = {\n",
    "    'LBXWBCSI' : 'BL_White blood cell count (1000 cells/uL)',\n",
    "    'LBXLYPCT' : 'BL_Lymphocyte percent (%)',\n",
    "    'LBXMOPCT' : 'BL_Monocyte percent (%)',\n",
    "    'LBXNEPCT' : 'BL_Segmented neutrophils percent (%)',\n",
    "    'LBXEOPCT' : 'BL_Eosinophils percent (%)',\n",
    "    'LBXBAPCT' : 'BL_Basophils percent (%)',\n",
    "    'LBDLYMNO' : 'BL_Lymphocyte number (1000 cells/uL)',\n",
    "    'LBDMONO' : 'BL_Monocyte number (1000 cells/uL)',\n",
    "    'LBDNENO' : 'BL_Segmented neutrophils num (1000 cell/uL)',\n",
    "    'LBDEONO' : 'BL_Eosinophils number (1000 cells/uL)',\n",
    "    'LBDBANO' : 'BL_Basophils number (1000 cells/uL)',\n",
    "    'LBXRBCSI' : 'BL_Red blood cell count (million cells/uL)',\n",
    "    'LBXHGB' : 'BL_Hemoglobin (g/dL)',\n",
    "    'LBXHCT' : 'BL_Hematocrit (%)',\n",
    "    'LBXMCVSI' : 'BL_Mean cell volume (fL)',\n",
    " #   'LBXMCHSI' : 'BL_Mean cell hemoglobin (pg)',\n",
    " #   'LBXMC' : 'BL_MCHC (g/dL)',\n",
    "    'LBXRDW' : 'BL_Red cell distribution width (%)',\n",
    "    'LBXPLTSI' : 'BL_Platelet count (1000 cells/uL)',\n",
    "    'LBXMPSI' : 'BL_Mean platelet volume (fL)'\n",
    "    }\n",
    "    df_blood = df_blood.rename(columns = col_dict)\n",
    "    # merge df_blood to df\n",
    "    df = pd.merge(df, df_blood, how='inner', on=['SEQN'])\n",
    "\n",
    "    df_bio = pd.read_sas('./NHANES 2013-2014/other NHANES/BIOPRO_'+i+'.XPT')\n",
    "    col_dict = {\n",
    "    'SEQN' : 'SEQN',\n",
    "    'LBDSALSI' : 'BIO_Albumin (g/L)',\n",
    "    #'LBXSAPSI' : 'BIO_Alkaline phosphatase (IU/L)',\n",
    "    'LBXSASSI' : 'BIO_Aspartate aminotransferase AST (IU/L)',\n",
    "    'LBXSATSI' : 'BIO_Alanine aminotransferase ALT (IU/L)',\n",
    "    'LBXSBU' : 'BIO_Blood urea nitrogen (mg/dL)',\n",
    "    'LBDSBUSI' : 'BIO_Blood urea nitrogen (mmol/L)',\n",
    "    'LBXSC3SI' : 'BIO_Bicarbonate (mmol/L)',\n",
    "    'LBDSCASI' : 'BIO_Total calcium (mmol/L)',\n",
    "    'LBDSCHSI' : 'BIO_Cholesterol (mmol/L)',\n",
    "    #'LBXSCK' : 'BIO_Creatine Phosphokinase(CPK) (IU/L)',\n",
    "    'LBXSCLSI' : 'BIO_Chloride (mmol/L)',\n",
    "    'LBDSCRSI' : 'BIO_Creatinine (umol/L)',\n",
    "    'LBDSGBSI' : 'BIO_Globulin (g/L)',\n",
    "    'LBDSGLSI' : 'BIO_Glucose, refrigerated serum (mmol/L)',\n",
    "    'LBXSGTSI' : 'BIO_Gamma glutamyl transferase (U/L)',\n",
    "    'LBDSIRSI' : 'BIO_Iron, refrigerated serum (umol/L)',\n",
    "    'LBXSKSI' : 'BIO_Potassium (mmol/L)',\n",
    "   # 'LBXSLDSI' : 'BIO_Lactate dehydrogenase (U/L)',\n",
    "    'LBXSNASI' : 'BIO_Sodium (mmol/L)',\n",
    "    'LBXSOSSI' : 'BIO_Osmolality (mmol/Kg)',\n",
    "    'LBDSPHSI' : 'BIO_Phosphorus (mmol/L)',\n",
    "    'LBDSTBSI' : 'BIO_Total bilirubin (umol/L)',\n",
    "    'LBDSTPSI' : 'BIO_Total protein (g/L)',\n",
    "    'LBDSTRSI' : 'BIO_Triglycerides, refrigerated (mmol/L)',\n",
    "    'LBDSUASI' : 'BIO_Uric acid (umol/L)'}\n",
    "    # select the columns i want to keep\n",
    "    df_bio = df_bio[list(col_dict.keys())].rename(columns=col_dict)\n",
    "    # merge df_bio with df\n",
    "    df = pd.merge(df, df_bio, how='inner', on=['SEQN'])\n",
    "    \n",
    "    df_final = df.copy()"
   ]
  },
  {
   "cell_type": "code",
   "execution_count": 3,
   "metadata": {},
   "outputs": [
    {
     "name": "stderr",
     "output_type": "stream",
     "text": [
      "/usr/local/lib/python3.7/site-packages/pandas/core/frame.py:7123: FutureWarning: Sorting because non-concatenation axis is not aligned. A future version\n",
      "of pandas will change to not sort by default.\n",
      "\n",
      "To accept the future behavior, pass 'sort=False'.\n",
      "\n",
      "To retain the current behavior and silence the warning, pass 'sort=True'.\n",
      "\n",
      "  sort=sort,\n"
     ]
    }
   ],
   "source": [
    "for i in ['B','C','D','E','F','G','H','I']:    \n",
    "    df_demo= pd.read_sas('./NHANES 2013-2014/other NHANES/DEMO_'+i+'.XPT')\n",
    "    # selecting specific columns\n",
    "    # selecting gender: women SEQN and Age\n",
    "    df_demo = df_demo[(df_demo['RIAGENDR'] == 2 ) & (df_demo['RIDAGEYR'] > 10) ][['SEQN', 'RIDAGEYR']]\n",
    "    df_demo = df_demo.rename(columns={'RIDAGEYR': 'Age'})\n",
    "\n",
    "    df_med = pd.read_sas('./NHANES 2013-2014/other NHANES/MCQ_'+i+'.XPT')\n",
    "    # match only dose SEQN matching the one inf df_demo (seqn variable)\n",
    "    df_med = df_med.loc[df_med['SEQN'].isin(df_demo['SEQN'])]\n",
    "    df_med = df_med[['SEQN', 'MCQ230A', 'MCQ240E', 'MCQ220']]\n",
    "    # add column breast cancer 'Diagnosis' 1 no 0\n",
    "    df_med['Breast Cancer'] = np.where(df_med['MCQ230A'] == 14,1,0)\n",
    "\n",
    "    # subset to have women that were diagnosed with breast cancer \n",
    "    df_med = df_med[(df_med['Breast Cancer'] == 1)]\n",
    "    # changing the column name to diagnosis age and saving the dataset\n",
    "    df_med = df_med.rename(columns={'MCQ240E' : 'Diagnosis Age'})[['SEQN', 'Diagnosis Age', 'Breast Cancer']]\n",
    "    # merge df_med with df_demo\n",
    "    df = pd.merge(df_med, df_demo, on='SEQN', how='inner')\n",
    "\n",
    "\n",
    "    df_blood = pd.read_sas('./NHANES 2013-2014/other NHANES/CBC_'+i+'.XPT')\n",
    "    # subset to SEQN from df\n",
    "    df_blood = df_blood.loc[df_blood['SEQN'].isin(df['SEQN'])]\n",
    "    col_dict = {\n",
    "    'LBXWBCSI' : 'BL_White blood cell count (1000 cells/uL)',\n",
    "    'LBXLYPCT' : 'BL_Lymphocyte percent (%)',\n",
    "    'LBXMOPCT' : 'BL_Monocyte percent (%)',\n",
    "    'LBXNEPCT' : 'BL_Segmented neutrophils percent (%)',\n",
    "    'LBXEOPCT' : 'BL_Eosinophils percent (%)',\n",
    "    'LBXBAPCT' : 'BL_Basophils percent (%)',\n",
    "    'LBDLYMNO' : 'BL_Lymphocyte number (1000 cells/uL)',\n",
    "    'LBDMONO' : 'BL_Monocyte number (1000 cells/uL)',\n",
    "    'LBDNENO' : 'BL_Segmented neutrophils num (1000 cell/uL)',\n",
    "    'LBDEONO' : 'BL_Eosinophils number (1000 cells/uL)',\n",
    "    'LBDBANO' : 'BL_Basophils number (1000 cells/uL)',\n",
    "    'LBXRBCSI' : 'BL_Red blood cell count (million cells/uL)',\n",
    "    'LBXHGB' : 'BL_Hemoglobin (g/dL)',\n",
    "    'LBXHCT' : 'BL_Hematocrit (%)',\n",
    "    'LBXMCVSI' : 'BL_Mean cell volume (fL)',\n",
    "   # 'LBXMCHSI' : 'BL_Mean cell hemoglobin (pg)',\n",
    "   # 'LBXMC' : 'BL_MCHC (g/dL)',\n",
    "    'LBXRDW' : 'BL_Red cell distribution width (%)',\n",
    "    'LBXPLTSI' : 'BL_Platelet count (1000 cells/uL)',\n",
    "    'LBXMPSI' : 'BL_Mean platelet volume (fL)'\n",
    "    }\n",
    "    df_blood = df_blood.rename(columns = col_dict)\n",
    "    # merge df_blood to df\n",
    "    df = pd.merge(df, df_blood, how='inner', on=['SEQN'])\n",
    "\n",
    "    df_bio = pd.read_sas('./NHANES 2013-2014/other NHANES/BIOPRO_'+i+'.XPT')\n",
    "    col_dict = {\n",
    "    'SEQN' : 'SEQN',\n",
    "    'LBDSALSI' : 'BIO_Albumin (g/L)',\n",
    "    #'LBXSAPSI' : 'BIO_Alkaline phosphatase (IU/L)',\n",
    "    'LBXSASSI' : 'BIO_Aspartate aminotransferase AST (IU/L)',\n",
    "    'LBXSATSI' : 'BIO_Alanine aminotransferase ALT (IU/L)',\n",
    "    'LBXSBU' : 'BIO_Blood urea nitrogen (mg/dL)',\n",
    "    'LBDSBUSI' : 'BIO_Blood urea nitrogen (mmol/L)',\n",
    "    'LBXSC3SI' : 'BIO_Bicarbonate (mmol/L)',\n",
    "    'LBDSCASI' : 'BIO_Total calcium (mmol/L)',\n",
    "    'LBDSCHSI' : 'BIO_Cholesterol (mmol/L)',\n",
    "    #'LBXSCK' : 'BIO_Creatine Phosphokinase(CPK) (IU/L)',\n",
    "    'LBXSCLSI' : 'BIO_Chloride (mmol/L)',\n",
    "    'LBDSCRSI' : 'BIO_Creatinine (umol/L)',\n",
    "    'LBDSGBSI' : 'BIO_Globulin (g/L)',\n",
    "    'LBDSGLSI' : 'BIO_Glucose, refrigerated serum (mmol/L)',\n",
    "    'LBXSGTSI' : 'BIO_Gamma glutamyl transferase (U/L)',\n",
    "    'LBDSIRSI' : 'BIO_Iron, refrigerated serum (umol/L)',\n",
    "    'LBXSKSI' : 'BIO_Potassium (mmol/L)',\n",
    "   # 'LBXSLDSI' : 'BIO_Lactate dehydrogenase (U/L)',\n",
    "    'LBXSNASI' : 'BIO_Sodium (mmol/L)',\n",
    "    'LBXSOSSI' : 'BIO_Osmolality (mmol/Kg)',\n",
    "    'LBDSPHSI' : 'BIO_Phosphorus (mmol/L)',\n",
    "    'LBDSTBSI' : 'BIO_Total bilirubin (umol/L)',\n",
    "    'LBDSTPSI' : 'BIO_Total protein (g/L)',\n",
    "    'LBDSTRSI' : 'BIO_Triglycerides, refrigerated (mmol/L)',\n",
    "    'LBDSUASI' : 'BIO_Uric acid (umol/L)'}\n",
    "    # select the columns i want to keep\n",
    "    df_bio = df_bio[list(col_dict.keys())].rename(columns=col_dict)\n",
    "    # merge df_bio with df\n",
    "    df = pd.merge(df, df_bio, how='inner', on=['SEQN'])\n",
    "    \n",
    "    df_final = df_final.append(df)"
   ]
  },
  {
   "cell_type": "code",
   "execution_count": 4,
   "metadata": {},
   "outputs": [
    {
     "data": {
      "text/plain": [
       "1    656\n",
       "Name: Breast Cancer, dtype: int64"
      ]
     },
     "execution_count": 4,
     "metadata": {},
     "output_type": "execute_result"
    }
   ],
   "source": [
    "df_final['Breast Cancer'].value_counts()"
   ]
  },
  {
   "cell_type": "markdown",
   "metadata": {},
   "source": [
    "# do the same for the other women"
   ]
  },
  {
   "cell_type": "code",
   "execution_count": 5,
   "metadata": {},
   "outputs": [],
   "source": [
    "for i in ['A']:    \n",
    "    df_demo= pd.read_sas('./NHANES 2013-2014/other NHANES/DEMO_'+i+'.XPT')\n",
    "    # selecting specific columns\n",
    "    # selecting gender: women SEQN and Age\n",
    "    df_demo = df_demo[(df_demo['RIAGENDR'] == 2 ) & (df_demo['RIDAGEYR'] > 10) ][['SEQN', 'RIDAGEYR']]\n",
    "    df_demo = df_demo.rename(columns={'RIDAGEYR': 'Age'})\n",
    "\n",
    "    df_med = pd.read_sas('./NHANES 2013-2014/other NHANES/MCQ_'+i+'.XPT')\n",
    "    # match only dose SEQN matching the one inf df_demo (seqn variable)\n",
    "    df_med = df_med.loc[df_med['SEQN'].isin(df_demo['SEQN'])]\n",
    "    df_med = df_med[['SEQN', 'MCQ230A', 'MCQ240E', 'MCQ220']]\n",
    "    # add column breast cancer 'Diagnosis' 1 no 0\n",
    "    df_med['Breast Cancer'] = np.where(df_med['MCQ230A'] == 14,1,0)\n",
    "\n",
    "    # subset to have women that were diagnosed with breast cancer \n",
    "    df_med = df_med[df_med['Breast Cancer'] == 0]\n",
    "    # changing the column name to diagnosis age and saving the dataset\n",
    "    df_med = df_med.rename(columns={'MCQ240E' : 'Diagnosis Age'})[['SEQN', 'Diagnosis Age', 'Breast Cancer']]\n",
    "    # merge df_med with df_demo\n",
    "    df = pd.merge(df_med, df_demo, on='SEQN', how='inner')\n",
    "\n",
    "\n",
    "    df_blood = pd.read_sas('./NHANES 2013-2014/other NHANES/CBC_'+i+'.XPT')\n",
    "    # subset to SEQN from df\n",
    "    df_blood = df_blood.loc[df_blood['SEQN'].isin(df['SEQN'])]\n",
    "    col_dict = {\n",
    "    'LBXWBCSI' : 'BL_White blood cell count (1000 cells/uL)',\n",
    "    'LBXLYPCT' : 'BL_Lymphocyte percent (%)',\n",
    "    'LBXMOPCT' : 'BL_Monocyte percent (%)',\n",
    "    'LBXNEPCT' : 'BL_Segmented neutrophils percent (%)',\n",
    "    'LBXEOPCT' : 'BL_Eosinophils percent (%)',\n",
    "    'LBXBAPCT' : 'BL_Basophils percent (%)',\n",
    "    'LBDLYMNO' : 'BL_Lymphocyte number (1000 cells/uL)',\n",
    "    'LBDMONO' : 'BL_Monocyte number (1000 cells/uL)',\n",
    "    'LBDNENO' : 'BL_Segmented neutrophils num (1000 cell/uL)',\n",
    "    'LBDEONO' : 'BL_Eosinophils number (1000 cells/uL)',\n",
    "    'LBDBANO' : 'BL_Basophils number (1000 cells/uL)',\n",
    "    'LBXRBCSI' : 'BL_Red blood cell count (million cells/uL)',\n",
    "    'LBXHGB' : 'BL_Hemoglobin (g/dL)',\n",
    "    'LBXHCT' : 'BL_Hematocrit (%)',\n",
    "    'LBXMCVSI' : 'BL_Mean cell volume (fL)',\n",
    " #   'LBXMCHSI' : 'BL_Mean cell hemoglobin (pg)',\n",
    " #   'LBXMC' : 'BL_MCHC (g/dL)',\n",
    "    'LBXRDW' : 'BL_Red cell distribution width (%)',\n",
    "    'LBXPLTSI' : 'BL_Platelet count (1000 cells/uL)',\n",
    "    'LBXMPSI' : 'BL_Mean platelet volume (fL)'\n",
    "    }\n",
    "    df_blood = df_blood.rename(columns = col_dict)\n",
    "    # merge df_blood to df\n",
    "    df = pd.merge(df, df_blood, how='inner', on=['SEQN'])\n",
    "\n",
    "    df_bio = pd.read_sas('./NHANES 2013-2014/other NHANES/BIOPRO_'+i+'.XPT')\n",
    "    col_dict = {\n",
    "    'SEQN' : 'SEQN',\n",
    "    'LBDSALSI' : 'BIO_Albumin (g/L)',\n",
    "    #'LBXSAPSI' : 'BIO_Alkaline phosphatase (IU/L)',\n",
    "    'LBXSASSI' : 'BIO_Aspartate aminotransferase AST (IU/L)',\n",
    "    'LBXSATSI' : 'BIO_Alanine aminotransferase ALT (IU/L)',\n",
    "    'LBXSBU' : 'BIO_Blood urea nitrogen (mg/dL)',\n",
    "    'LBDSBUSI' : 'BIO_Blood urea nitrogen (mmol/L)',\n",
    "    'LBXSC3SI' : 'BIO_Bicarbonate (mmol/L)',\n",
    "    'LBDSCASI' : 'BIO_Total calcium (mmol/L)',\n",
    "    'LBDSCHSI' : 'BIO_Cholesterol (mmol/L)',\n",
    "    #'LBXSCK' : 'BIO_Creatine Phosphokinase(CPK) (IU/L)',\n",
    "    'LBXSCLSI' : 'BIO_Chloride (mmol/L)',\n",
    "    'LBDSCRSI' : 'BIO_Creatinine (umol/L)',\n",
    "    'LBDSGBSI' : 'BIO_Globulin (g/L)',\n",
    "    'LBDSGLSI' : 'BIO_Glucose, refrigerated serum (mmol/L)',\n",
    "    'LBXSGTSI' : 'BIO_Gamma glutamyl transferase (U/L)',\n",
    "    'LBDSIRSI' : 'BIO_Iron, refrigerated serum (umol/L)',\n",
    "    'LBXSKSI' : 'BIO_Potassium (mmol/L)',\n",
    "   # 'LBXSLDSI' : 'BIO_Lactate dehydrogenase (U/L)',\n",
    "    'LBXSNASI' : 'BIO_Sodium (mmol/L)',\n",
    "    'LBXSOSSI' : 'BIO_Osmolality (mmol/Kg)',\n",
    "    'LBDSPHSI' : 'BIO_Phosphorus (mmol/L)',\n",
    "    'LBDSTBSI' : 'BIO_Total bilirubin (umol/L)',\n",
    "    'LBDSTPSI' : 'BIO_Total protein (g/L)',\n",
    "    'LBDSTRSI' : 'BIO_Triglycerides, refrigerated (mmol/L)',\n",
    "    'LBDSUASI' : 'BIO_Uric acid (umol/L)'}\n",
    "    # select the columns i want to keep\n",
    "    df_bio = df_bio[list(col_dict.keys())].rename(columns=col_dict)\n",
    "    # merge df_bio with df\n",
    "    df = pd.merge(df, df_bio, how='inner', on=['SEQN'])\n",
    "    \n",
    "    df_final_h = df.copy()"
   ]
  },
  {
   "cell_type": "code",
   "execution_count": 6,
   "metadata": {},
   "outputs": [],
   "source": [
    "for i in ['B','C','D','E','F','G','H','I']:    \n",
    "    df_demo= pd.read_sas('./NHANES 2013-2014/other NHANES/DEMO_'+i+'.XPT')\n",
    "\n",
    "    # selecting specific columns\n",
    "    # selecting gender: women SEQN and Age\n",
    "    df_demo = df_demo[(df_demo['RIAGENDR'] == 2 ) & (df_demo['RIDAGEYR'] > 10) ][['SEQN', 'RIDAGEYR']]\n",
    "    df_demo = df_demo.rename(columns={'RIDAGEYR': 'Age'})\n",
    "\n",
    "    df_med = pd.read_sas('./NHANES 2013-2014/other NHANES/MCQ_'+i+'.XPT')\n",
    "    # match only dose SEQN matching the one inf df_demo (seqn variable)\n",
    "    df_med = df_med.loc[df_med['SEQN'].isin(df_demo['SEQN'])]\n",
    "    df_med = df_med[['SEQN', 'MCQ230A', 'MCQ240E', 'MCQ220']]\n",
    "    # add column breast cancer 'Diagnosis' 1 no 0\n",
    "    df_med['Breast Cancer'] = np.where(df_med['MCQ230A'] == 14,1,0)\n",
    "\n",
    "    # subset to have women that were diagnosed with breast cancer \n",
    "    df_med = df_med[df_med['Breast Cancer'] == 0]\n",
    "    # changing the column name to diagnosis age and saving the dataset\n",
    "    df_med = df_med.rename(columns={'MCQ240E' : 'Diagnosis Age'})[['SEQN', 'Diagnosis Age', 'Breast Cancer']]\n",
    "    # merge df_med with df_demo\n",
    "    df = pd.merge(df_med, df_demo, on='SEQN', how='inner')\n",
    "    \n",
    "    \n",
    "    df_blood = pd.read_sas('./NHANES 2013-2014/other NHANES/CBC_'+i+'.XPT')\n",
    "    # subset to SEQN from df\n",
    "    df_blood = df_blood.loc[df_blood['SEQN'].isin(df['SEQN'])]\n",
    "    col_dict = {\n",
    "    'LBXWBCSI' : 'BL_White blood cell count (1000 cells/uL)',\n",
    "    'LBXLYPCT' : 'BL_Lymphocyte percent (%)',\n",
    "    'LBXMOPCT' : 'BL_Monocyte percent (%)',\n",
    "    'LBXNEPCT' : 'BL_Segmented neutrophils percent (%)',\n",
    "    'LBXEOPCT' : 'BL_Eosinophils percent (%)',\n",
    "    'LBXBAPCT' : 'BL_Basophils percent (%)',\n",
    "    'LBDLYMNO' : 'BL_Lymphocyte number (1000 cells/uL)',\n",
    "    'LBDMONO' : 'BL_Monocyte number (1000 cells/uL)',\n",
    "    'LBDNENO' : 'BL_Segmented neutrophils num (1000 cell/uL)',\n",
    "    'LBDEONO' : 'BL_Eosinophils number (1000 cells/uL)',\n",
    "    'LBDBANO' : 'BL_Basophils number (1000 cells/uL)',\n",
    "    'LBXRBCSI' : 'BL_Red blood cell count (million cells/uL)',\n",
    "    'LBXHGB' : 'BL_Hemoglobin (g/dL)',\n",
    "    'LBXHCT' : 'BL_Hematocrit (%)',\n",
    "    'LBXMCVSI' : 'BL_Mean cell volume (fL)',\n",
    " #   'LBXMCHSI' : 'BL_Mean cell hemoglobin (pg)',\n",
    " #   'LBXMC' : 'BL_MCHC (g/dL)',\n",
    "    'LBXRDW' : 'BL_Red cell distribution width (%)',\n",
    "    'LBXPLTSI' : 'BL_Platelet count (1000 cells/uL)',\n",
    "    'LBXMPSI' : 'BL_Mean platelet volume (fL)'\n",
    "    }\n",
    "    df_blood = df_blood.rename(columns = col_dict)\n",
    "    # merge df_blood to df\n",
    "    df = pd.merge(df, df_blood, how='inner', on=['SEQN'])\n",
    "\n",
    "    df_bio = pd.read_sas('./NHANES 2013-2014/other NHANES/BIOPRO_'+i+'.XPT')\n",
    "    col_dict = {\n",
    "    'SEQN' : 'SEQN',\n",
    "    'LBDSALSI' : 'BIO_Albumin (g/L)',\n",
    "    #'LBXSAPSI' : 'BIO_Alkaline phosphatase (IU/L)',\n",
    "    'LBXSASSI' : 'BIO_Aspartate aminotransferase AST (IU/L)',\n",
    "    'LBXSATSI' : 'BIO_Alanine aminotransferase ALT (IU/L)',\n",
    "    'LBXSBU' : 'BIO_Blood urea nitrogen (mg/dL)',\n",
    "    'LBDSBUSI' : 'BIO_Blood urea nitrogen (mmol/L)',\n",
    "    'LBXSC3SI' : 'BIO_Bicarbonate (mmol/L)',\n",
    "    'LBDSCASI' : 'BIO_Total calcium (mmol/L)',\n",
    "    'LBDSCHSI' : 'BIO_Cholesterol (mmol/L)',\n",
    "    #'LBXSCK' : 'BIO_Creatine Phosphokinase(CPK) (IU/L)',\n",
    "    'LBXSCLSI' : 'BIO_Chloride (mmol/L)',\n",
    "    'LBDSCRSI' : 'BIO_Creatinine (umol/L)',\n",
    "    'LBDSGBSI' : 'BIO_Globulin (g/L)',\n",
    "    'LBDSGLSI' : 'BIO_Glucose, refrigerated serum (mmol/L)',\n",
    "    'LBXSGTSI' : 'BIO_Gamma glutamyl transferase (U/L)',\n",
    "    'LBDSIRSI' : 'BIO_Iron, refrigerated serum (umol/L)',\n",
    "    'LBXSKSI' : 'BIO_Potassium (mmol/L)',\n",
    "   # 'LBXSLDSI' : 'BIO_Lactate dehydrogenase (U/L)',\n",
    "    'LBXSNASI' : 'BIO_Sodium (mmol/L)',\n",
    "    'LBXSOSSI' : 'BIO_Osmolality (mmol/Kg)',\n",
    "    'LBDSPHSI' : 'BIO_Phosphorus (mmol/L)',\n",
    "    'LBDSTBSI' : 'BIO_Total bilirubin (umol/L)',\n",
    "    'LBDSTPSI' : 'BIO_Total protein (g/L)',\n",
    "    'LBDSTRSI' : 'BIO_Triglycerides, refrigerated (mmol/L)',\n",
    "    'LBDSUASI' : 'BIO_Uric acid (umol/L)'}\n",
    "    # select the columns i want to keep\n",
    "    df_bio = df_bio[list(col_dict.keys())].rename(columns=col_dict)\n",
    "    # merge df_bio with df\n",
    "    df = pd.merge(df, df_bio, how='inner', on=['SEQN'])\n",
    "    \n",
    "    df_final_h = df_final_h.append(df)"
   ]
  },
  {
   "cell_type": "code",
   "execution_count": 7,
   "metadata": {},
   "outputs": [
    {
     "data": {
      "text/plain": [
       "0    31503\n",
       "Name: Breast Cancer, dtype: int64"
      ]
     },
     "execution_count": 7,
     "metadata": {},
     "output_type": "execute_result"
    }
   ],
   "source": [
    "df_final_h['Breast Cancer'].value_counts()"
   ]
  },
  {
   "cell_type": "code",
   "execution_count": 8,
   "metadata": {},
   "outputs": [],
   "source": [
    "df_final_final = df_final.append(df_final_h)"
   ]
  },
  {
   "cell_type": "code",
   "execution_count": 9,
   "metadata": {},
   "outputs": [
    {
     "data": {
      "text/plain": [
       "0    31503\n",
       "1      656\n",
       "Name: Breast Cancer, dtype: int64"
      ]
     },
     "execution_count": 9,
     "metadata": {},
     "output_type": "execute_result"
    }
   ],
   "source": [
    "df_final_final['Breast Cancer'].value_counts()"
   ]
  },
  {
   "cell_type": "markdown",
   "metadata": {},
   "source": [
    "# Clean up"
   ]
  },
  {
   "cell_type": "markdown",
   "metadata": {},
   "source": [
    "# create 2 subsets from women that were diagnosed. one for biochem one for blood "
   ]
  },
  {
   "cell_type": "code",
   "execution_count": 24,
   "metadata": {},
   "outputs": [],
   "source": [
    "df = df_final_final.copy()\n",
    "# clean column names\n",
    "df.columns = df.columns.str.lower().str.capitalize()\n",
    "#rename the Seqn column\n",
    "df = df.rename(columns={'Seqn':'Id'})"
   ]
  },
  {
   "cell_type": "markdown",
   "metadata": {},
   "source": [
    "# BIOCHEM"
   ]
  },
  {
   "cell_type": "code",
   "execution_count": 25,
   "metadata": {},
   "outputs": [],
   "source": [
    "# column names for subset BIO\n",
    "df_bio_col = ['Id', 'Age']\n",
    "for i in list(df.columns):\n",
    "    if i.startswith('Bio'):\n",
    "        df_bio_col.append(i)\n",
    "df_bio_col.append('Breast cancer')\n",
    "\n",
    "df_bio = df[df_bio_col]"
   ]
  },
  {
   "cell_type": "code",
   "execution_count": 26,
   "metadata": {},
   "outputs": [],
   "source": [
    "df_bio_bcancer = df_bio[df_bio['Breast cancer'] == 1]\n",
    "df_bio_nbcancer = df_bio[df_bio['Breast cancer'] == 0]"
   ]
  },
  {
   "cell_type": "code",
   "execution_count": 27,
   "metadata": {},
   "outputs": [
    {
     "data": {
      "text/plain": [
       "Id                                            0\n",
       "Age                                           0\n",
       "Bio_alanine aminotransferase alt (iu/l)      90\n",
       "Bio_albumin (g/l)                            90\n",
       "Bio_aspartate aminotransferase ast (iu/l)    90\n",
       "Bio_bicarbonate (mmol/l)                     90\n",
       "Bio_blood urea nitrogen (mg/dl)              90\n",
       "Bio_blood urea nitrogen (mmol/l)             90\n",
       "Bio_chloride (mmol/l)                        90\n",
       "Bio_cholesterol (mmol/l)                     90\n",
       "Bio_creatinine (umol/l)                      90\n",
       "Bio_gamma glutamyl transferase (u/l)         90\n",
       "Bio_globulin (g/l)                           90\n",
       "Bio_glucose, refrigerated serum (mmol/l)     90\n",
       "Bio_iron, refrigerated serum (umol/l)        90\n",
       "Bio_osmolality (mmol/kg)                     90\n",
       "Bio_phosphorus (mmol/l)                      90\n",
       "Bio_potassium (mmol/l)                       90\n",
       "Bio_sodium (mmol/l)                          90\n",
       "Bio_total bilirubin (umol/l)                 90\n",
       "Bio_total calcium (mmol/l)                   90\n",
       "Bio_total protein (g/l)                      90\n",
       "Bio_triglycerides, refrigerated (mmol/l)     90\n",
       "Bio_uric acid (umol/l)                       90\n",
       "Breast cancer                                 0\n",
       "dtype: int64"
      ]
     },
     "execution_count": 27,
     "metadata": {},
     "output_type": "execute_result"
    }
   ],
   "source": [
    "df_bio_bcancer.isna().sum()"
   ]
  },
  {
   "cell_type": "code",
   "execution_count": 28,
   "metadata": {},
   "outputs": [],
   "source": [
    "# there are 90 values missing from many columns, lets just drop them\n",
    "df_bio_bcancer = df_bio_bcancer.dropna(thresh=20)"
   ]
  },
  {
   "cell_type": "code",
   "execution_count": 29,
   "metadata": {},
   "outputs": [
    {
     "name": "stdout",
     "output_type": "stream",
     "text": [
      "<class 'pandas.core.frame.DataFrame'>\n",
      "Int64Index: 566 entries, 1 to 81\n",
      "Data columns (total 25 columns):\n",
      "Id                                           566 non-null float64\n",
      "Age                                          566 non-null float64\n",
      "Bio_alanine aminotransferase alt (iu/l)      566 non-null float64\n",
      "Bio_albumin (g/l)                            566 non-null float64\n",
      "Bio_aspartate aminotransferase ast (iu/l)    566 non-null float64\n",
      "Bio_bicarbonate (mmol/l)                     566 non-null float64\n",
      "Bio_blood urea nitrogen (mg/dl)              566 non-null float64\n",
      "Bio_blood urea nitrogen (mmol/l)             566 non-null float64\n",
      "Bio_chloride (mmol/l)                        566 non-null float64\n",
      "Bio_cholesterol (mmol/l)                     566 non-null float64\n",
      "Bio_creatinine (umol/l)                      566 non-null float64\n",
      "Bio_gamma glutamyl transferase (u/l)         566 non-null float64\n",
      "Bio_globulin (g/l)                           566 non-null float64\n",
      "Bio_glucose, refrigerated serum (mmol/l)     566 non-null float64\n",
      "Bio_iron, refrigerated serum (umol/l)        566 non-null float64\n",
      "Bio_osmolality (mmol/kg)                     566 non-null float64\n",
      "Bio_phosphorus (mmol/l)                      566 non-null float64\n",
      "Bio_potassium (mmol/l)                       566 non-null float64\n",
      "Bio_sodium (mmol/l)                          566 non-null float64\n",
      "Bio_total bilirubin (umol/l)                 566 non-null float64\n",
      "Bio_total calcium (mmol/l)                   566 non-null float64\n",
      "Bio_total protein (g/l)                      566 non-null float64\n",
      "Bio_triglycerides, refrigerated (mmol/l)     566 non-null float64\n",
      "Bio_uric acid (umol/l)                       566 non-null float64\n",
      "Breast cancer                                566 non-null int64\n",
      "dtypes: float64(24), int64(1)\n",
      "memory usage: 115.0 KB\n"
     ]
    }
   ],
   "source": [
    "df_bio_bcancer.info()"
   ]
  },
  {
   "cell_type": "code",
   "execution_count": 30,
   "metadata": {},
   "outputs": [],
   "source": [
    "# remove the NaNs from the set without breast cancer\n",
    "df_bio_nbcancer = df_bio_nbcancer.dropna(thresh=20)\n",
    "# there are 566 entries, subset random 566 from the women that were not diangosed\n",
    "df_bio_nbcancer = df_bio_nbcancer.sample(n=566)"
   ]
  },
  {
   "cell_type": "markdown",
   "metadata": {},
   "source": [
    "# same for blood"
   ]
  },
  {
   "cell_type": "code",
   "execution_count": 31,
   "metadata": {},
   "outputs": [],
   "source": [
    "# column names for subset BL ( blood )\n",
    "df_bl_col = ['Id', 'Age']\n",
    "for i in list(df.columns):\n",
    "    if i.startswith('Bl'):\n",
    "        df_bl_col.append(i)\n",
    "df_bl_col.append('Breast cancer')\n",
    "\n",
    "df_bl = df[df_bl_col]"
   ]
  },
  {
   "cell_type": "code",
   "execution_count": 32,
   "metadata": {},
   "outputs": [],
   "source": [
    "df_bl_bcancer = df_bl[df_bl['Breast cancer'] == 1]\n",
    "df_bl_nbcancer = df_bl[df_bl['Breast cancer'] == 0]"
   ]
  },
  {
   "cell_type": "code",
   "execution_count": 33,
   "metadata": {},
   "outputs": [
    {
     "data": {
      "text/plain": [
       "Id                                              0\n",
       "Age                                             0\n",
       "Bl_basophils number (1000 cells/ul)            73\n",
       "Bl_basophils percent (%)                       73\n",
       "Bl_eosinophils number (1000 cells/ul)          73\n",
       "Bl_eosinophils percent (%)                     73\n",
       "Bl_hematocrit (%)                              69\n",
       "Bl_hemoglobin (g/dl)                           69\n",
       "Bl_lymphocyte number (1000 cells/ul)           73\n",
       "Bl_lymphocyte percent (%)                      73\n",
       "Bl_mean cell volume (fl)                       69\n",
       "Bl_mean platelet volume (fl)                   69\n",
       "Bl_monocyte number (1000 cells/ul)             73\n",
       "Bl_monocyte percent (%)                        73\n",
       "Bl_platelet count (1000 cells/ul)              69\n",
       "Bl_red blood cell count (million cells/ul)     69\n",
       "Bl_red cell distribution width (%)             69\n",
       "Bl_segmented neutrophils num (1000 cell/ul)    73\n",
       "Bl_segmented neutrophils percent (%)           73\n",
       "Bl_white blood cell count (1000 cells/ul)      69\n",
       "Breast cancer                                   0\n",
       "dtype: int64"
      ]
     },
     "execution_count": 33,
     "metadata": {},
     "output_type": "execute_result"
    }
   ],
   "source": [
    "df_bl_bcancer.isna().sum()"
   ]
  },
  {
   "cell_type": "code",
   "execution_count": 34,
   "metadata": {},
   "outputs": [],
   "source": [
    "# many missing values\n",
    "df_bl_bcancer = df_bl_bcancer.dropna(thresh=20)\n"
   ]
  },
  {
   "cell_type": "code",
   "execution_count": 35,
   "metadata": {},
   "outputs": [
    {
     "name": "stdout",
     "output_type": "stream",
     "text": [
      "<class 'pandas.core.frame.DataFrame'>\n",
      "Int64Index: 583 entries, 1 to 81\n",
      "Data columns (total 21 columns):\n",
      "Id                                             583 non-null float64\n",
      "Age                                            583 non-null float64\n",
      "Bl_basophils number (1000 cells/ul)            583 non-null float64\n",
      "Bl_basophils percent (%)                       583 non-null float64\n",
      "Bl_eosinophils number (1000 cells/ul)          583 non-null float64\n",
      "Bl_eosinophils percent (%)                     583 non-null float64\n",
      "Bl_hematocrit (%)                              583 non-null float64\n",
      "Bl_hemoglobin (g/dl)                           583 non-null float64\n",
      "Bl_lymphocyte number (1000 cells/ul)           583 non-null float64\n",
      "Bl_lymphocyte percent (%)                      583 non-null float64\n",
      "Bl_mean cell volume (fl)                       583 non-null float64\n",
      "Bl_mean platelet volume (fl)                   583 non-null float64\n",
      "Bl_monocyte number (1000 cells/ul)             583 non-null float64\n",
      "Bl_monocyte percent (%)                        583 non-null float64\n",
      "Bl_platelet count (1000 cells/ul)              583 non-null float64\n",
      "Bl_red blood cell count (million cells/ul)     583 non-null float64\n",
      "Bl_red cell distribution width (%)             583 non-null float64\n",
      "Bl_segmented neutrophils num (1000 cell/ul)    583 non-null float64\n",
      "Bl_segmented neutrophils percent (%)           583 non-null float64\n",
      "Bl_white blood cell count (1000 cells/ul)      583 non-null float64\n",
      "Breast cancer                                  583 non-null int64\n",
      "dtypes: float64(20), int64(1)\n",
      "memory usage: 100.2 KB\n"
     ]
    }
   ],
   "source": [
    "df_bl_bcancer.info()"
   ]
  },
  {
   "cell_type": "code",
   "execution_count": 36,
   "metadata": {},
   "outputs": [],
   "source": [
    "# remove the NaNs from the set without breast cancer\n",
    "df_bl_nbcancer = df_bl_nbcancer.dropna(thresh=20)\n",
    "\n",
    "# there are 583 entries, subset random 583 from the women that were not diagnosed\n",
    "df_bl_nbcancer = df_bl_nbcancer.sample(n=583)"
   ]
  },
  {
   "cell_type": "code",
   "execution_count": 37,
   "metadata": {},
   "outputs": [
    {
     "data": {
      "text/plain": [
       "Id                                             0\n",
       "Age                                            0\n",
       "Bl_basophils number (1000 cells/ul)            0\n",
       "Bl_basophils percent (%)                       0\n",
       "Bl_eosinophils number (1000 cells/ul)          0\n",
       "Bl_eosinophils percent (%)                     0\n",
       "Bl_hematocrit (%)                              0\n",
       "Bl_hemoglobin (g/dl)                           0\n",
       "Bl_lymphocyte number (1000 cells/ul)           0\n",
       "Bl_lymphocyte percent (%)                      0\n",
       "Bl_mean cell volume (fl)                       0\n",
       "Bl_mean platelet volume (fl)                   0\n",
       "Bl_monocyte number (1000 cells/ul)             0\n",
       "Bl_monocyte percent (%)                        0\n",
       "Bl_platelet count (1000 cells/ul)              0\n",
       "Bl_red blood cell count (million cells/ul)     0\n",
       "Bl_red cell distribution width (%)             0\n",
       "Bl_segmented neutrophils num (1000 cell/ul)    0\n",
       "Bl_segmented neutrophils percent (%)           0\n",
       "Bl_white blood cell count (1000 cells/ul)      0\n",
       "Breast cancer                                  0\n",
       "dtype: int64"
      ]
     },
     "execution_count": 37,
     "metadata": {},
     "output_type": "execute_result"
    }
   ],
   "source": [
    "df_bl_nbcancer.isna().sum()"
   ]
  },
  {
   "cell_type": "code",
   "execution_count": 41,
   "metadata": {},
   "outputs": [
    {
     "data": {
      "text/plain": [
       "(0, 0)"
      ]
     },
     "execution_count": 41,
     "metadata": {},
     "output_type": "execute_result"
    }
   ],
   "source": [
    "# check for duplicates\n",
    "df_bl.duplicated().sum() , df_bio.duplicated().sum()"
   ]
  },
  {
   "cell_type": "code",
   "execution_count": null,
   "metadata": {},
   "outputs": [],
   "source": [
    "# create final datasets\n",
    "df_bl = df_bl_nbcancer.append(df_bl_bcancer).sort_values(by=['Id'])\n",
    "df_bl.to_csv('nhanes_breast_cancer_all_nhanes_blood.csv', index=False)\n",
    "df_bio = df_bio_nbcancer.append(df_bio_bcancer).sort_values(by=['Id'])\n",
    "df_bio.to_csv('nhanes_breast_cancer_all_nhanes_biochemistry.csv', index=False)"
   ]
  }
 ],
 "metadata": {
  "kernelspec": {
   "display_name": "Python 3",
   "language": "python",
   "name": "python3"
  },
  "language_info": {
   "codemirror_mode": {
    "name": "ipython",
    "version": 3
   },
   "file_extension": ".py",
   "mimetype": "text/x-python",
   "name": "python",
   "nbconvert_exporter": "python",
   "pygments_lexer": "ipython3",
   "version": "3.7.4"
  }
 },
 "nbformat": 4,
 "nbformat_minor": 2
}
