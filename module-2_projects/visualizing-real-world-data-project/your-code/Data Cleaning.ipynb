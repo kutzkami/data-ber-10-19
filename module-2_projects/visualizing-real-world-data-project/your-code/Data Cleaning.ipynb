{
 "cells": [
  {
   "cell_type": "markdown",
   "metadata": {},
   "source": [
    "# <center> Project: Visualizing Real World Data  </center>\n",
    "\n",
    "##  <center> Health decline in post-Soviet Union countries in relation to nutrition, smoking and alcohol consumption </center>\n",
    "\n",
    "###  <center> Data cleaning </center>\n",
    "\n",
    "###### <center> Kamila Kutz-Cerri, Ironhack Data Analytics Bootcamp, Berlin, Autumn 2019 </center>"
   ]
  },
  {
   "cell_type": "markdown",
   "metadata": {},
   "source": [
    "#### Importing modules"
   ]
  },
  {
   "cell_type": "code",
   "execution_count": 1,
   "metadata": {},
   "outputs": [],
   "source": [
    "import pandas as pd\n",
    "import numpy as np"
   ]
  },
  {
   "cell_type": "markdown",
   "metadata": {},
   "source": [
    "#####   Loading the data \n",
    "source: http://www.euro.who.int/en/data-and-evidence/archive/european-health-for-all-database-hfa-db"
   ]
  },
  {
   "cell_type": "code",
   "execution_count": 2,
   "metadata": {},
   "outputs": [
    {
     "name": "stderr",
     "output_type": "stream",
     "text": [
      "/usr/local/Cellar/ipython/7.8.0/libexec/lib/python3.7/site-packages/IPython/core/interactiveshell.py:3058: DtypeWarning: Columns (2,3) have mixed types. Specify dtype option on import or set low_memory=False.\n",
      "  interactivity=interactivity, compiler=compiler, result=result)\n"
     ]
    }
   ],
   "source": [
    "hfa_1 = pd.read_csv('HFA Data (table) part 1.csv')\n",
    "hfa_2 = pd.read_csv('HFA Data (table) part 2.csv')\n",
    "hfa_3 = pd.read_csv('HFA Data (table) part 3.csv')"
   ]
  },
  {
   "cell_type": "code",
   "execution_count": 3,
   "metadata": {},
   "outputs": [
    {
     "name": "stdout",
     "output_type": "stream",
     "text": [
      "<class 'pandas.core.frame.DataFrame'>\n",
      "RangeIndex: 499936 entries, 0 to 499935\n",
      "Data columns (total 5 columns):\n",
      "Measure code      499936 non-null object\n",
      "SEX               499936 non-null object\n",
      "COUNTRY_REGION    499936 non-null object\n",
      "YEAR              499936 non-null int64\n",
      "VALUE             499936 non-null float64\n",
      "dtypes: float64(1), int64(1), object(3)\n",
      "memory usage: 19.1+ MB\n"
     ]
    }
   ],
   "source": [
    "hfa_1.info()"
   ]
  },
  {
   "cell_type": "code",
   "execution_count": 4,
   "metadata": {},
   "outputs": [
    {
     "data": {
      "text/plain": [
       "count     499936\n",
       "unique       168\n",
       "top       HFA_19\n",
       "freq        8749\n",
       "Name: Measure code, dtype: object"
      ]
     },
     "execution_count": 4,
     "metadata": {},
     "output_type": "execute_result"
    }
   ],
   "source": [
    "hfa_1['Measure code'].describe()"
   ]
  },
  {
   "cell_type": "markdown",
   "metadata": {},
   "source": [
    "- The column 'Measure code' refers to a specific parameter that was was measured but there is no description of the parameter. It's necessary to load another dataset"
   ]
  },
  {
   "cell_type": "code",
   "execution_count": 5,
   "metadata": {},
   "outputs": [],
   "source": [
    "df_label = pd.read_excel('HFA Metadata.xlsx', sheet_name='Labels', header =1)"
   ]
  },
  {
   "cell_type": "code",
   "execution_count": 6,
   "metadata": {},
   "outputs": [
    {
     "data": {
      "text/html": [
       "<div>\n",
       "<style scoped>\n",
       "    .dataframe tbody tr th:only-of-type {\n",
       "        vertical-align: middle;\n",
       "    }\n",
       "\n",
       "    .dataframe tbody tr th {\n",
       "        vertical-align: top;\n",
       "    }\n",
       "\n",
       "    .dataframe thead th {\n",
       "        text-align: right;\n",
       "    }\n",
       "</style>\n",
       "<table border=\"1\" class=\"dataframe\">\n",
       "  <thead>\n",
       "    <tr style=\"text-align: right;\">\n",
       "      <th></th>\n",
       "      <th>Code</th>\n",
       "      <th>Label</th>\n",
       "      <th>Unnamed: 2</th>\n",
       "    </tr>\n",
       "  </thead>\n",
       "  <tbody>\n",
       "    <tr>\n",
       "      <td>0</td>\n",
       "      <td>HFA_1</td>\n",
       "      <td>Mid-year population, by sex</td>\n",
       "      <td>NaN</td>\n",
       "    </tr>\n",
       "    <tr>\n",
       "      <td>1</td>\n",
       "      <td>HFA_2</td>\n",
       "      <td>Mid-year male population</td>\n",
       "      <td>NaN</td>\n",
       "    </tr>\n",
       "    <tr>\n",
       "      <td>2</td>\n",
       "      <td>HFA_3</td>\n",
       "      <td>Mid-year female population</td>\n",
       "      <td>NaN</td>\n",
       "    </tr>\n",
       "    <tr>\n",
       "      <td>3</td>\n",
       "      <td>HFA_10</td>\n",
       "      <td>% of population aged 0–14 years, by sex</td>\n",
       "      <td>NaN</td>\n",
       "    </tr>\n",
       "    <tr>\n",
       "      <td>4</td>\n",
       "      <td>HFA_11</td>\n",
       "      <td>% of population aged 0–14 years, males</td>\n",
       "      <td>NaN</td>\n",
       "    </tr>\n",
       "    <tr>\n",
       "      <td>...</td>\n",
       "      <td>...</td>\n",
       "      <td>...</td>\n",
       "      <td>...</td>\n",
       "    </tr>\n",
       "    <tr>\n",
       "      <td>703</td>\n",
       "      <td>YES_NO_UNK</td>\n",
       "      <td>YES</td>\n",
       "      <td>Yes</td>\n",
       "    </tr>\n",
       "    <tr>\n",
       "      <td>704</td>\n",
       "      <td>YES_NO_UNK</td>\n",
       "      <td>NO</td>\n",
       "      <td>No</td>\n",
       "    </tr>\n",
       "    <tr>\n",
       "      <td>705</td>\n",
       "      <td>YES_NO_UNK</td>\n",
       "      <td>UNK</td>\n",
       "      <td>Unknown</td>\n",
       "    </tr>\n",
       "    <tr>\n",
       "      <td>706</td>\n",
       "      <td>YES_NO_UNK</td>\n",
       "      <td>NORESP</td>\n",
       "      <td>No response</td>\n",
       "    </tr>\n",
       "    <tr>\n",
       "      <td>707</td>\n",
       "      <td>YES_NO_UNK</td>\n",
       "      <td>DNP</td>\n",
       "      <td>Did not participate in survey</td>\n",
       "    </tr>\n",
       "  </tbody>\n",
       "</table>\n",
       "<p>708 rows × 3 columns</p>\n",
       "</div>"
      ],
      "text/plain": [
       "           Code                                    Label  \\\n",
       "0         HFA_1              Mid-year population, by sex   \n",
       "1         HFA_2                 Mid-year male population   \n",
       "2         HFA_3               Mid-year female population   \n",
       "3        HFA_10  % of population aged 0–14 years, by sex   \n",
       "4        HFA_11   % of population aged 0–14 years, males   \n",
       "..          ...                                      ...   \n",
       "703  YES_NO_UNK                                      YES   \n",
       "704  YES_NO_UNK                                       NO   \n",
       "705  YES_NO_UNK                                      UNK   \n",
       "706  YES_NO_UNK                                   NORESP   \n",
       "707  YES_NO_UNK                                      DNP   \n",
       "\n",
       "                        Unnamed: 2  \n",
       "0                              NaN  \n",
       "1                              NaN  \n",
       "2                              NaN  \n",
       "3                              NaN  \n",
       "4                              NaN  \n",
       "..                             ...  \n",
       "703                            Yes  \n",
       "704                             No  \n",
       "705                        Unknown  \n",
       "706                    No response  \n",
       "707  Did not participate in survey  \n",
       "\n",
       "[708 rows x 3 columns]"
      ]
     },
     "execution_count": 6,
     "metadata": {},
     "output_type": "execute_result"
    }
   ],
   "source": [
    "df_label"
   ]
  },
  {
   "cell_type": "markdown",
   "metadata": {},
   "source": [
    "##### Setting the 'Code' column as an index"
   ]
  },
  {
   "cell_type": "code",
   "execution_count": 7,
   "metadata": {},
   "outputs": [],
   "source": [
    "df_label = df_label.set_index('Code')"
   ]
  },
  {
   "cell_type": "code",
   "execution_count": 8,
   "metadata": {},
   "outputs": [
    {
     "name": "stdout",
     "output_type": "stream",
     "text": [
      "<class 'pandas.core.frame.DataFrame'>\n",
      "Index: 708 entries, HFA_1 to YES_NO_UNK\n",
      "Data columns (total 2 columns):\n",
      "Label         694 non-null object\n",
      "Unnamed: 2    19 non-null object\n",
      "dtypes: object(2)\n",
      "memory usage: 16.6+ KB\n"
     ]
    }
   ],
   "source": [
    "df_label.info()"
   ]
  },
  {
   "cell_type": "markdown",
   "metadata": {},
   "source": [
    "### Merge all csvs into one dataframe"
   ]
  },
  {
   "cell_type": "code",
   "execution_count": 9,
   "metadata": {},
   "outputs": [],
   "source": [
    "df = hfa_1.append(hfa_2, sort=False).append(hfa_3, sort=False)"
   ]
  },
  {
   "cell_type": "code",
   "execution_count": 10,
   "metadata": {},
   "outputs": [
    {
     "data": {
      "text/plain": [
       "Index(['Measure code', 'SEX', 'COUNTRY_REGION', 'YEAR', 'VALUE',\n",
       "       'PLACE_RESIDENCE', 'YES_NO'],\n",
       "      dtype='object')"
      ]
     },
     "execution_count": 10,
     "metadata": {},
     "output_type": "execute_result"
    }
   ],
   "source": [
    "df.columns"
   ]
  },
  {
   "cell_type": "markdown",
   "metadata": {},
   "source": [
    "### Add description of the 'Measure code'"
   ]
  },
  {
   "cell_type": "code",
   "execution_count": 11,
   "metadata": {},
   "outputs": [],
   "source": [
    "vals_to_replace = df_label['Label'].to_dict()\n",
    "df['description'] = df['Measure code'].map(vals_to_replace)"
   ]
  },
  {
   "cell_type": "code",
   "execution_count": 12,
   "metadata": {},
   "outputs": [
    {
     "data": {
      "text/html": [
       "<div>\n",
       "<style scoped>\n",
       "    .dataframe tbody tr th:only-of-type {\n",
       "        vertical-align: middle;\n",
       "    }\n",
       "\n",
       "    .dataframe tbody tr th {\n",
       "        vertical-align: top;\n",
       "    }\n",
       "\n",
       "    .dataframe thead th {\n",
       "        text-align: right;\n",
       "    }\n",
       "</style>\n",
       "<table border=\"1\" class=\"dataframe\">\n",
       "  <thead>\n",
       "    <tr style=\"text-align: right;\">\n",
       "      <th></th>\n",
       "      <th>Measure code</th>\n",
       "      <th>SEX</th>\n",
       "      <th>COUNTRY_REGION</th>\n",
       "      <th>YEAR</th>\n",
       "      <th>VALUE</th>\n",
       "      <th>PLACE_RESIDENCE</th>\n",
       "      <th>YES_NO</th>\n",
       "      <th>description</th>\n",
       "    </tr>\n",
       "  </thead>\n",
       "  <tbody>\n",
       "    <tr>\n",
       "      <td>0</td>\n",
       "      <td>HFA_1</td>\n",
       "      <td>ALL</td>\n",
       "      <td>ALB</td>\n",
       "      <td>1970.0</td>\n",
       "      <td>2138000.0</td>\n",
       "      <td>NaN</td>\n",
       "      <td>NaN</td>\n",
       "      <td>Mid-year population, by sex</td>\n",
       "    </tr>\n",
       "    <tr>\n",
       "      <td>1</td>\n",
       "      <td>HFA_1</td>\n",
       "      <td>ALL</td>\n",
       "      <td>ALB</td>\n",
       "      <td>1971.0</td>\n",
       "      <td>2195600.0</td>\n",
       "      <td>NaN</td>\n",
       "      <td>NaN</td>\n",
       "      <td>Mid-year population, by sex</td>\n",
       "    </tr>\n",
       "    <tr>\n",
       "      <td>2</td>\n",
       "      <td>HFA_1</td>\n",
       "      <td>ALL</td>\n",
       "      <td>ALB</td>\n",
       "      <td>1972.0</td>\n",
       "      <td>2253200.0</td>\n",
       "      <td>NaN</td>\n",
       "      <td>NaN</td>\n",
       "      <td>Mid-year population, by sex</td>\n",
       "    </tr>\n",
       "    <tr>\n",
       "      <td>3</td>\n",
       "      <td>HFA_1</td>\n",
       "      <td>ALL</td>\n",
       "      <td>ALB</td>\n",
       "      <td>1973.0</td>\n",
       "      <td>2310800.0</td>\n",
       "      <td>NaN</td>\n",
       "      <td>NaN</td>\n",
       "      <td>Mid-year population, by sex</td>\n",
       "    </tr>\n",
       "    <tr>\n",
       "      <td>4</td>\n",
       "      <td>HFA_1</td>\n",
       "      <td>ALL</td>\n",
       "      <td>ALB</td>\n",
       "      <td>1974.0</td>\n",
       "      <td>2368400.0</td>\n",
       "      <td>NaN</td>\n",
       "      <td>NaN</td>\n",
       "      <td>Mid-year population, by sex</td>\n",
       "    </tr>\n",
       "  </tbody>\n",
       "</table>\n",
       "</div>"
      ],
      "text/plain": [
       "  Measure code  SEX COUNTRY_REGION    YEAR      VALUE PLACE_RESIDENCE YES_NO  \\\n",
       "0        HFA_1  ALL            ALB  1970.0  2138000.0             NaN    NaN   \n",
       "1        HFA_1  ALL            ALB  1971.0  2195600.0             NaN    NaN   \n",
       "2        HFA_1  ALL            ALB  1972.0  2253200.0             NaN    NaN   \n",
       "3        HFA_1  ALL            ALB  1973.0  2310800.0             NaN    NaN   \n",
       "4        HFA_1  ALL            ALB  1974.0  2368400.0             NaN    NaN   \n",
       "\n",
       "                   description  \n",
       "0  Mid-year population, by sex  \n",
       "1  Mid-year population, by sex  \n",
       "2  Mid-year population, by sex  \n",
       "3  Mid-year population, by sex  \n",
       "4  Mid-year population, by sex  "
      ]
     },
     "execution_count": 12,
     "metadata": {},
     "output_type": "execute_result"
    }
   ],
   "source": [
    "df.head()"
   ]
  },
  {
   "cell_type": "markdown",
   "metadata": {},
   "source": [
    "### Clean column names"
   ]
  },
  {
   "cell_type": "code",
   "execution_count": 13,
   "metadata": {},
   "outputs": [],
   "source": [
    "df.columns = df.columns.str.replace('Measure' ,'').str.replace('_REGION', '').str.strip()\n",
    "df.columns = df.columns.str.replace('_',' ').str.lower()"
   ]
  },
  {
   "cell_type": "code",
   "execution_count": 15,
   "metadata": {},
   "outputs": [
    {
     "name": "stdout",
     "output_type": "stream",
     "text": [
      "<class 'pandas.core.frame.DataFrame'>\n",
      "Int64Index: 1374762 entries, 0 to 377457\n",
      "Data columns (total 8 columns):\n",
      "code               1374762 non-null object\n",
      "sex                1374709 non-null object\n",
      "country            1374762 non-null object\n",
      "year               1374709 non-null float64\n",
      "value              1374762 non-null float64\n",
      "place residence    9208 non-null object\n",
      "yes no             53 non-null object\n",
      "description        1374762 non-null object\n",
      "dtypes: float64(2), object(6)\n",
      "memory usage: 94.4+ MB\n"
     ]
    }
   ],
   "source": [
    "df.info()"
   ]
  },
  {
   "cell_type": "markdown",
   "metadata": {},
   "source": [
    "- Some columns have many missing values. Checking which 'measure codes' have information about 'yes no' and 'place residence'"
   ]
  },
  {
   "cell_type": "code",
   "execution_count": 18,
   "metadata": {},
   "outputs": [
    {
     "data": {
      "text/plain": [
       "(array(['HFA_633'], dtype=object),\n",
       " array(['WHO Member States participating in the European Health Information Initiative (EHII)'],\n",
       "       dtype=object))"
      ]
     },
     "execution_count": 18,
     "metadata": {},
     "output_type": "execute_result"
    }
   ],
   "source": [
    "(df.loc[~df['yes no'].isna()]['code'].unique(),\n",
    " df.loc[~df['yes no'].isna()]['description'].unique())"
   ]
  },
  {
   "cell_type": "code",
   "execution_count": 19,
   "metadata": {},
   "outputs": [
    {
     "data": {
      "text/plain": [
       "(array(['HFA_463', 'HFA_466'], dtype=object),\n",
       " array(['% population with homes connected to water supply system, by place of residence',\n",
       "        '% population with access to sewage system, septic tank or other hygienic means of sewage disposal, by place of residence'],\n",
       "       dtype=object))"
      ]
     },
     "execution_count": 19,
     "metadata": {},
     "output_type": "execute_result"
    }
   ],
   "source": [
    "(df.loc[~df['place residence'].isna()]['code'].unique(),\n",
    " df.loc[~df['place residence'].isna()]['description'].unique())"
   ]
  },
  {
   "cell_type": "markdown",
   "metadata": {},
   "source": [
    "- 'HFA_633', 'HFA_463' and 'HFA_466' contain information not important for this analaysis. They will be excluded from the dataframe"
   ]
  },
  {
   "cell_type": "code",
   "execution_count": 21,
   "metadata": {},
   "outputs": [],
   "source": [
    "df = df.loc[~df['code'].isin(['HFA_463', 'HFA_466', 'HFA_633'])]"
   ]
  },
  {
   "cell_type": "code",
   "execution_count": 22,
   "metadata": {},
   "outputs": [
    {
     "name": "stdout",
     "output_type": "stream",
     "text": [
      "<class 'pandas.core.frame.DataFrame'>\n",
      "Int64Index: 1365501 entries, 0 to 377404\n",
      "Data columns (total 8 columns):\n",
      "code               1365501 non-null object\n",
      "sex                1365501 non-null object\n",
      "country            1365501 non-null object\n",
      "year               1365501 non-null float64\n",
      "value              1365501 non-null float64\n",
      "place residence    0 non-null object\n",
      "yes no             0 non-null object\n",
      "description        1365501 non-null object\n",
      "dtypes: float64(2), object(6)\n",
      "memory usage: 93.8+ MB\n"
     ]
    }
   ],
   "source": [
    "df.info()"
   ]
  },
  {
   "cell_type": "markdown",
   "metadata": {},
   "source": [
    "### Deleting columns with NaNs: 'place residence' and 'yes no'"
   ]
  },
  {
   "cell_type": "code",
   "execution_count": 23,
   "metadata": {},
   "outputs": [
    {
     "name": "stdout",
     "output_type": "stream",
     "text": [
      "<class 'pandas.core.frame.DataFrame'>\n",
      "Int64Index: 1365501 entries, 0 to 377404\n",
      "Data columns (total 6 columns):\n",
      "code           1365501 non-null object\n",
      "sex            1365501 non-null object\n",
      "country        1365501 non-null object\n",
      "year           1365501 non-null float64\n",
      "value          1365501 non-null float64\n",
      "description    1365501 non-null object\n",
      "dtypes: float64(2), object(4)\n",
      "memory usage: 72.9+ MB\n"
     ]
    }
   ],
   "source": [
    "df = df.dropna(axis=1)\n",
    "df.info()"
   ]
  },
  {
   "cell_type": "markdown",
   "metadata": {},
   "source": [
    "### Checking if there are any duplicated columns"
   ]
  },
  {
   "cell_type": "code",
   "execution_count": 24,
   "metadata": {},
   "outputs": [
    {
     "data": {
      "text/plain": [
       "False    1365501\n",
       "dtype: int64"
      ]
     },
     "execution_count": 24,
     "metadata": {},
     "output_type": "execute_result"
    }
   ],
   "source": [
    "df.duplicated().value_counts()"
   ]
  },
  {
   "cell_type": "markdown",
   "metadata": {},
   "source": [
    "### Convert 'year' into float"
   ]
  },
  {
   "cell_type": "code",
   "execution_count": 25,
   "metadata": {},
   "outputs": [],
   "source": [
    "df['year'] = df['year'].astype(int)"
   ]
  },
  {
   "cell_type": "markdown",
   "metadata": {},
   "source": [
    "### Check country names and country groups"
   ]
  },
  {
   "cell_type": "code",
   "execution_count": 27,
   "metadata": {},
   "outputs": [
    {
     "data": {
      "text/plain": [
       "array(['ALB', 'ISL', 'BGR', 'GEO', 'IRL', 'ARM', 'AUT', 'MLT', 'MCO',\n",
       "       'GBR', 'MKD', 'HUN', 'FIN', 'AND', 'UKR', 'BEL', 'AZE', 'BIH',\n",
       "       'BLR', 'WHO_EURO', 'CZE', 'EST', 'FRA', 'GRC', 'ISR', 'KAZ', 'ITA',\n",
       "       'UZB', 'NORDIC', 'HRV', 'NOR', 'LUX', 'DNK', 'ROU', 'DEU', 'ESP',\n",
       "       'LVA', 'POL', 'MNE', 'PRT', 'RUS', 'SVK', 'SVN', 'TJK', 'KGZ',\n",
       "       'CIS', 'CHE', 'LTU', 'NLD', 'TKM', 'SWE', 'CYP', 'EU_MEMBERS',\n",
       "       'SMR', 'MDA', 'EU_AFTER_MAY2004', 'CARINFONET', 'SRB',\n",
       "       'EU_BEFORE_MAY2004', 'SEEHN', 'TUR', 'SMALL'], dtype=object)"
      ]
     },
     "execution_count": 27,
     "metadata": {},
     "output_type": "execute_result"
    }
   ],
   "source": [
    "df['country'].unique()"
   ]
  },
  {
   "cell_type": "markdown",
   "metadata": {},
   "source": [
    "- There are some country groups, i will exclude them from analysis"
   ]
  },
  {
   "cell_type": "code",
   "execution_count": 29,
   "metadata": {},
   "outputs": [],
   "source": [
    "df = df.loc[~df['country'].isin([\n",
    "    'WHO_EURO',\n",
    "    'EU_MEMBERS',\n",
    "    'EU_BEFORE_MAY2004',\n",
    "    'EU_AFTER_MAY2004',\n",
    "    'CIS',\n",
    "    'CARINFONET',\n",
    "    'SEEHN',\n",
    "    'NORDIC',\n",
    "    'SMALL'\n",
    "])]"
   ]
  },
  {
   "cell_type": "code",
   "execution_count": 30,
   "metadata": {},
   "outputs": [
    {
     "data": {
      "text/html": [
       "<div>\n",
       "<style scoped>\n",
       "    .dataframe tbody tr th:only-of-type {\n",
       "        vertical-align: middle;\n",
       "    }\n",
       "\n",
       "    .dataframe tbody tr th {\n",
       "        vertical-align: top;\n",
       "    }\n",
       "\n",
       "    .dataframe thead th {\n",
       "        text-align: right;\n",
       "    }\n",
       "</style>\n",
       "<table border=\"1\" class=\"dataframe\">\n",
       "  <thead>\n",
       "    <tr style=\"text-align: right;\">\n",
       "      <th></th>\n",
       "      <th>code</th>\n",
       "      <th>sex</th>\n",
       "      <th>country</th>\n",
       "      <th>year</th>\n",
       "      <th>value</th>\n",
       "      <th>description</th>\n",
       "    </tr>\n",
       "  </thead>\n",
       "  <tbody>\n",
       "    <tr>\n",
       "      <td>0</td>\n",
       "      <td>HFA_1</td>\n",
       "      <td>ALL</td>\n",
       "      <td>ALB</td>\n",
       "      <td>1970</td>\n",
       "      <td>2138000.0</td>\n",
       "      <td>Mid-year population, by sex</td>\n",
       "    </tr>\n",
       "    <tr>\n",
       "      <td>1</td>\n",
       "      <td>HFA_1</td>\n",
       "      <td>ALL</td>\n",
       "      <td>ALB</td>\n",
       "      <td>1971</td>\n",
       "      <td>2195600.0</td>\n",
       "      <td>Mid-year population, by sex</td>\n",
       "    </tr>\n",
       "    <tr>\n",
       "      <td>2</td>\n",
       "      <td>HFA_1</td>\n",
       "      <td>ALL</td>\n",
       "      <td>ALB</td>\n",
       "      <td>1972</td>\n",
       "      <td>2253200.0</td>\n",
       "      <td>Mid-year population, by sex</td>\n",
       "    </tr>\n",
       "    <tr>\n",
       "      <td>3</td>\n",
       "      <td>HFA_1</td>\n",
       "      <td>ALL</td>\n",
       "      <td>ALB</td>\n",
       "      <td>1973</td>\n",
       "      <td>2310800.0</td>\n",
       "      <td>Mid-year population, by sex</td>\n",
       "    </tr>\n",
       "    <tr>\n",
       "      <td>4</td>\n",
       "      <td>HFA_1</td>\n",
       "      <td>ALL</td>\n",
       "      <td>ALB</td>\n",
       "      <td>1974</td>\n",
       "      <td>2368400.0</td>\n",
       "      <td>Mid-year population, by sex</td>\n",
       "    </tr>\n",
       "  </tbody>\n",
       "</table>\n",
       "</div>"
      ],
      "text/plain": [
       "    code  sex country  year      value                  description\n",
       "0  HFA_1  ALL     ALB  1970  2138000.0  Mid-year population, by sex\n",
       "1  HFA_1  ALL     ALB  1971  2195600.0  Mid-year population, by sex\n",
       "2  HFA_1  ALL     ALB  1972  2253200.0  Mid-year population, by sex\n",
       "3  HFA_1  ALL     ALB  1973  2310800.0  Mid-year population, by sex\n",
       "4  HFA_1  ALL     ALB  1974  2368400.0  Mid-year population, by sex"
      ]
     },
     "execution_count": 30,
     "metadata": {},
     "output_type": "execute_result"
    }
   ],
   "source": [
    "df.head()"
   ]
  },
  {
   "cell_type": "markdown",
   "metadata": {},
   "source": [
    " ### Post-soviet countries (labeled as 'east' for the purpose of the analysis) \n",
    "- Armenia: 'ARM'\n",
    "- Azerbaijan: 'AZE'\n",
    "- Belarus: 'BLR'\n",
    "- Estonia: 'EST'\n",
    "- Georgia: 'GEO'\n",
    "- Kazakhstan: 'KAZ'\n",
    "- Kyrgyzstan: 'KGZ'\n",
    "- Latvia: 'LTV'\n",
    "- Lithuania: 'LTU'\n",
    "- Moldova: 'MDA'\n",
    "- Russia: 'RUS'\n",
    "- Tajikistan: 'TJK'\n",
    "- Turkmenistan: 'TKM' \n",
    "- Ukraine: 'UKR'\n",
    "- Uzbekistan: 'UZB'\n",
    "- Poland: 'POL' (Poland was not part of the Soviet Union, but it was considered a Soviet “satellite state” with a Communist government friendly to Moscow who was the real power)"
   ]
  },
  {
   "cell_type": "code",
   "execution_count": 31,
   "metadata": {},
   "outputs": [],
   "source": [
    "east = ['RUS','EST','KAZ','KGZ','MDA','LTV','BLR','UKR','POL','UZB','TKM','AZE','TJK','LTU','ARM' ,'GEO']"
   ]
  },
  {
   "cell_type": "markdown",
   "metadata": {},
   "source": [
    "#### Selecting a time span for the analysis: 1985 to 2014"
   ]
  },
  {
   "cell_type": "code",
   "execution_count": 32,
   "metadata": {},
   "outputs": [],
   "source": [
    "df = df[(df['year'] >= 1985)\n",
    "               & (df['year'] <= 2014)]"
   ]
  },
  {
   "cell_type": "markdown",
   "metadata": {},
   "source": [
    "### Adding a column to distinguish east (post-Soviet Union countries and Poland) from the rest (west"
   ]
  },
  {
   "cell_type": "code",
   "execution_count": 34,
   "metadata": {},
   "outputs": [],
   "source": [
    "df['east west'] = np.where(df['country'].isin(east), 'east', 'west')"
   ]
  },
  {
   "cell_type": "markdown",
   "metadata": {},
   "source": [
    "### Save the clean df as a csv file for the analysis and visualization"
   ]
  },
  {
   "cell_type": "code",
   "execution_count": 35,
   "metadata": {},
   "outputs": [],
   "source": [
    "df.to_csv('hfa_clean.csv' ,index=False)"
   ]
  }
 ],
 "metadata": {
  "kernelspec": {
   "display_name": "Python 3",
   "language": "python",
   "name": "python3"
  },
  "language_info": {
   "codemirror_mode": {
    "name": "ipython",
    "version": 3
   },
   "file_extension": ".py",
   "mimetype": "text/x-python",
   "name": "python",
   "nbconvert_exporter": "python",
   "pygments_lexer": "ipython3",
   "version": "3.7.4"
  }
 },
 "nbformat": 4,
 "nbformat_minor": 2
}
