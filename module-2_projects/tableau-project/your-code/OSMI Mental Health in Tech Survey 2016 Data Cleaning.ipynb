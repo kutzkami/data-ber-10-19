{
 "cells": [
  {
   "cell_type": "code",
   "execution_count": 1,
   "metadata": {},
   "outputs": [],
   "source": [
    "import pandas as pd\n",
    "import numpy as np\n",
    "import re"
   ]
  },
  {
   "cell_type": "code",
   "execution_count": 2,
   "metadata": {},
   "outputs": [],
   "source": [
    "#https://www.kaggle.com/osmi/mental-health-in-tech-2016#mental-heath-in-tech-2016_20161114.csv\n",
    "mhealth = pd.read_csv('../mental-heath-in-tech-2016_20161114.csv')"
   ]
  },
  {
   "cell_type": "code",
   "execution_count": 3,
   "metadata": {},
   "outputs": [],
   "source": [
    "# cleaning gender column\n",
    "gender = mhealth['What is your gender?'].tolist()\n",
    "clean_gender = ([str(i)\n",
    "                 .lower()\n",
    "                 .strip()\n",
    "                 .replace('cis', '')\n",
    "                 .replace('-', '')\n",
    "                 .replace('()', '')\n",
    "                 \n",
    "                 .replace('woman', 'female')\n",
    "                 .replace('afab', 'female')\n",
    "                 .replace('gender female', 'female')\n",
    "                 .replace('transitioned, m2f','female')\n",
    "                 .replace('transfemale','female')\n",
    "                 .replace('i identify as female.' , 'female')\n",
    "                 .replace('female/female','female')\n",
    "                 .replace('female assigned at birth','female')\n",
    "                 .replace('female (props for making this a freeform field, though)','female')\n",
    "                 .replace('fm', 'female')\n",
    "                 .replace('mtf', 'female')\n",
    "                 \n",
    "                 .replace('dude','male')\n",
    "                 .replace('mail','male')\n",
    "                 .replace('malr', 'male')\n",
    "                 .replace('sex is male','male')\n",
    "                 .replace('m|', 'male')\n",
    "                 .replace('male.' , 'male')\n",
    "                 .replace('man' , 'male')\n",
    "                 .replace('male (trans, ftm)' , 'male')\n",
    "                 .replace(\"i'm a male why didn't you make this a drop down question. you should of asked sex? and i would of answered yes please. seriously how much text can this take?\", 'male')                 \n",
    "                 \n",
    "                 .replace('agender', 'diverse')\n",
    "                 .replace('androgynous', 'diverse')\n",
    "                 .replace('bigender', 'diverse')\n",
    "                 .replace('enby', 'diverse')\n",
    "                 .replace('human', 'diverse')\n",
    "                 .replace('other', 'diverse')  \n",
    "                 .replace('nonbinary', 'diverse')\n",
    "                 .replace('nan', 'diverse')\n",
    "                 .replace('queer', 'diverse')\n",
    "                 .replace('none of your business','diverse')\n",
    "                 .replace('nb masculine','diverse')\n",
    "                 .replace('male/genderqueer' , 'diverse')\n",
    "                 .replace('male 9:1 female, roughly', 'diverse')\n",
    "                 .replace('genderqueer female', 'diverse')\n",
    "                 .replace('genderqueer', 'diverse')\n",
    "                 .replace('genderflux demigirl', 'diverse')\n",
    "                 .replace('genderfluid (born female)', 'diverse')\n",
    "                 .replace('fluid', 'diverse')\n",
    "                 .replace('femalebodied; no feelings about gender', 'diverse')\n",
    "                 .replace('female or multigender femme', 'diverse')\n",
    "                 .replace('diverse/transfeminine', 'diverse')\n",
    "                 .replace('genderdiverse', 'diverse')\n",
    "                 .replace('genderdiverse female', 'diverse')\n",
    "                 .replace('diverse female','diverse')\n",
    "                 .replace('humale', 'diverse')\n",
    "                 .replace('male/diverse', 'diverse')\n",
    "                 .replace('unicorn', 'diverse')\n",
    "                 .strip()\n",
    "\n",
    "                 for i in gender])\n",
    "\n",
    "cleaner_gender=[]\n",
    "\n",
    "for i in clean_gender:\n",
    "    if i == 'm':\n",
    "        cleaner_gender.append('male')\n",
    "        continue\n",
    "    if i == 'f' or i =='fem':\n",
    "        cleaner_gender.append('male')\n",
    "        continue\n",
    "    else:\n",
    "        cleaner_gender.append(i)\n",
    "        continue\n",
    "        "
   ]
  },
  {
   "cell_type": "code",
   "execution_count": 4,
   "metadata": {},
   "outputs": [],
   "source": [
    "mhealth['Gender'] = cleaner_gender"
   ]
  },
  {
   "cell_type": "code",
   "execution_count": 5,
   "metadata": {},
   "outputs": [],
   "source": [
    "mhealth = mhealth.drop(columns='What is your gender?')"
   ]
  },
  {
   "cell_type": "code",
   "execution_count": 6,
   "metadata": {},
   "outputs": [],
   "source": [
    "health = mhealth.copy()"
   ]
  },
  {
   "cell_type": "code",
   "execution_count": 15,
   "metadata": {},
   "outputs": [],
   "source": [
    "# ranaming some column names\n",
    "health = health.rename(columns={\n",
    "    'What is your age?':'Age',\n",
    "    'What country do you live in?':'Country of residence',\n",
    "    'What country do you work in?': 'Country of work',\n",
    "    'What US state or territory do you live in?': 'US state or territory of residence',\n",
    "    'What US state or territory do you work in?' :'US state or territory of work',\n",
    "    'Which of the following best describes your work position?': 'Work position',\n",
    "    'Do you work remotely?': 'Remote work Y/N',\n",
    "    'Are you self-employed?': 'Self-employed Y/N',\n",
    "    'How many employees does your company or organization have?' : 'Company size',\n",
    "    'Is your employer primarily a tech company/organization?' : 'Company type: tech Y/N',\n",
    "    'Is your primary role within your company related to tech/IT?' : 'Tech-related role Y/N',\n",
    "    'Does your employer provide mental health benefits as part of healthcare coverage?': 'Employer-provided mental health benefits',\n",
    "    'Do you know the options for mental health care available under your employer-provided coverage?':'Employer-provided mental health options',\n",
    "    'Has your employer ever formally discussed mental health (for example, as part of a wellness campaign or other official communication)?' : 'Employer formally discusses mental health',\n",
    "    'Does your employer offer resources to learn more about mental health concerns and options for seeking help?': 'Employer provides resources to learn about mental health',\n",
    "    'If a mental health issue prompted you to request a medical leave from work, asking for that leave would be:': 'Medical leave from work based on mental health issues?',\n",
    "    'Do you have a family history of mental illness?': 'Family history of mental illness Y/N',\n",
    "    'Have you had a mental health disorder in the past?': 'History of mental health disorder',\n",
    "    'Do you currently have a mental health disorder?': 'Current mental health disorder Y/N',\n",
    "    'Have you been diagnosed with a mental health condition by a medical professional?' :'Diagnosed mental disorderd Y/N',\n",
    "    'If so, what condition(s) were you diagnosed with?' : 'Diagnosed condition'\n",
    "                       })\n"
   ]
  },
  {
   "cell_type": "code",
   "execution_count": 10,
   "metadata": {},
   "outputs": [],
   "source": [
    "health = health[health.Age < 85]\n",
    "health = health[health.Age > 5]"
   ]
  },
  {
   "cell_type": "code",
   "execution_count": 11,
   "metadata": {},
   "outputs": [],
   "source": [
    "# Counting how many positions people have\n",
    "health['No of work positions'] =  health['Work position'].str.split('|').str.len()\n",
    "\n",
    "# Sorting the position's in case people have more than 2 responsibilites\n",
    "health['Work position'] = health['Work position'].apply(lambda x: '|'.join(sorted(x.split('|'))))"
   ]
  },
  {
   "cell_type": "code",
   "execution_count": 12,
   "metadata": {},
   "outputs": [],
   "source": [
    "# cleaning the mental disorder column\n",
    "disorders = health['If yes, what condition(s) have you been diagnosed with?']\n",
    "\n",
    "o = []\n",
    "for i in disorders:\n",
    "    if type(i) == str:        \n",
    "        o.append(('|').join(re.sub('\\(.*?\\)','',i).strip().split(' |')).split('|'))\n",
    "    else:\n",
    "        o.append(i)\n",
    "o\n",
    "\n",
    "health['If yes, what condition(s) have you been diagnosed with?'] = o"
   ]
  },
  {
   "cell_type": "code",
   "execution_count": 14,
   "metadata": {},
   "outputs": [],
   "source": [
    "# Saving the fle\n",
    "health.to_csv('mental_health_tech.csv')"
   ]
  },
  {
   "cell_type": "code",
   "execution_count": null,
   "metadata": {},
   "outputs": [],
   "source": []
  }
 ],
 "metadata": {
  "kernelspec": {
   "display_name": "Python 3",
   "language": "python",
   "name": "python3"
  },
  "language_info": {
   "codemirror_mode": {
    "name": "ipython",
    "version": 3
   },
   "file_extension": ".py",
   "mimetype": "text/x-python",
   "name": "python",
   "nbconvert_exporter": "python",
   "pygments_lexer": "ipython3",
   "version": "3.7.4"
  }
 },
 "nbformat": 4,
 "nbformat_minor": 2
}
